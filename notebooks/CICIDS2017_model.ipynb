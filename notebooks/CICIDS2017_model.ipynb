{
 "cells": [
  {
   "cell_type": "code",
   "execution_count": 1,
   "id": "3e93ab25",
   "metadata": {},
   "outputs": [],
   "source": [
    "import pandas as pd\n",
    "import numpy as np\n",
    "import joblib"
   ]
  },
  {
   "cell_type": "code",
   "execution_count": 2,
   "id": "fb78d125",
   "metadata": {},
   "outputs": [
    {
     "name": "stdout",
     "output_type": "stream",
     "text": [
      "          Destination Port   Flow Duration   Total Fwd Packets  \\\n",
      "0                    54865               3                   2   \n",
      "1                    55054             109                   1   \n",
      "2                    55055              52                   1   \n",
      "3                    46236              34                   1   \n",
      "4                    54863               3                   2   \n",
      "...                    ...             ...                 ...   \n",
      "2830738                 53           32215                   4   \n",
      "2830739                 53             324                   2   \n",
      "2830740              58030              82                   2   \n",
      "2830741                 53         1048635                   6   \n",
      "2830742                 53           94939                   4   \n",
      "\n",
      "          Total Backward Packets  Total Length of Fwd Packets  \\\n",
      "0                              0                           12   \n",
      "1                              1                            6   \n",
      "2                              1                            6   \n",
      "3                              1                            6   \n",
      "4                              0                           12   \n",
      "...                          ...                          ...   \n",
      "2830738                        2                          112   \n",
      "2830739                        2                           84   \n",
      "2830740                        1                           31   \n",
      "2830741                        2                          192   \n",
      "2830742                        2                          188   \n",
      "\n",
      "          Total Length of Bwd Packets   Fwd Packet Length Max  \\\n",
      "0                                   0                       6   \n",
      "1                                   6                       6   \n",
      "2                                   6                       6   \n",
      "3                                   6                       6   \n",
      "4                                   0                       6   \n",
      "...                               ...                     ...   \n",
      "2830738                           152                      28   \n",
      "2830739                           362                      42   \n",
      "2830740                             6                      31   \n",
      "2830741                           256                      32   \n",
      "2830742                           226                      47   \n",
      "\n",
      "          Fwd Packet Length Min   Fwd Packet Length Mean  \\\n",
      "0                             6                      6.0   \n",
      "1                             6                      6.0   \n",
      "2                             6                      6.0   \n",
      "3                             6                      6.0   \n",
      "4                             6                      6.0   \n",
      "...                         ...                      ...   \n",
      "2830738                      28                     28.0   \n",
      "2830739                      42                     42.0   \n",
      "2830740                       0                     15.5   \n",
      "2830741                      32                     32.0   \n",
      "2830742                      47                     47.0   \n",
      "\n",
      "          Fwd Packet Length Std  ...   min_seg_size_forward  Active Mean  \\\n",
      "0                       0.00000  ...                     20          0.0   \n",
      "1                       0.00000  ...                     20          0.0   \n",
      "2                       0.00000  ...                     20          0.0   \n",
      "3                       0.00000  ...                     20          0.0   \n",
      "4                       0.00000  ...                     20          0.0   \n",
      "...                         ...  ...                    ...          ...   \n",
      "2830738                 0.00000  ...                     20          0.0   \n",
      "2830739                 0.00000  ...                     20          0.0   \n",
      "2830740                21.92031  ...                     32          0.0   \n",
      "2830741                 0.00000  ...                     20          0.0   \n",
      "2830742                 0.00000  ...                     20          0.0   \n",
      "\n",
      "          Active Std   Active Max   Active Min  Idle Mean   Idle Std  \\\n",
      "0                0.0            0            0        0.0        0.0   \n",
      "1                0.0            0            0        0.0        0.0   \n",
      "2                0.0            0            0        0.0        0.0   \n",
      "3                0.0            0            0        0.0        0.0   \n",
      "4                0.0            0            0        0.0        0.0   \n",
      "...              ...          ...          ...        ...        ...   \n",
      "2830738          0.0            0            0        0.0        0.0   \n",
      "2830739          0.0            0            0        0.0        0.0   \n",
      "2830740          0.0            0            0        0.0        0.0   \n",
      "2830741          0.0            0            0        0.0        0.0   \n",
      "2830742          0.0            0            0        0.0        0.0   \n",
      "\n",
      "          Idle Max   Idle Min   Label  \n",
      "0                0          0  BENIGN  \n",
      "1                0          0  BENIGN  \n",
      "2                0          0  BENIGN  \n",
      "3                0          0  BENIGN  \n",
      "4                0          0  BENIGN  \n",
      "...            ...        ...     ...  \n",
      "2830738          0          0  BENIGN  \n",
      "2830739          0          0  BENIGN  \n",
      "2830740          0          0  BENIGN  \n",
      "2830741          0          0  BENIGN  \n",
      "2830742          0          0  BENIGN  \n",
      "\n",
      "[2830743 rows x 79 columns]\n"
     ]
    }
   ],
   "source": [
    "ddos = pd.read_csv('../datasets/CICIDS2017/Friday-WorkingHours-Afternoon-DDos.pcap_ISCX.csv')\n",
    "portscan = pd.read_csv('../datasets/CICIDS2017/Friday-WorkingHours-Afternoon-PortScan.pcap_ISCX.csv')\n",
    "friday = pd.read_csv('../datasets/CICIDS2017/Friday-WorkingHours-Morning.pcap_ISCX.csv')\n",
    "monday = pd.read_csv('../datasets/CICIDS2017/Monday-WorkingHours.pcap_ISCX.csv')\n",
    "infiltration = pd.read_csv('../datasets/CICIDS2017/Thursday-WorkingHours-Afternoon-Infilteration.pcap_ISCX.csv')\n",
    "webattacks = pd.read_csv('../datasets/CICIDS2017/Thursday-WorkingHours-Morning-WebAttacks.pcap_ISCX.csv')\n",
    "tuesday = pd.read_csv('../datasets/CICIDS2017/Tuesday-WorkingHours.pcap_ISCX.csv')\n",
    "wednesday = pd.read_csv('../datasets/CICIDS2017/Wednesday-workingHours.pcap_ISCX.csv')\n",
    "\n",
    "df = pd.concat([ddos, portscan, friday, monday, infiltration, webattacks, tuesday, wednesday], ignore_index=True)\n",
    "\n",
    "print(df)"
   ]
  },
  {
   "cell_type": "markdown",
   "id": "38132892",
   "metadata": {},
   "source": [
    "### Missing datas\n",
    "useless here because no missing datas"
   ]
  },
  {
   "cell_type": "code",
   "execution_count": 3,
   "id": "34ad6b72",
   "metadata": {},
   "outputs": [
    {
     "name": "stdout",
     "output_type": "stream",
     "text": [
      "Missing datas by columns :\n",
      "  Destination Port              0\n",
      " Flow Duration                 0\n",
      " Total Fwd Packets             0\n",
      " Total Backward Packets        0\n",
      "Total Length of Fwd Packets    0\n",
      "                              ..\n",
      "Idle Mean                      0\n",
      " Idle Std                      0\n",
      " Idle Max                      0\n",
      " Idle Min                      0\n",
      " Label                         0\n",
      "Length: 79, dtype: int64\n"
     ]
    }
   ],
   "source": [
    "from sklearn.impute import SimpleImputer # to handle missing data\n",
    "from sklearn.model_selection import train_test_split\n",
    "from sklearn.preprocessing import StandardScaler\n",
    "\n",
    "print(\"Missing datas by columns :\\n\", df.isnull().sum())\n",
    "\n",
    "#here there is no missing data so we don't have to manage this\n",
    "\n",
    "df.replace([np.inf, -np.inf], np.nan, inplace=True)\n",
    "numeric_cols = df.select_dtypes(include=['int64', 'float64']).columns\n",
    "\n",
    "\n",
    "imputer = SimpleImputer(strategy='mean') \n",
    "df[numeric_cols] = imputer.fit_transform(df[numeric_cols])"
   ]
  },
  {
   "cell_type": "markdown",
   "id": "39112713",
   "metadata": {},
   "source": [
    "### Separing datas and labels"
   ]
  },
  {
   "cell_type": "code",
   "execution_count": 4,
   "id": "57f1b8a8",
   "metadata": {},
   "outputs": [],
   "source": [
    "df.columns = df.columns.str.strip() # to clean spaces on the columns names\n",
    "X = df.drop(columns=['Label']) # without labels\n",
    "Y = df['Label'] # just labels"
   ]
  },
  {
   "cell_type": "markdown",
   "id": "18874cda",
   "metadata": {},
   "source": [
    "### Encoding categorical data\n",
    "Difference between Label and OneHot : \\\n",
    "                                      - Label gives a number in int for each line (simple but the model could misunderstand the difference between numbers (priorities issues))\\\n",
    "                                      - OneHot encodes in binary columns (no hierarchy between column but a lot of columns if they are a lot of categories to label)"
   ]
  },
  {
   "cell_type": "code",
   "execution_count": 5,
   "id": "066dfe2d",
   "metadata": {},
   "outputs": [
    {
     "name": "stdout",
     "output_type": "stream",
     "text": [
      "0          0\n",
      "1          0\n",
      "2          0\n",
      "3          0\n",
      "4          0\n",
      "          ..\n",
      "2830738    0\n",
      "2830739    0\n",
      "2830740    0\n",
      "2830741    0\n",
      "2830742    0\n",
      "Name: Label, Length: 2830743, dtype: int64\n"
     ]
    }
   ],
   "source": [
    "from sklearn.compose import ColumnTransformer\n",
    "from sklearn.preprocessing import LabelEncoder, OneHotEncoder\n",
    "\n",
    "# no need of OneHotEncoder because all columns except Label are numerical columns\n",
    "\n",
    "Y = Y.apply(lambda x: 0 if x == 'BENIGN' else 1) # because we have several types of attacks and we wants bianaries Y\n",
    "\n",
    "print(Y)"
   ]
  },
  {
   "cell_type": "markdown",
   "id": "33223d5e",
   "metadata": {},
   "source": [
    "### Splitting into training set and test set\n",
    "Split dataset into training and testing sets (70/30)"
   ]
  },
  {
   "cell_type": "code",
   "execution_count": 6,
   "id": "46b1b19c",
   "metadata": {},
   "outputs": [
    {
     "name": "stdout",
     "output_type": "stream",
     "text": [
      "         Destination Port  Flow Duration  Total Fwd Packets  \\\n",
      "2092860              53.0        64428.0                2.0   \n",
      "2140044             443.0       757414.0               12.0   \n",
      "1590488              53.0       184165.0                4.0   \n",
      "128477            54342.0      1863306.0                6.0   \n",
      "1336329              53.0          235.0                2.0   \n",
      "...                   ...            ...                ...   \n",
      "2249467              80.0     85562173.0                8.0   \n",
      "963395              443.0    118654701.0               45.0   \n",
      "2215104              80.0     87497358.0                8.0   \n",
      "1484405             443.0      1543512.0                8.0   \n",
      "305711               80.0    115280042.0               16.0   \n",
      "\n",
      "         Total Backward Packets  Total Length of Fwd Packets  \\\n",
      "2092860                     2.0                         78.0   \n",
      "2140044                     8.0                        545.0   \n",
      "1590488                     2.0                        132.0   \n",
      "128477                      2.0                      11607.0   \n",
      "1336329                     2.0                         62.0   \n",
      "...                         ...                          ...   \n",
      "2249467                     5.0                        376.0   \n",
      "963395                     78.0                        734.0   \n",
      "2215104                     5.0                        350.0   \n",
      "1484405                    10.0                        703.0   \n",
      "305711                     14.0                        419.0   \n",
      "\n",
      "         Total Length of Bwd Packets  Fwd Packet Length Max  \\\n",
      "2092860                        148.0                   39.0   \n",
      "2140044                       3854.0                  199.0   \n",
      "1590488                        246.0                   33.0   \n",
      "128477                          26.0                 7215.0   \n",
      "1336329                         94.0                   31.0   \n",
      "...                              ...                    ...   \n",
      "2249467                      11595.0                  370.0   \n",
      "963395                      136087.0                  353.0   \n",
      "2215104                      11595.0                  350.0   \n",
      "1484405                       3950.0                  267.0   \n",
      "305711                        1767.0                  419.0   \n",
      "\n",
      "         Fwd Packet Length Min  Fwd Packet Length Mean  Fwd Packet Length Std  \\\n",
      "2092860                   39.0               39.000000               0.000000   \n",
      "2140044                    0.0               45.416667              72.054851   \n",
      "1590488                   33.0               33.000000               0.000000   \n",
      "128477                     0.0             1934.500000            3123.682298   \n",
      "1336329                   31.0               31.000000               0.000000   \n",
      "...                        ...                     ...                    ...   \n",
      "2249467                    0.0               47.000000             130.528596   \n",
      "963395                     0.0               16.311111              63.099064   \n",
      "2215104                    0.0               43.750000             123.743687   \n",
      "1484405                    0.0               87.875000             105.902162   \n",
      "305711                     0.0               26.187500             104.750000   \n",
      "\n",
      "         ...  act_data_pkt_fwd  min_seg_size_forward   Active Mean  \\\n",
      "2092860  ...               1.0                  20.0      0.000000   \n",
      "2140044  ...              11.0                  20.0      0.000000   \n",
      "1590488  ...               3.0                  20.0      0.000000   \n",
      "128477   ...               4.0                  20.0      0.000000   \n",
      "1336329  ...               1.0                  20.0      0.000000   \n",
      "...      ...               ...                   ...           ...   \n",
      "2249467  ...               2.0                  20.0   2989.000000   \n",
      "963395   ...               4.0                  32.0  35395.416667   \n",
      "2215104  ...               1.0                  32.0      8.000000   \n",
      "1484405  ...               4.0                  32.0      0.000000   \n",
      "305711   ...               1.0                  32.0  42530.363640   \n",
      "\n",
      "           Active Std  Active Max  Active Min     Idle Mean       Idle Std  \\\n",
      "2092860      0.000000         0.0         0.0  0.000000e+00       0.000000   \n",
      "2140044      0.000000         0.0         0.0  0.000000e+00       0.000000   \n",
      "1590488      0.000000         0.0         0.0  0.000000e+00       0.000000   \n",
      "128477       0.000000         0.0         0.0  0.000000e+00       0.000000   \n",
      "1336329      0.000000         0.0         0.0  0.000000e+00       0.000000   \n",
      "...               ...         ...         ...           ...            ...   \n",
      "2249467      0.000000      2989.0      2989.0  8.440000e+07       0.000000   \n",
      "963395   40019.555053    162470.0     23573.0  9.852496e+06  577048.345035   \n",
      "2215104      0.000000         8.0         8.0  8.450000e+07       0.000000   \n",
      "1484405      0.000000         0.0         0.0  0.000000e+00       0.000000   \n",
      "305711   12309.390600     79643.0     38700.0  1.000000e+07    3587.066994   \n",
      "\n",
      "           Idle Max    Idle Min  \n",
      "2092860         0.0         0.0  \n",
      "2140044         0.0         0.0  \n",
      "1590488         0.0         0.0  \n",
      "128477          0.0         0.0  \n",
      "1336329         0.0         0.0  \n",
      "...             ...         ...  \n",
      "2249467  84400000.0  84400000.0  \n",
      "963395   10024451.0   8020740.0  \n",
      "2215104  84500000.0  84500000.0  \n",
      "1484405         0.0         0.0  \n",
      "305711   10000000.0   9998346.0  \n",
      "\n",
      "[1981520 rows x 78 columns]\n"
     ]
    }
   ],
   "source": [
    "X_train, X_test, Y_train, Y_test = train_test_split(X, Y, test_size=0.3, random_state=0)\n",
    "print(X_train)"
   ]
  },
  {
   "cell_type": "markdown",
   "id": "f377e3ba",
   "metadata": {},
   "source": [
    "### Feature Scaling\n",
    "To have the same scale between each columns (for instance, `Flow Duration` is way bigger than `Tot Fwd Pkts` and the model could misinterpret it and gives more importance to the Income column)"
   ]
  },
  {
   "cell_type": "code",
   "execution_count": 7,
   "id": "c98604af",
   "metadata": {},
   "outputs": [
    {
     "name": "stdout",
     "output_type": "stream",
     "text": [
      "X_train :\n",
      "          Destination Port  Flow Duration  Total Fwd Packets  \\\n",
      "2092860         -0.438875      -0.437708          -0.009742   \n",
      "2140044         -0.417554      -0.417124           0.003378   \n",
      "1590488         -0.438875      -0.434152          -0.007118   \n",
      "128477           2.529153      -0.384276          -0.004494   \n",
      "1336329         -0.438875      -0.439615          -0.009742   \n",
      "...                   ...            ...                ...   \n",
      "2249467         -0.437399       2.101863          -0.001870   \n",
      "963395          -0.417554       3.084823           0.046673   \n",
      "2215104         -0.437399       2.159344          -0.001870   \n",
      "1484405         -0.417554      -0.393775          -0.001870   \n",
      "305711          -0.437399       2.984584           0.008626   \n",
      "\n",
      "         Total Backward Packets  Total Length of Fwd Packets  \\\n",
      "2092860               -0.008360                    -0.041870   \n",
      "2140044               -0.002448                    -0.000787   \n",
      "1590488               -0.008360                    -0.037120   \n",
      "128477                -0.008360                     0.972364   \n",
      "1336329               -0.008360                    -0.043278   \n",
      "...                         ...                          ...   \n",
      "2249467               -0.005404                    -0.015654   \n",
      "963395                 0.066519                     0.015840   \n",
      "2215104               -0.005404                    -0.017942   \n",
      "1484405               -0.000478                     0.013113   \n",
      "305711                 0.003463                    -0.011871   \n",
      "\n",
      "         Total Length of Bwd Packets  Fwd Packet Length Max  \\\n",
      "2092860                    -0.007053              -0.235154   \n",
      "2140044                    -0.005440              -0.011632   \n",
      "1590488                    -0.007010              -0.243536   \n",
      "128477                     -0.007106               9.789827   \n",
      "1336329                    -0.007076              -0.246330   \n",
      "...                              ...                    ...   \n",
      "2249467                    -0.002072               0.227258   \n",
      "963395                      0.052090               0.203509   \n",
      "2215104                    -0.002072               0.199318   \n",
      "1484405                    -0.005399               0.083365   \n",
      "305711                     -0.006348               0.295712   \n",
      "\n",
      "         Fwd Packet Length Min  Fwd Packet Length Mean  Fwd Packet Length Std  \\\n",
      "2092860               0.338573               -0.102952              -0.245496   \n",
      "2140044              -0.311286               -0.068393               0.011659   \n",
      "1590488               0.238595               -0.135267              -0.245496   \n",
      "128477               -0.311286               10.105851              10.902538   \n",
      "1336329               0.205269               -0.146039              -0.245496   \n",
      "...                        ...                     ...                    ...   \n",
      "2249467              -0.311286               -0.059866               0.220344   \n",
      "963395               -0.311286               -0.225150              -0.020303   \n",
      "2215104              -0.311286               -0.077370               0.196130   \n",
      "1484405              -0.311286                0.160279               0.132456   \n",
      "305711               -0.311286               -0.171958               0.128344   \n",
      "\n",
      "         ...  act_data_pkt_fwd  min_seg_size_forward  Active Mean  Active Std  \\\n",
      "2092860  ...         -0.006953              0.002673    -0.126183   -0.104258   \n",
      "2140044  ...          0.008037              0.002673    -0.126183   -0.104258   \n",
      "1590488  ...         -0.003955              0.002673    -0.126183   -0.104258   \n",
      "128477   ...         -0.002456              0.002673    -0.126183   -0.104258   \n",
      "1336329  ...         -0.006953              0.002673    -0.126183   -0.104258   \n",
      "...      ...               ...                   ...          ...         ...   \n",
      "2249467  ...         -0.005454              0.002673    -0.121572   -0.104258   \n",
      "963395   ...         -0.002456              0.002684    -0.071580   -0.003426   \n",
      "2215104  ...         -0.006953              0.002684    -0.126171   -0.104258   \n",
      "1484405  ...         -0.002456              0.002684    -0.126183   -0.104258   \n",
      "305711   ...         -0.006953              0.002684    -0.060573   -0.073243   \n",
      "\n",
      "         Active Max  Active Min  Idle Mean  Idle Std  Idle Max  Idle Min  \n",
      "2092860   -0.149611   -0.101547  -0.352125 -0.109744 -0.357097 -0.339135  \n",
      "2140044   -0.149611   -0.101547  -0.352125 -0.109744 -0.357097 -0.339135  \n",
      "1590488   -0.149611   -0.101547  -0.352125 -0.109744 -0.357097 -0.339135  \n",
      "128477    -0.149611   -0.101547  -0.352125 -0.109744 -0.357097 -0.339135  \n",
      "1336329   -0.149611   -0.101547  -0.352125 -0.109744 -0.357097 -0.339135  \n",
      "...             ...         ...        ...       ...       ...       ...  \n",
      "2249467   -0.146703   -0.096353   3.217781 -0.109744  3.104644  3.271563  \n",
      "963395     0.008457   -0.060578   0.064610  0.015371  0.054064  0.003999  \n",
      "2215104   -0.149603   -0.101534   3.222010 -0.109744  3.108745  3.275841  \n",
      "1484405   -0.149611   -0.101547  -0.352125 -0.109744 -0.357097 -0.339135  \n",
      "305711    -0.072126   -0.034287   0.070850 -0.108966  0.053061  0.088603  \n",
      "\n",
      "[1981520 rows x 78 columns] \n",
      "\n",
      "X_test :\n",
      "          Destination Port  Flow Duration  Total Fwd Packets  \\\n",
      "2267636         -0.417554       0.323379           0.000754   \n",
      "1269317          1.568640      -0.439621          -0.011054   \n",
      "2639132         -0.438875      -0.439617          -0.009742   \n",
      "855855          -0.417554      -0.439620          -0.008430   \n",
      "228054          -0.417554       1.508935           0.020434   \n",
      "...                   ...            ...                ...   \n",
      "1099812          2.437197      -0.439620          -0.011054   \n",
      "190898          -0.437399      -0.438565          -0.008430   \n",
      "562254          -0.435048      -0.438341          -0.011054   \n",
      "1555306         -0.437399       3.046506           0.017810   \n",
      "1287550         -0.438875      -0.437273          -0.009742   \n",
      "\n",
      "         Total Backward Packets  Total Length of Fwd Packets  \\\n",
      "2267636               -0.003434                     0.051469   \n",
      "1269317               -0.009345                    -0.048732   \n",
      "2639132               -0.008360                    -0.042926   \n",
      "855855                -0.010330                    -0.046005   \n",
      "228054                 0.014301                     0.008802   \n",
      "...                         ...                          ...   \n",
      "1099812               -0.009345                    -0.048204   \n",
      "190898                -0.004419                    -0.046445   \n",
      "562254                -0.009345                    -0.044509   \n",
      "1555306                0.007404                     0.150702   \n",
      "1287550               -0.008360                    -0.042750   \n",
      "\n",
      "         Total Length of Bwd Packets  Fwd Packet Length Max  \\\n",
      "2267636                    -0.006825               0.457765   \n",
      "1269317                    -0.007117              -0.289638   \n",
      "2639132                    -0.007043              -0.243536   \n",
      "855855                     -0.007117              -0.246330   \n",
      "228054                      0.005497               0.188142   \n",
      "...                              ...                    ...   \n",
      "1099812                    -0.007114              -0.281256   \n",
      "190898                     -0.002070              -0.261697   \n",
      "562254                     -0.007096              -0.222581   \n",
      "1555306                    -0.005492               0.315270   \n",
      "1287550                    -0.007027              -0.242139   \n",
      "\n",
      "         Fwd Packet Length Min  Fwd Packet Length Mean  Fwd Packet Length Std  \\\n",
      "2267636              -0.311286                0.300445               0.535818   \n",
      "1269317              -0.311286               -0.312999              -0.245496   \n",
      "2639132               0.238595               -0.135267              -0.245496   \n",
      "855855               -0.311286               -0.257346              -0.181621   \n",
      "228054               -0.311286               -0.172106               0.036956   \n",
      "...                        ...                     ...                    ...   \n",
      "1099812              -0.211308               -0.280684              -0.245496   \n",
      "190898               -0.311286               -0.266322              -0.208868   \n",
      "562254                0.488541               -0.054480              -0.245496   \n",
      "1555306              -0.311286                0.217855               0.397716   \n",
      "1287550               0.255258               -0.129881              -0.245496   \n",
      "\n",
      "         ...  act_data_pkt_fwd  min_seg_size_forward  Active Mean  Active Std  \\\n",
      "2267636  ...         -0.003955              0.002684     0.052532    0.178919   \n",
      "1269317  ...         -0.008452              0.002684    -0.126183   -0.104258   \n",
      "2639132  ...         -0.006953              0.002684    -0.126183   -0.104258   \n",
      "855855   ...         -0.008452              0.002684    -0.126183   -0.104258   \n",
      "228054   ...         -0.003955              0.002684     0.261328    0.515900   \n",
      "...      ...               ...                   ...          ...         ...   \n",
      "1099812  ...         -0.008452              0.002673    -0.126183   -0.104258   \n",
      "190898   ...         -0.005454              0.002673    -0.126183   -0.104258   \n",
      "562254   ...         -0.008452              0.002673    -0.126183   -0.104258   \n",
      "1555306  ...          0.024526              0.002673     0.282624    1.804557   \n",
      "1287550  ...         -0.006953              0.002673    -0.126183   -0.104258   \n",
      "\n",
      "         Active Max  Active Min  Idle Mean  Idle Std  Idle Max  Idle Min  \n",
      "2267636    0.040417   -0.038328   0.070673 -0.098762  0.053061  0.086962  \n",
      "1269317   -0.149611   -0.101547  -0.352125 -0.109744 -0.357097 -0.339135  \n",
      "2639132   -0.149611   -0.101547  -0.352125 -0.109744 -0.357097 -0.339135  \n",
      "855855    -0.149611   -0.101547  -0.352125 -0.109744 -0.357097 -0.339135  \n",
      "228054     0.583588    0.160211   0.075079 -0.097694  0.061265  0.088673  \n",
      "...             ...         ...        ...       ...       ...       ...  \n",
      "1099812   -0.149611   -0.101547  -0.352125 -0.109744 -0.357097 -0.339135  \n",
      "190898    -0.149611   -0.101547  -0.352125 -0.109744 -0.357097 -0.339135  \n",
      "562254    -0.149611   -0.101547  -0.352125 -0.109744 -0.357097 -0.339135  \n",
      "1555306    2.330554   -0.038542   0.069900 -0.097727  0.052839  0.080565  \n",
      "1287550   -0.149611   -0.101547  -0.352125 -0.109744 -0.357097 -0.339135  \n",
      "\n",
      "[849223 rows x 78 columns]\n"
     ]
    }
   ],
   "source": [
    "scaler = StandardScaler()\n",
    "\n",
    "\n",
    "numeric_cols = X_train.select_dtypes(include=['int64', 'float64']).columns\n",
    "\n",
    "X_train[numeric_cols] = scaler.fit_transform(X_train[numeric_cols])\n",
    "X_test[numeric_cols] = scaler.transform(X_test[numeric_cols])\n",
    "print(\"X_train :\\n\", X_train, \"\\n\")\n",
    "print(\"X_test :\\n\", X_test)"
   ]
  },
  {
   "cell_type": "markdown",
   "id": "18539449",
   "metadata": {},
   "source": [
    "### Prepare data for Deep Learning (convert datas into float32)"
   ]
  },
  {
   "cell_type": "code",
   "execution_count": 8,
   "id": "f8424707",
   "metadata": {},
   "outputs": [
    {
     "name": "stderr",
     "output_type": "stream",
     "text": [
      "2025-06-12 14:58:42.120218: I tensorflow/core/platform/cpu_feature_guard.cc:182] This TensorFlow binary is optimized to use available CPU instructions in performance-critical operations.\n",
      "To enable the following instructions: SSE4.1 SSE4.2 AVX AVX2 FMA, in other operations, rebuild TensorFlow with the appropriate compiler flags.\n"
     ]
    },
    {
     "data": {
      "text/plain": [
       "['../preprocessed_data/CICIDS/Y_test.joblib']"
      ]
     },
     "execution_count": 8,
     "metadata": {},
     "output_type": "execute_result"
    }
   ],
   "source": [
    "import tensorflow as tf\n",
    "from tensorflow.keras.models import Model, Sequential\n",
    "from tensorflow.keras.layers import Input, Dense, Conv1D, MaxPooling1D, Flatten, Dense, Dropout, LSTM\n",
    "\n",
    "\n",
    "X_train = X_train.astype('float32')\n",
    "X_test = X_test.astype('float32')\n",
    "\n",
    "\n",
    "Y_train = np.array(Y_train).astype('float32')\n",
    "Y_test = np.array(Y_test).astype('float32')\n",
    "\n",
    "X_train = np.expand_dims(X_train, axis=2)\n",
    "X_test = np.expand_dims(X_test, axis=2)\n",
    "\n",
    "joblib.dump(X_train, '../preprocessed_data/CICIDS/X_train.joblib')\n",
    "joblib.dump(X_test, '../preprocessed_data/CICIDS/X_test.joblib')\n",
    "joblib.dump(Y_train, '../preprocessed_data/CICIDS/Y_train.joblib')\n",
    "joblib.dump(Y_test, '../preprocessed_data/CICIDS/Y_test.joblib')"
   ]
  },
  {
   "cell_type": "markdown",
   "id": "ac2732af",
   "metadata": {},
   "source": [
    "### CNN training"
   ]
  },
  {
   "cell_type": "code",
   "execution_count": 9,
   "id": "86edcee4",
   "metadata": {},
   "outputs": [
    {
     "name": "stdout",
     "output_type": "stream",
     "text": [
      "Model: \"sequential\"\n",
      "_________________________________________________________________\n",
      " Layer (type)                Output Shape              Param #   \n",
      "=================================================================\n",
      " conv1d (Conv1D)             (None, 76, 32)            128       \n",
      "                                                                 \n",
      " max_pooling1d (MaxPooling1  (None, 38, 32)            0         \n",
      " D)                                                              \n",
      "                                                                 \n",
      " dropout (Dropout)           (None, 38, 32)            0         \n",
      "                                                                 \n",
      " flatten (Flatten)           (None, 1216)              0         \n",
      "                                                                 \n",
      " dense (Dense)               (None, 64)                77888     \n",
      "                                                                 \n",
      " dropout_1 (Dropout)         (None, 64)                0         \n",
      "                                                                 \n",
      " dense_1 (Dense)             (None, 1)                 65        \n",
      "                                                                 \n",
      "=================================================================\n",
      "Total params: 78081 (305.00 KB)\n",
      "Trainable params: 78081 (305.00 KB)\n",
      "Non-trainable params: 0 (0.00 Byte)\n",
      "_________________________________________________________________\n",
      "Epoch 1/10\n"
     ]
    },
    {
     "name": "stderr",
     "output_type": "stream",
     "text": [
      "2025-06-12 14:58:49.479646: W tensorflow/tsl/framework/cpu_allocator_impl.cc:83] Allocation of 618234240 exceeds 10% of free system memory.\n"
     ]
    },
    {
     "name": "stdout",
     "output_type": "stream",
     "text": [
      "30962/30962 [==============================] - 84s 3ms/step - loss: 0.0822 - accuracy: 0.9659 - val_loss: 0.0544 - val_accuracy: 0.9758\n",
      "Epoch 2/10\n",
      "30962/30962 [==============================] - 81s 3ms/step - loss: 0.0642 - accuracy: 0.9716 - val_loss: 0.0500 - val_accuracy: 0.9783\n",
      "Epoch 3/10\n",
      "30962/30962 [==============================] - 87s 3ms/step - loss: 0.0613 - accuracy: 0.9729 - val_loss: 0.0494 - val_accuracy: 0.9763\n",
      "Epoch 4/10\n",
      "30962/30962 [==============================] - 80s 3ms/step - loss: 0.0591 - accuracy: 0.9737 - val_loss: 0.0470 - val_accuracy: 0.9777\n",
      "Epoch 5/10\n",
      "30962/30962 [==============================] - 78s 3ms/step - loss: 0.0587 - accuracy: 0.9742 - val_loss: 0.0478 - val_accuracy: 0.9771\n",
      "Epoch 6/10\n",
      "30962/30962 [==============================] - 78s 3ms/step - loss: 0.0568 - accuracy: 0.9746 - val_loss: 0.0460 - val_accuracy: 0.9796\n",
      "Epoch 7/10\n",
      "30962/30962 [==============================] - 79s 3ms/step - loss: 0.0563 - accuracy: 0.9750 - val_loss: 0.0457 - val_accuracy: 0.9792\n",
      "Epoch 8/10\n",
      "30962/30962 [==============================] - 81s 3ms/step - loss: 0.0561 - accuracy: 0.9753 - val_loss: 0.0467 - val_accuracy: 0.9777\n",
      "Epoch 9/10\n",
      "30962/30962 [==============================] - 80s 3ms/step - loss: 0.0554 - accuracy: 0.9755 - val_loss: 0.0469 - val_accuracy: 0.9775\n",
      "Epoch 10/10\n",
      "30962/30962 [==============================] - 80s 3ms/step - loss: 0.0556 - accuracy: 0.9757 - val_loss: 0.0454 - val_accuracy: 0.9804\n"
     ]
    }
   ],
   "source": [
    "CNN_model = Sequential([\n",
    "    Input(shape=(X_train.shape[1], 1)),\n",
    "    Conv1D(32, kernel_size=3, activation='relu'),\n",
    "    MaxPooling1D(pool_size=2), # keep the maximum each 2 values (divide by 2 the number of values)\n",
    "    Dropout(0.3), # disable 30% of neurons => reduce overfitting\n",
    "    Flatten(), # transform the structure from 3D to 2D\n",
    "    Dense(64, activation='relu'),\n",
    "    Dropout(0.3),\n",
    "    Dense(1, activation='sigmoid') # binary output (0=normal or 1=attack)\n",
    "])\n",
    "\n",
    "CNN_model.compile(optimizer='adam', loss='binary_crossentropy', metrics=['accuracy'])\n",
    "\n",
    "CNN_model.summary()\n",
    "\n",
    "history = CNN_model.fit(X_train, Y_train, epochs=5, batch_size=64, validation_data=(X_test, Y_test))"
   ]
  },
  {
   "cell_type": "markdown",
   "id": "71d2a1f4",
   "metadata": {},
   "source": [
    "### LSTM training"
   ]
  },
  {
   "cell_type": "code",
   "execution_count": 10,
   "id": "983dbb31",
   "metadata": {},
   "outputs": [
    {
     "name": "stdout",
     "output_type": "stream",
     "text": [
      "Model: \"sequential_1\"\n",
      "_________________________________________________________________\n",
      " Layer (type)                Output Shape              Param #   \n",
      "=================================================================\n",
      " lstm (LSTM)                 (None, 64)                16896     \n",
      "                                                                 \n",
      " dropout_2 (Dropout)         (None, 64)                0         \n",
      "                                                                 \n",
      " dense_2 (Dense)             (None, 64)                4160      \n",
      "                                                                 \n",
      " dropout_3 (Dropout)         (None, 64)                0         \n",
      "                                                                 \n",
      " dense_3 (Dense)             (None, 1)                 65        \n",
      "                                                                 \n",
      "=================================================================\n",
      "Total params: 21121 (82.50 KB)\n",
      "Trainable params: 21121 (82.50 KB)\n",
      "Non-trainable params: 0 (0.00 Byte)\n",
      "_________________________________________________________________\n",
      "Epoch 1/3\n"
     ]
    },
    {
     "name": "stderr",
     "output_type": "stream",
     "text": [
      "2025-06-12 15:12:19.659506: W tensorflow/tsl/framework/cpu_allocator_impl.cc:83] Allocation of 618234240 exceeds 10% of free system memory.\n"
     ]
    },
    {
     "name": "stdout",
     "output_type": "stream",
     "text": [
      "30962/30962 [==============================] - 678s 22ms/step - loss: 0.1362 - accuracy: 0.9451 - val_loss: 0.0764 - val_accuracy: 0.9636\n",
      "Epoch 2/3\n",
      "30962/30962 [==============================] - 694s 22ms/step - loss: 0.0608 - accuracy: 0.9734 - val_loss: 0.0588 - val_accuracy: 0.9762\n",
      "Epoch 3/3\n",
      "30962/30962 [==============================] - 704s 23ms/step - loss: 0.0514 - accuracy: 0.9787 - val_loss: 0.0445 - val_accuracy: 0.9824\n"
     ]
    }
   ],
   "source": [
    "LSTM_model = Sequential([\n",
    "    Input(shape=(X_train.shape[1], 1)),\n",
    "    LSTM(64, return_sequences=False),\n",
    "    Dropout(0.3),\n",
    "    Dense(64, activation='relu'),\n",
    "    Dropout(0.3),\n",
    "    Dense(1, activation='sigmoid')\n",
    "])\n",
    "\n",
    "LSTM_model.compile(optimizer='adam', loss='binary_crossentropy', metrics=['accuracy'])\n",
    "\n",
    "LSTM_model.summary()\n",
    "\n",
    "\n",
    "history = LSTM_model.fit(X_train, Y_train, epochs=3, batch_size=64, validation_data=(X_test, Y_test))\n"
   ]
  },
  {
   "cell_type": "markdown",
   "id": "f2a32098",
   "metadata": {},
   "source": [
    "### AE-LSTM"
   ]
  },
  {
   "cell_type": "code",
   "execution_count": 11,
   "id": "3f81d2ea",
   "metadata": {},
   "outputs": [
    {
     "name": "stdout",
     "output_type": "stream",
     "text": [
      "Model: \"model\"\n",
      "_________________________________________________________________\n",
      " Layer (type)                Output Shape              Param #   \n",
      "=================================================================\n",
      " input_3 (InputLayer)        [(None, 78, 1)]           0         \n",
      "                                                                 \n",
      " lstm_1 (LSTM)               (None, 64)                16896     \n",
      "                                                                 \n",
      " dense_4 (Dense)             (None, 32)                2080      \n",
      "                                                                 \n",
      " dropout_4 (Dropout)         (None, 32)                0         \n",
      "                                                                 \n",
      " dense_5 (Dense)             (None, 64)                2112      \n",
      "                                                                 \n",
      " dropout_5 (Dropout)         (None, 64)                0         \n",
      "                                                                 \n",
      " dense_6 (Dense)             (None, 1)                 65        \n",
      "                                                                 \n",
      "=================================================================\n",
      "Total params: 21153 (82.63 KB)\n",
      "Trainable params: 21153 (82.63 KB)\n",
      "Non-trainable params: 0 (0.00 Byte)\n",
      "_________________________________________________________________\n",
      "Epoch 1/3\n"
     ]
    },
    {
     "name": "stderr",
     "output_type": "stream",
     "text": [
      "2025-06-12 15:47:01.536638: W tensorflow/tsl/framework/cpu_allocator_impl.cc:83] Allocation of 618234240 exceeds 10% of free system memory.\n"
     ]
    },
    {
     "name": "stdout",
     "output_type": "stream",
     "text": [
      "30962/30962 [==============================] - 709s 23ms/step - loss: 0.1176 - accuracy: 0.9525 - val_loss: 0.0637 - val_accuracy: 0.9691\n",
      "Epoch 2/3\n",
      "30962/30962 [==============================] - 741s 24ms/step - loss: 0.0611 - accuracy: 0.9717 - val_loss: 0.0533 - val_accuracy: 0.9724\n",
      "Epoch 3/3\n",
      "30962/30962 [==============================] - 718s 23ms/step - loss: 0.0521 - accuracy: 0.9766 - val_loss: 0.0559 - val_accuracy: 0.9723\n"
     ]
    }
   ],
   "source": [
    "input_dim = X_train.shape[1]  # n_features\n",
    "\n",
    "# encoder\n",
    "inputs = Input(shape=(input_dim, 1))\n",
    "encoded = LSTM(64, return_sequences=False)(inputs)\n",
    "encoded = Dense(32, activation='relu')(encoded)\n",
    "\n",
    "# classifier\n",
    "x = Dropout(0.3)(encoded)\n",
    "x = Dense(64, activation='relu')(x)\n",
    "x = Dropout(0.3)(x)\n",
    "output = Dense(1, activation='sigmoid')(x)\n",
    "\n",
    "AE_LSTM_model = Model(inputs, output)\n",
    "\n",
    "AE_LSTM_model.compile(optimizer='adam', loss='binary_crossentropy', metrics=['accuracy'])\n",
    "AE_LSTM_model.summary()\n",
    "\n",
    "\n",
    "history = AE_LSTM_model.fit(X_train, Y_train, epochs=3, batch_size=64, validation_data=(X_test, Y_test)\n",
    ")\n"
   ]
  },
  {
   "cell_type": "code",
   "execution_count": 12,
   "id": "a928c273",
   "metadata": {},
   "outputs": [],
   "source": [
    "CNN_model.save(\"../models/cnn_CICIDS2017_model.keras\")\n",
    "LSTM_model.save(\"../models/lstm_CICIDS2017_model.keras\")\n",
    "AE_LSTM_model.save(\"../models/ae-lstm_CICIDS2017_model.keras\")"
   ]
  },
  {
   "cell_type": "code",
   "execution_count": 15,
   "id": "52dcbca6",
   "metadata": {},
   "outputs": [],
   "source": [
    "import pickle"
   ]
  },
  {
   "cell_type": "code",
   "execution_count": 18,
   "id": "3bb941be",
   "metadata": {},
   "outputs": [
    {
     "data": {
      "text/plain": [
       "['../models/ae-lstm_CICIDS2017.pkl']"
      ]
     },
     "execution_count": 18,
     "metadata": {},
     "output_type": "execute_result"
    }
   ],
   "source": [
    "file_name_cnn = '../models/cnn_CICIDS2017.pkl' \n",
    "joblib.dump(CNN_model, file_name_cnn) \n",
    "\n",
    "file_name_lstm = '../models/lstm_CICIDS2017.pkl' \n",
    "joblib.dump(LSTM_model, file_name_lstm) \n",
    "\n",
    "file_name_ae_lstm = '../models/ae-lstm_CICIDS2017.pkl' \n",
    "joblib.dump(AE_LSTM_model, file_name_ae_lstm)"
   ]
  },
  {
   "cell_type": "code",
   "execution_count": 17,
   "id": "31d7b002",
   "metadata": {},
   "outputs": [
    {
     "name": "stdout",
     "output_type": "stream",
     "text": [
      "6635/6635 [==============================] - 7s 1ms/step - loss: 0.0454 - accuracy: 0.9804\n",
      "test loss, test acc: [0.04541843757033348, 0.980359673500061]\n"
     ]
    }
   ],
   "source": [
    "from tensorflow.keras.models import load_model\n",
    "\n",
    "cnn_loaded = load_model('../models/cnn_CICIDS2017_model.keras')\n",
    "results = cnn_loaded.evaluate(X_test, Y_test, batch_size=128)\n",
    "print(\"test loss, test acc:\", results)\n"
   ]
  },
  {
   "cell_type": "code",
   "execution_count": 14,
   "id": "4bb7e14c",
   "metadata": {},
   "outputs": [
    {
     "name": "stdout",
     "output_type": "stream",
     "text": [
      "26539/26539 [==============================] - 17s 653us/step\n",
      "              precision    recall  f1-score   support\n",
      "\n",
      "      Normal       0.99      0.98      0.99    682324\n",
      "     Attacks       0.93      0.97      0.95    166899\n",
      "\n",
      "    accuracy                           0.98    849223\n",
      "   macro avg       0.96      0.98      0.97    849223\n",
      "weighted avg       0.98      0.98      0.98    849223\n",
      "\n",
      "Confusion matrix :\n",
      " [[670976  11348]\n",
      " [  5331 161568]]\n",
      "Attacks detected (True Positive) : 161568\n",
      "Normal traffic detected (True Negative) : 670976\n",
      "Attacks missed (False Negative) : 5331\n",
      "False alarms (False Positive) : 11348\n"
     ]
    }
   ],
   "source": [
    "from sklearn.metrics import classification_report, confusion_matrix\n",
    "\n",
    "y_pred_prob = cnn_loaded.predict(X_test)\n",
    "\n",
    "\n",
    "y_pred = (y_pred_prob > 0.5).astype(\"int32\")\n",
    "\n",
    "# (precision, recall, F1-score)\n",
    "print(classification_report(Y_test, y_pred, target_names=[\"Normal\", \"Attacks\"]))\n",
    "\n",
    "# Confusion Matrix\n",
    "cm = confusion_matrix(Y_test, y_pred)\n",
    "print(\"Confusion matrix :\\n\", cm)\n",
    "\n",
    "# Displaying the attack number\n",
    "tn, fp, fn, tp = cm.ravel()\n",
    "print(f\"Attacks detected (True Positive) : {tp}\")\n",
    "print(f\"Normal traffic detected (True Negative) : {tn}\")\n",
    "print(f\"Attacks missed (False Negative) : {fn}\")\n",
    "print(f\"False alarms (False Positive) : {fp}\")\n"
   ]
  }
 ],
 "metadata": {
  "kernelspec": {
   "display_name": "SDNIOT-env",
   "language": "python",
   "name": "python3"
  },
  "language_info": {
   "codemirror_mode": {
    "name": "ipython",
    "version": 3
   },
   "file_extension": ".py",
   "mimetype": "text/x-python",
   "name": "python",
   "nbconvert_exporter": "python",
   "pygments_lexer": "ipython3",
   "version": "3.10.18"
  }
 },
 "nbformat": 4,
 "nbformat_minor": 5
}
