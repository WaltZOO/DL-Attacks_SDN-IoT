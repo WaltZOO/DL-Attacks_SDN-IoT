{
 "cells": [
  {
   "cell_type": "code",
   "execution_count": 14,
   "id": "9b65b7b3",
   "metadata": {},
   "outputs": [],
   "source": [
    "import pandas as pd\n",
    "import dtale\n",
    "import numpy as np"
   ]
  },
  {
   "cell_type": "code",
   "execution_count": 15,
   "id": "95b5b0ae",
   "metadata": {},
   "outputs": [
    {
     "name": "stdout",
     "output_type": "stream",
     "text": [
      "                                         Flow ID          Src IP  Src Port  \\\n",
      "0       185.127.17.56-192.168.20.133-443-53648-6   185.127.17.56       443   \n",
      "1       185.127.17.56-192.168.20.133-443-53650-6  192.168.20.133     53650   \n",
      "2         192.168.20.133-192.168.20.2-35108-53-6  192.168.20.133     35108   \n",
      "3         192.168.20.133-192.168.20.2-35108-53-6    192.168.20.2        53   \n",
      "4       154.59.122.74-192.168.20.133-443-60900-6  192.168.20.133     60900   \n",
      "...                                          ...             ...       ...   \n",
      "343884  192.168.3.130-200.175.2.130-41966-4444-6   192.168.3.130     41966   \n",
      "343885  192.168.3.130-200.175.2.130-41967-4444-6   192.168.3.130     41967   \n",
      "343886   192.168.3.130-200.175.2.130-139-44791-6   200.175.2.130     44791   \n",
      "343887  192.168.3.130-200.175.2.130-41966-4444-6   192.168.3.130     41966   \n",
      "343888  192.168.3.130-200.175.2.130-41967-4444-6   192.168.3.130     41967   \n",
      "\n",
      "                Dst IP  Dst Port  Protocol        Timestamp  Flow Duration  \\\n",
      "0       192.168.20.133     53648         6   5/2/2020 13:58         245230   \n",
      "1        185.127.17.56       443         6   5/2/2020 13:58        1605449   \n",
      "2         192.168.20.2        53         6   5/2/2020 13:58          53078   \n",
      "3       192.168.20.133     35108         6   5/2/2020 13:58           6975   \n",
      "4        154.59.122.74       443         6   5/2/2020 13:58         190141   \n",
      "...                ...       ...       ...              ...            ...   \n",
      "343884   200.175.2.130      4444         6  10/1/2020 20:36         273133   \n",
      "343885   200.175.2.130      4444         6  10/1/2020 20:36         267969   \n",
      "343886   192.168.3.130       139         6   10/1/2020 4:41        1552555   \n",
      "343887   200.175.2.130      4444         6   10/1/2020 4:41         272141   \n",
      "343888   200.175.2.130      4444         6   10/1/2020 4:41         270361   \n",
      "\n",
      "        Tot Fwd Pkts  Tot Bwd Pkts  ...  Fwd Seg Size Min  Active Mean  \\\n",
      "0                 44            40  ...                 0          0.0   \n",
      "1                107           149  ...                 0          0.0   \n",
      "2                  5             5  ...                 0          0.0   \n",
      "3                  1             1  ...                 0          0.0   \n",
      "4                 13            16  ...                 0          0.0   \n",
      "...              ...           ...  ...               ...          ...   \n",
      "343884             2             3  ...                 0          0.0   \n",
      "343885             6             7  ...                 0          0.0   \n",
      "343886             6             5  ...                 0          0.0   \n",
      "343887             2             3  ...                 0          0.0   \n",
      "343888             6             7  ...                 0          0.0   \n",
      "\n",
      "        Active Std  Active Max  Active Min  Idle Mean  Idle Std  Idle Max  \\\n",
      "0              0.0         0.0         0.0        0.0       0.0       0.0   \n",
      "1              0.0         0.0         0.0        0.0       0.0       0.0   \n",
      "2              0.0         0.0         0.0        0.0       0.0       0.0   \n",
      "3              0.0         0.0         0.0        0.0       0.0       0.0   \n",
      "4              0.0         0.0         0.0        0.0       0.0       0.0   \n",
      "...            ...         ...         ...        ...       ...       ...   \n",
      "343884         0.0         0.0         0.0        0.0       0.0       0.0   \n",
      "343885         0.0         0.0         0.0        0.0       0.0       0.0   \n",
      "343886         0.0         0.0         0.0        0.0       0.0       0.0   \n",
      "343887         0.0         0.0         0.0        0.0       0.0       0.0   \n",
      "343888         0.0         0.0         0.0        0.0       0.0       0.0   \n",
      "\n",
      "        Idle Min   Label  \n",
      "0            0.0  Normal  \n",
      "1            0.0  Normal  \n",
      "2            0.0  Normal  \n",
      "3            0.0  Normal  \n",
      "4            0.0  Normal  \n",
      "...          ...     ...  \n",
      "343884       0.0     U2R  \n",
      "343885       0.0     U2R  \n",
      "343886       0.0     U2R  \n",
      "343887       0.0     U2R  \n",
      "343888       0.0     U2R  \n",
      "\n",
      "[343889 rows x 84 columns]\n"
     ]
    }
   ],
   "source": [
    "normal = pd.read_csv('../datasets/InSDN_DatasetCSV/Normal_data.csv')\n",
    "ovs = pd.read_csv('../datasets/InSDN_DatasetCSV/OVS.csv')\n",
    "metasploitable = pd.read_csv('../datasets/InSDN_DatasetCSV/metasploitable-2.csv')\n",
    "\n",
    "df = pd.concat([normal, ovs, metasploitable], ignore_index=True)\n",
    "\n",
    "print(df)"
   ]
  },
  {
   "cell_type": "markdown",
   "id": "186ee5d6",
   "metadata": {},
   "source": [
    "### Missing datas"
   ]
  },
  {
   "cell_type": "markdown",
   "id": "6340158a",
   "metadata": {},
   "source": [
    "useless here because no missing datas"
   ]
  },
  {
   "cell_type": "code",
   "execution_count": 16,
   "id": "228bcff1",
   "metadata": {},
   "outputs": [
    {
     "name": "stdout",
     "output_type": "stream",
     "text": [
      "Missing datas by columns :\n",
      " Flow ID      0\n",
      "Src IP       0\n",
      "Src Port     0\n",
      "Dst IP       0\n",
      "Dst Port     0\n",
      "            ..\n",
      "Idle Mean    0\n",
      "Idle Std     0\n",
      "Idle Max     0\n",
      "Idle Min     0\n",
      "Label        0\n",
      "Length: 84, dtype: int64\n"
     ]
    }
   ],
   "source": [
    "from sklearn.impute import SimpleImputer # to handle missing data\n",
    "from sklearn.model_selection import train_test_split\n",
    "from sklearn.preprocessing import StandardScaler\n",
    "\n",
    "# print(\"Missing datas : \" )\n",
    "# print(df.isnull().sum())\n",
    "\n",
    "\n",
    "# print(df[['Flow Duration', 'Flow Byts/s', 'Fwd Pkt Len Mean', 'Flow IAT Mean']].head())\n",
    "# column = ['Flow Duration', 'Flow Byts/s', 'Fwd Pkt Len Mean', 'Flow IAT Mean']\n",
    "# df[column] = df[column].fillna(df[column].median())\n",
    "\n",
    "# column = [\"SYN Flag Cnt\", \"Tot Fwd Pkts\", \"Fwd Act Data Pkts\"]\n",
    "# df.loc[:, column] = df.loc[:,column].fillna(0)\n",
    "\n",
    "# print(df[['Flow Duration', 'Flow Byts/s', 'Fwd Pkt Len Mean', 'Flow IAT Mean']].head())\n",
    "# print(\"Missing datas : \" )\n",
    "# print(df.isnull().sum())\n",
    "\n",
    "print(\"Missing datas by columns :\\n\", df.isnull().sum())\n",
    "\n",
    "num_cols_median = ['Flow Duration', 'Flow Byts/s', 'Fwd Pkt Len Mean', 'Flow IAT Mean']\n",
    "df[num_cols_median] = df[num_cols_median].fillna(df[num_cols_median].median())\n",
    "\n",
    "cols_fill0 = [\"SYN Flag Cnt\", \"Tot Fwd Pkts\", \"Fwd Act Data Pkts\"]\n",
    "df[cols_fill0] = df[cols_fill0].fillna(0)\n",
    "df = df.drop(columns=['Flow ID', 'Src IP', 'Dst IP', 'Timestamp'])"
   ]
  },
  {
   "cell_type": "markdown",
   "id": "78ee50ac",
   "metadata": {},
   "source": [
    "### Separing datas and labels"
   ]
  },
  {
   "cell_type": "code",
   "execution_count": 17,
   "id": "2839a21a",
   "metadata": {},
   "outputs": [],
   "source": [
    "X = df.drop(columns=['Label']) # without labels\n",
    "Y = df['Label'] # just labels"
   ]
  },
  {
   "cell_type": "markdown",
   "id": "de39ffc9",
   "metadata": {},
   "source": [
    "### Encoding categorical data\n",
    "Difference between Label and OneHot : \\\n",
    "                                      - Label gives a number in int for each line (simple but the model could misunderstand the difference between numbers (priorities issues))\\\n",
    "                                      - OneHot encodes in binary columns (no hierarchy between column but a lot of columns if they are a lot of categories to label)"
   ]
  },
  {
   "cell_type": "code",
   "execution_count": 18,
   "id": "834bf6ff",
   "metadata": {},
   "outputs": [
    {
     "name": "stdout",
     "output_type": "stream",
     "text": [
      "        Src Port  Dst Port  Flow Duration  Tot Fwd Pkts  Tot Bwd Pkts  \\\n",
      "0            443     53648         245230            44            40   \n",
      "1          53650       443        1605449           107           149   \n",
      "2          35108        53          53078             5             5   \n",
      "3             53     35108           6975             1             1   \n",
      "4          60900       443         190141            13            16   \n",
      "...          ...       ...            ...           ...           ...   \n",
      "343884     41966      4444         273133             2             3   \n",
      "343885     41967      4444         267969             6             7   \n",
      "343886     44791       139        1552555             6             5   \n",
      "343887     41966      4444         272141             2             3   \n",
      "343888     41967      4444         270361             6             7   \n",
      "\n",
      "        TotLen Fwd Pkts  TotLen Bwd Pkts  Fwd Pkt Len Max  Fwd Pkt Len Min  \\\n",
      "0                124937             1071             9100                0   \n",
      "1                  1071           439537              517                0   \n",
      "2                    66              758               66                0   \n",
      "3                     0                0                0                0   \n",
      "4                   780            11085              427                0   \n",
      "...                 ...              ...              ...              ...   \n",
      "343884                0               23                0                0   \n",
      "343885              138               23               42                0   \n",
      "343886               60               60               30                0   \n",
      "343887                0               23                0                0   \n",
      "343888              108               23               30                0   \n",
      "\n",
      "        Fwd Pkt Len Mean  ...  Active Std  Active Max  Active Min  Idle Mean  \\\n",
      "0            2839.477273  ...         0.0         0.0         0.0        0.0   \n",
      "1              10.009346  ...         0.0         0.0         0.0        0.0   \n",
      "2              13.200000  ...         0.0         0.0         0.0        0.0   \n",
      "3               0.000000  ...         0.0         0.0         0.0        0.0   \n",
      "4              60.000000  ...         0.0         0.0         0.0        0.0   \n",
      "...                  ...  ...         ...         ...         ...        ...   \n",
      "343884          0.000000  ...         0.0         0.0         0.0        0.0   \n",
      "343885         23.000000  ...         0.0         0.0         0.0        0.0   \n",
      "343886         10.000000  ...         0.0         0.0         0.0        0.0   \n",
      "343887          0.000000  ...         0.0         0.0         0.0        0.0   \n",
      "343888         18.000000  ...         0.0         0.0         0.0        0.0   \n",
      "\n",
      "        Idle Std  Idle Max  Idle Min  Protocol_0  Protocol_6  Protocol_17  \n",
      "0            0.0       0.0       0.0         0.0         1.0          0.0  \n",
      "1            0.0       0.0       0.0         0.0         1.0          0.0  \n",
      "2            0.0       0.0       0.0         0.0         1.0          0.0  \n",
      "3            0.0       0.0       0.0         0.0         1.0          0.0  \n",
      "4            0.0       0.0       0.0         0.0         1.0          0.0  \n",
      "...          ...       ...       ...         ...         ...          ...  \n",
      "343884       0.0       0.0       0.0         0.0         1.0          0.0  \n",
      "343885       0.0       0.0       0.0         0.0         1.0          0.0  \n",
      "343886       0.0       0.0       0.0         0.0         1.0          0.0  \n",
      "343887       0.0       0.0       0.0         0.0         1.0          0.0  \n",
      "343888       0.0       0.0       0.0         0.0         1.0          0.0  \n",
      "\n",
      "[343889 rows x 81 columns]\n",
      "0         0\n",
      "1         0\n",
      "2         0\n",
      "3         0\n",
      "4         0\n",
      "         ..\n",
      "343884    1\n",
      "343885    1\n",
      "343886    1\n",
      "343887    1\n",
      "343888    1\n",
      "Name: Label, Length: 343889, dtype: int64\n"
     ]
    }
   ],
   "source": [
    "from sklearn.compose import ColumnTransformer\n",
    "from sklearn.preprocessing import LabelEncoder, OneHotEncoder\n",
    "\n",
    "\n",
    "encoder = OneHotEncoder(handle_unknown='ignore', sparse_output=False)\n",
    "encoded_protocol = encoder.fit_transform(X[['Protocol']])\n",
    "protocol_cols = encoder.get_feature_names_out(['Protocol'])\n",
    "encoded_protocol_df = pd.DataFrame(encoded_protocol, columns=protocol_cols, index=X.index) # convert in dataframe\n",
    "X = pd.concat([X.drop(columns=['Protocol']), encoded_protocol_df], axis=1) #concatenate with the encoded version of protocol\n",
    "\n",
    "print(X)\n",
    "\n",
    "# Y_encoder = LabelEncoder()\n",
    "# Y = Y_encoder.fit_transform(Y)\n",
    "\n",
    "Y = Y.apply(lambda x: 0 if x == 'Normal' else 1) # because we have several types of attacks and we wants bianaries Y\n",
    "\n",
    "print(Y)"
   ]
  },
  {
   "cell_type": "markdown",
   "id": "001c053f",
   "metadata": {},
   "source": [
    "### Splitting into training set and test set\n",
    "Split dataset into training and testing sets (70/30)"
   ]
  },
  {
   "cell_type": "code",
   "execution_count": 19,
   "id": "2ce7d1dd",
   "metadata": {},
   "outputs": [
    {
     "name": "stdout",
     "output_type": "stream",
     "text": [
      "        Src Port  Dst Port  Flow Duration  Tot Fwd Pkts  Tot Bwd Pkts  \\\n",
      "325042        80     44370          31423             0             2   \n",
      "298378     38739        80           3838             4             4   \n",
      "268971         0         0             24             0             2   \n",
      "253598         0         0             38             0             2   \n",
      "253091         0         0             13             0             2   \n",
      "...          ...       ...            ...           ...           ...   \n",
      "122579     43468        80          59812             2             6   \n",
      "304137        80     33495       62379457             3             7   \n",
      "152315     41830        80          34759             2             6   \n",
      "117952     37776        80          15896             2             6   \n",
      "305711        80     41927       63291589             3             7   \n",
      "\n",
      "        TotLen Fwd Pkts  TotLen Bwd Pkts  Fwd Pkt Len Max  Fwd Pkt Len Min  \\\n",
      "325042                0                0                0                0   \n",
      "298378               30               30               30                0   \n",
      "268971                0                0                0                0   \n",
      "253598                0                0                0                0   \n",
      "253091                0                0                0                0   \n",
      "...                 ...              ...              ...              ...   \n",
      "122579              415             1890              415                0   \n",
      "304137               30               30               30                0   \n",
      "152315              332             1892              332                0   \n",
      "117952               17             2336               17                0   \n",
      "305711               30               30               30                0   \n",
      "\n",
      "        Fwd Pkt Len Mean  ...  Active Std  Active Max  Active Min   Idle Mean  \\\n",
      "325042               0.0  ...         0.0         0.0         0.0         0.0   \n",
      "298378               7.5  ...         0.0         0.0         0.0         0.0   \n",
      "268971               0.0  ...         0.0         0.0         0.0         0.0   \n",
      "253598               0.0  ...         0.0         0.0         0.0         0.0   \n",
      "253091               0.0  ...         0.0         0.0         0.0         0.0   \n",
      "...                  ...  ...         ...         ...         ...         ...   \n",
      "122579             207.5  ...         0.0         0.0         0.0         0.0   \n",
      "304137              10.0  ...         0.0      3202.0      3202.0  62400000.0   \n",
      "152315             166.0  ...         0.0         0.0         0.0         0.0   \n",
      "117952               8.5  ...         0.0         0.0         0.0         0.0   \n",
      "305711              10.0  ...         0.0      3532.0      3532.0  63300000.0   \n",
      "\n",
      "        Idle Std    Idle Max    Idle Min  Protocol_0  Protocol_6  Protocol_17  \n",
      "325042       0.0         0.0         0.0         0.0         1.0          0.0  \n",
      "298378       0.0         0.0         0.0         0.0         1.0          0.0  \n",
      "268971       0.0         0.0         0.0         1.0         0.0          0.0  \n",
      "253598       0.0         0.0         0.0         1.0         0.0          0.0  \n",
      "253091       0.0         0.0         0.0         1.0         0.0          0.0  \n",
      "...          ...         ...         ...         ...         ...          ...  \n",
      "122579       0.0         0.0         0.0         0.0         1.0          0.0  \n",
      "304137       0.0  62400000.0  62400000.0         0.0         1.0          0.0  \n",
      "152315       0.0         0.0         0.0         0.0         1.0          0.0  \n",
      "117952       0.0         0.0         0.0         0.0         1.0          0.0  \n",
      "305711       0.0  63300000.0  63300000.0         0.0         1.0          0.0  \n",
      "\n",
      "[240722 rows x 81 columns]\n"
     ]
    }
   ],
   "source": [
    "X_train, X_test, Y_train, Y_test = train_test_split(X, Y, test_size=0.3, random_state=0)\n",
    "print(X_train)"
   ]
  },
  {
   "cell_type": "markdown",
   "id": "d162e5e9",
   "metadata": {},
   "source": [
    "### Feature Scaling\n",
    "To have the same scale between each columns (for instance, `Flow Duration` is way bigger than `Tot Fwd Pkts` and the model could misinterpret it and gives more importance to the Income column)"
   ]
  },
  {
   "cell_type": "code",
   "execution_count": 20,
   "id": "98bd35f1",
   "metadata": {},
   "outputs": [
    {
     "name": "stdout",
     "output_type": "stream",
     "text": [
      "X_train :\n",
      "         Src Port  Dst Port  Flow Duration  Tot Fwd Pkts  Tot Bwd Pkts  \\\n",
      "325042 -0.924461  2.234924      -0.306988     -0.003916     -0.036937   \n",
      "298378  0.709191 -0.490033      -0.308252     -0.001762     -0.019123   \n",
      "268971 -0.927842 -0.494955      -0.308426     -0.003916     -0.036937   \n",
      "253598 -0.927842 -0.494955      -0.308426     -0.003916     -0.036937   \n",
      "253091 -0.927842 -0.494955      -0.308427     -0.003916     -0.036937   \n",
      "...          ...       ...            ...           ...           ...   \n",
      "122579  0.909030 -0.490033      -0.305688     -0.002839     -0.001309   \n",
      "304137 -0.924461  1.565836       2.548979     -0.002300      0.007599   \n",
      "152315  0.839811 -0.490033      -0.306835     -0.002839     -0.001309   \n",
      "117952  0.668497 -0.490033      -0.307699     -0.002839     -0.001309   \n",
      "305711 -0.924461  2.084618       2.590761     -0.002300      0.007599   \n",
      "\n",
      "        TotLen Fwd Pkts  TotLen Bwd Pkts  Fwd Pkt Len Max  Fwd Pkt Len Min  \\\n",
      "325042        -0.009755        -0.023171        -0.174139        -0.149992   \n",
      "298378        -0.009336        -0.023091        -0.129039        -0.149992   \n",
      "268971        -0.009755        -0.023171        -0.174139        -0.149992   \n",
      "253598        -0.009755        -0.023171        -0.174139        -0.149992   \n",
      "253091        -0.009755        -0.023171        -0.174139        -0.149992   \n",
      "...                 ...              ...              ...              ...   \n",
      "122579        -0.003960        -0.018072         0.449747        -0.149992   \n",
      "304137        -0.009336        -0.023091        -0.129039        -0.149992   \n",
      "152315        -0.005119        -0.018066         0.324970        -0.149992   \n",
      "117952        -0.009518        -0.016868        -0.148582        -0.149992   \n",
      "305711        -0.009336        -0.023091        -0.129039        -0.149992   \n",
      "\n",
      "        Fwd Pkt Len Mean  ...  Active Std  Active Max  Active Min  Idle Mean  \\\n",
      "325042         -0.164556  ...   -0.062217   -0.088350   -0.060705  -0.291145   \n",
      "298378         -0.136298  ...   -0.062217   -0.088350   -0.060705  -0.291145   \n",
      "268971         -0.164556  ...   -0.062217   -0.088350   -0.060705  -0.291145   \n",
      "253598         -0.164556  ...   -0.062217   -0.088350   -0.060705  -0.291145   \n",
      "253091         -0.164556  ...   -0.062217   -0.088350   -0.060705  -0.291145   \n",
      "...                  ...  ...         ...         ...         ...        ...   \n",
      "122579          0.617237  ...   -0.062217   -0.088350   -0.060705  -0.291145   \n",
      "304137         -0.126879  ...   -0.062217   -0.085808   -0.056235   3.573122   \n",
      "152315          0.460878  ...   -0.062217   -0.088350   -0.060705  -0.291145   \n",
      "117952         -0.132531  ...   -0.062217   -0.088350   -0.060705  -0.291145   \n",
      "305711         -0.126879  ...   -0.062217   -0.085546   -0.055774   3.628857   \n",
      "\n",
      "        Idle Std  Idle Max  Idle Min  Protocol_0  Protocol_6  Protocol_17  \n",
      "325042 -0.087428 -0.294888 -0.285377   -0.742155    0.911854     -0.33115  \n",
      "298378 -0.087428 -0.294888 -0.285377   -0.742155    0.911854     -0.33115  \n",
      "268971 -0.087428 -0.294888 -0.285377    1.347427   -1.096667     -0.33115  \n",
      "253598 -0.087428 -0.294888 -0.285377    1.347427   -1.096667     -0.33115  \n",
      "253091 -0.087428 -0.294888 -0.285377    1.347427   -1.096667     -0.33115  \n",
      "...          ...       ...       ...         ...         ...          ...  \n",
      "122579 -0.087428 -0.294888 -0.285377   -0.742155    0.911854     -0.33115  \n",
      "304137 -0.087428  3.509808  3.606708   -0.742155    0.911854     -0.33115  \n",
      "152315 -0.087428 -0.294888 -0.285377   -0.742155    0.911854     -0.33115  \n",
      "117952 -0.087428 -0.294888 -0.285377   -0.742155    0.911854     -0.33115  \n",
      "305711 -0.087428  3.564683  3.662844   -0.742155    0.911854     -0.33115  \n",
      "\n",
      "[240722 rows x 81 columns] \n",
      "\n",
      "X_test :\n",
      "         Src Port  Dst Port  Flow Duration  Tot Fwd Pkts  Tot Bwd Pkts  \\\n",
      "217754 -0.927842 -0.494955      -0.308427     -0.003916     -0.036937   \n",
      "40572   0.477660 -0.491694      -0.308289     -0.003377     -0.028030   \n",
      "136971  1.599864 -0.490033      -0.306353     -0.002839     -0.001309   \n",
      "40362   1.580594 -0.491694      -0.308284     -0.003377     -0.028030   \n",
      "86655  -0.927842 -0.494955      -0.308427     -0.003916     -0.036937   \n",
      "...          ...       ...            ...           ...           ...   \n",
      "54563   1.081527 -0.491694      -0.308189     -0.003377     -0.028030   \n",
      "326425 -0.924461  1.962675      -0.308099     -0.003916     -0.036937   \n",
      "31876   1.510573 -0.491694      -0.308299     -0.003916     -0.036937   \n",
      "330825 -0.924461  2.075881       2.575036     -0.002300      0.007599   \n",
      "279708 -0.927842 -0.494955      -0.308426     -0.003916     -0.036937   \n",
      "\n",
      "        TotLen Fwd Pkts  TotLen Bwd Pkts  Fwd Pkt Len Max  Fwd Pkt Len Min  \\\n",
      "217754        -0.009755        -0.023171        -0.174139        -0.149992   \n",
      "40572         -0.009336        -0.021998        -0.129039         0.872026   \n",
      "136971        -0.005119        -0.018104         0.324970        -0.149992   \n",
      "40362         -0.009281        -0.021963        -0.123025         1.008295   \n",
      "86655         -0.009755        -0.023171        -0.174139        -0.149992   \n",
      "...                 ...              ...              ...              ...   \n",
      "54563         -0.009127        -0.021032        -0.106488         1.383034   \n",
      "326425        -0.009755        -0.023171        -0.174139        -0.149992   \n",
      "31876         -0.009755        -0.022230        -0.174139        -0.149992   \n",
      "330825        -0.009336        -0.023091        -0.129039        -0.149992   \n",
      "279708        -0.009755        -0.023171        -0.174139        -0.149992   \n",
      "\n",
      "        Fwd Pkt Len Mean  ...  Active Std  Active Max  Active Min  Idle Mean  \\\n",
      "217754         -0.164556  ...   -0.062217   -0.088350   -0.060705  -0.291145   \n",
      "40572          -0.051526  ...   -0.062217   -0.088350   -0.060705  -0.291145   \n",
      "136971          0.460878  ...   -0.062217   -0.088350   -0.060705  -0.291145   \n",
      "40362          -0.036455  ...   -0.062217   -0.088350   -0.060705  -0.291145   \n",
      "86655          -0.164556  ...   -0.062217   -0.088350   -0.060705  -0.291145   \n",
      "...                  ...  ...         ...         ...         ...        ...   \n",
      "54563           0.004990  ...   -0.062217   -0.088350   -0.060705  -0.291145   \n",
      "326425         -0.164556  ...   -0.062217   -0.088350   -0.060705  -0.291145   \n",
      "31876          -0.164556  ...   -0.062217   -0.088350   -0.060705  -0.291145   \n",
      "330825         -0.126879  ...   -0.062217   -0.087022   -0.058369   3.604086   \n",
      "279708         -0.164556  ...   -0.062217   -0.088350   -0.060705  -0.291145   \n",
      "\n",
      "        Idle Std  Idle Max  Idle Min  Protocol_0  Protocol_6  Protocol_17  \n",
      "217754 -0.087428 -0.294888 -0.285377    1.347427   -1.096667    -0.331150  \n",
      "40572  -0.087428 -0.294888 -0.285377   -0.742155   -1.096667     3.019776  \n",
      "136971 -0.087428 -0.294888 -0.285377   -0.742155    0.911854    -0.331150  \n",
      "40362  -0.087428 -0.294888 -0.285377   -0.742155   -1.096667     3.019776  \n",
      "86655  -0.087428 -0.294888 -0.285377    1.347427   -1.096667    -0.331150  \n",
      "...          ...       ...       ...         ...         ...          ...  \n",
      "54563  -0.087428 -0.294888 -0.285377   -0.742155   -1.096667     3.019776  \n",
      "326425 -0.087428 -0.294888 -0.285377   -0.742155    0.911854    -0.331150  \n",
      "31876  -0.087428 -0.294888 -0.285377   -0.742155   -1.096667     3.019776  \n",
      "330825 -0.087428  3.540294  3.637894   -0.742155    0.911854    -0.331150  \n",
      "279708 -0.087428 -0.294888 -0.285377    1.347427   -1.096667    -0.331150  \n",
      "\n",
      "[103167 rows x 81 columns]\n"
     ]
    }
   ],
   "source": [
    "scaler = StandardScaler()\n",
    "\n",
    "numeric_cols = X_train.select_dtypes(include=['int64', 'float64']).columns\n",
    "\n",
    "X_train[numeric_cols] = scaler.fit_transform(X_train[numeric_cols])\n",
    "X_test[numeric_cols] = scaler.transform(X_test[numeric_cols])\n",
    "print(\"X_train :\\n\", X_train, \"\\n\")\n",
    "print(\"X_test :\\n\", X_test)"
   ]
  },
  {
   "cell_type": "markdown",
   "id": "61987748",
   "metadata": {},
   "source": [
    "### Prepare data for Deep Learning (convert datas into float32)"
   ]
  },
  {
   "cell_type": "code",
   "execution_count": 21,
   "id": "eae0fb11",
   "metadata": {},
   "outputs": [],
   "source": [
    "import tensorflow as tf\n",
    "from tensorflow.keras.models import Model, Sequential\n",
    "from tensorflow.keras.layers import Input, Dense, Conv1D, MaxPooling1D, Flatten, Dense, Dropout, LSTM\n",
    "\n",
    "\n",
    "X_train = X_train.astype('float32')\n",
    "X_test = X_test.astype('float32')\n",
    "\n",
    "\n",
    "Y_train = np.array(Y_train).astype('float32')\n",
    "Y_test = np.array(Y_test).astype('float32')\n",
    "\n",
    "X_train = np.expand_dims(X_train, axis=2)\n",
    "X_test = np.expand_dims(X_test, axis=2)\n",
    "\n"
   ]
  },
  {
   "cell_type": "markdown",
   "id": "d744e63c",
   "metadata": {},
   "source": [
    "### CNN training"
   ]
  },
  {
   "cell_type": "code",
   "execution_count": 22,
   "id": "2f1239a7",
   "metadata": {},
   "outputs": [
    {
     "data": {
      "text/html": [
       "<pre style=\"white-space:pre;overflow-x:auto;line-height:normal;font-family:Menlo,'DejaVu Sans Mono',consolas,'Courier New',monospace\"><span style=\"font-weight: bold\">Model: \"sequential_1\"</span>\n",
       "</pre>\n"
      ],
      "text/plain": [
       "\u001b[1mModel: \"sequential_1\"\u001b[0m\n"
      ]
     },
     "metadata": {},
     "output_type": "display_data"
    },
    {
     "data": {
      "text/html": [
       "<pre style=\"white-space:pre;overflow-x:auto;line-height:normal;font-family:Menlo,'DejaVu Sans Mono',consolas,'Courier New',monospace\">┏━━━━━━━━━━━━━━━━━━━━━━━━━━━━━━━━━┳━━━━━━━━━━━━━━━━━━━━━━━━┳━━━━━━━━━━━━━━━┓\n",
       "┃<span style=\"font-weight: bold\"> Layer (type)                    </span>┃<span style=\"font-weight: bold\"> Output Shape           </span>┃<span style=\"font-weight: bold\">       Param # </span>┃\n",
       "┡━━━━━━━━━━━━━━━━━━━━━━━━━━━━━━━━━╇━━━━━━━━━━━━━━━━━━━━━━━━╇━━━━━━━━━━━━━━━┩\n",
       "│ conv1d_1 (<span style=\"color: #0087ff; text-decoration-color: #0087ff\">Conv1D</span>)               │ (<span style=\"color: #00d7ff; text-decoration-color: #00d7ff\">None</span>, <span style=\"color: #00af00; text-decoration-color: #00af00\">79</span>, <span style=\"color: #00af00; text-decoration-color: #00af00\">32</span>)         │           <span style=\"color: #00af00; text-decoration-color: #00af00\">128</span> │\n",
       "├─────────────────────────────────┼────────────────────────┼───────────────┤\n",
       "│ max_pooling1d_1 (<span style=\"color: #0087ff; text-decoration-color: #0087ff\">MaxPooling1D</span>)  │ (<span style=\"color: #00d7ff; text-decoration-color: #00d7ff\">None</span>, <span style=\"color: #00af00; text-decoration-color: #00af00\">39</span>, <span style=\"color: #00af00; text-decoration-color: #00af00\">32</span>)         │             <span style=\"color: #00af00; text-decoration-color: #00af00\">0</span> │\n",
       "├─────────────────────────────────┼────────────────────────┼───────────────┤\n",
       "│ dropout_2 (<span style=\"color: #0087ff; text-decoration-color: #0087ff\">Dropout</span>)             │ (<span style=\"color: #00d7ff; text-decoration-color: #00d7ff\">None</span>, <span style=\"color: #00af00; text-decoration-color: #00af00\">39</span>, <span style=\"color: #00af00; text-decoration-color: #00af00\">32</span>)         │             <span style=\"color: #00af00; text-decoration-color: #00af00\">0</span> │\n",
       "├─────────────────────────────────┼────────────────────────┼───────────────┤\n",
       "│ flatten_1 (<span style=\"color: #0087ff; text-decoration-color: #0087ff\">Flatten</span>)             │ (<span style=\"color: #00d7ff; text-decoration-color: #00d7ff\">None</span>, <span style=\"color: #00af00; text-decoration-color: #00af00\">1248</span>)           │             <span style=\"color: #00af00; text-decoration-color: #00af00\">0</span> │\n",
       "├─────────────────────────────────┼────────────────────────┼───────────────┤\n",
       "│ dense_2 (<span style=\"color: #0087ff; text-decoration-color: #0087ff\">Dense</span>)                 │ (<span style=\"color: #00d7ff; text-decoration-color: #00d7ff\">None</span>, <span style=\"color: #00af00; text-decoration-color: #00af00\">64</span>)             │        <span style=\"color: #00af00; text-decoration-color: #00af00\">79,936</span> │\n",
       "├─────────────────────────────────┼────────────────────────┼───────────────┤\n",
       "│ dropout_3 (<span style=\"color: #0087ff; text-decoration-color: #0087ff\">Dropout</span>)             │ (<span style=\"color: #00d7ff; text-decoration-color: #00d7ff\">None</span>, <span style=\"color: #00af00; text-decoration-color: #00af00\">64</span>)             │             <span style=\"color: #00af00; text-decoration-color: #00af00\">0</span> │\n",
       "├─────────────────────────────────┼────────────────────────┼───────────────┤\n",
       "│ dense_3 (<span style=\"color: #0087ff; text-decoration-color: #0087ff\">Dense</span>)                 │ (<span style=\"color: #00d7ff; text-decoration-color: #00d7ff\">None</span>, <span style=\"color: #00af00; text-decoration-color: #00af00\">1</span>)              │            <span style=\"color: #00af00; text-decoration-color: #00af00\">65</span> │\n",
       "└─────────────────────────────────┴────────────────────────┴───────────────┘\n",
       "</pre>\n"
      ],
      "text/plain": [
       "┏━━━━━━━━━━━━━━━━━━━━━━━━━━━━━━━━━┳━━━━━━━━━━━━━━━━━━━━━━━━┳━━━━━━━━━━━━━━━┓\n",
       "┃\u001b[1m \u001b[0m\u001b[1mLayer (type)                   \u001b[0m\u001b[1m \u001b[0m┃\u001b[1m \u001b[0m\u001b[1mOutput Shape          \u001b[0m\u001b[1m \u001b[0m┃\u001b[1m \u001b[0m\u001b[1m      Param #\u001b[0m\u001b[1m \u001b[0m┃\n",
       "┡━━━━━━━━━━━━━━━━━━━━━━━━━━━━━━━━━╇━━━━━━━━━━━━━━━━━━━━━━━━╇━━━━━━━━━━━━━━━┩\n",
       "│ conv1d_1 (\u001b[38;5;33mConv1D\u001b[0m)               │ (\u001b[38;5;45mNone\u001b[0m, \u001b[38;5;34m79\u001b[0m, \u001b[38;5;34m32\u001b[0m)         │           \u001b[38;5;34m128\u001b[0m │\n",
       "├─────────────────────────────────┼────────────────────────┼───────────────┤\n",
       "│ max_pooling1d_1 (\u001b[38;5;33mMaxPooling1D\u001b[0m)  │ (\u001b[38;5;45mNone\u001b[0m, \u001b[38;5;34m39\u001b[0m, \u001b[38;5;34m32\u001b[0m)         │             \u001b[38;5;34m0\u001b[0m │\n",
       "├─────────────────────────────────┼────────────────────────┼───────────────┤\n",
       "│ dropout_2 (\u001b[38;5;33mDropout\u001b[0m)             │ (\u001b[38;5;45mNone\u001b[0m, \u001b[38;5;34m39\u001b[0m, \u001b[38;5;34m32\u001b[0m)         │             \u001b[38;5;34m0\u001b[0m │\n",
       "├─────────────────────────────────┼────────────────────────┼───────────────┤\n",
       "│ flatten_1 (\u001b[38;5;33mFlatten\u001b[0m)             │ (\u001b[38;5;45mNone\u001b[0m, \u001b[38;5;34m1248\u001b[0m)           │             \u001b[38;5;34m0\u001b[0m │\n",
       "├─────────────────────────────────┼────────────────────────┼───────────────┤\n",
       "│ dense_2 (\u001b[38;5;33mDense\u001b[0m)                 │ (\u001b[38;5;45mNone\u001b[0m, \u001b[38;5;34m64\u001b[0m)             │        \u001b[38;5;34m79,936\u001b[0m │\n",
       "├─────────────────────────────────┼────────────────────────┼───────────────┤\n",
       "│ dropout_3 (\u001b[38;5;33mDropout\u001b[0m)             │ (\u001b[38;5;45mNone\u001b[0m, \u001b[38;5;34m64\u001b[0m)             │             \u001b[38;5;34m0\u001b[0m │\n",
       "├─────────────────────────────────┼────────────────────────┼───────────────┤\n",
       "│ dense_3 (\u001b[38;5;33mDense\u001b[0m)                 │ (\u001b[38;5;45mNone\u001b[0m, \u001b[38;5;34m1\u001b[0m)              │            \u001b[38;5;34m65\u001b[0m │\n",
       "└─────────────────────────────────┴────────────────────────┴───────────────┘\n"
      ]
     },
     "metadata": {},
     "output_type": "display_data"
    },
    {
     "data": {
      "text/html": [
       "<pre style=\"white-space:pre;overflow-x:auto;line-height:normal;font-family:Menlo,'DejaVu Sans Mono',consolas,'Courier New',monospace\"><span style=\"font-weight: bold\"> Total params: </span><span style=\"color: #00af00; text-decoration-color: #00af00\">80,129</span> (313.00 KB)\n",
       "</pre>\n"
      ],
      "text/plain": [
       "\u001b[1m Total params: \u001b[0m\u001b[38;5;34m80,129\u001b[0m (313.00 KB)\n"
      ]
     },
     "metadata": {},
     "output_type": "display_data"
    },
    {
     "data": {
      "text/html": [
       "<pre style=\"white-space:pre;overflow-x:auto;line-height:normal;font-family:Menlo,'DejaVu Sans Mono',consolas,'Courier New',monospace\"><span style=\"font-weight: bold\"> Trainable params: </span><span style=\"color: #00af00; text-decoration-color: #00af00\">80,129</span> (313.00 KB)\n",
       "</pre>\n"
      ],
      "text/plain": [
       "\u001b[1m Trainable params: \u001b[0m\u001b[38;5;34m80,129\u001b[0m (313.00 KB)\n"
      ]
     },
     "metadata": {},
     "output_type": "display_data"
    },
    {
     "data": {
      "text/html": [
       "<pre style=\"white-space:pre;overflow-x:auto;line-height:normal;font-family:Menlo,'DejaVu Sans Mono',consolas,'Courier New',monospace\"><span style=\"font-weight: bold\"> Non-trainable params: </span><span style=\"color: #00af00; text-decoration-color: #00af00\">0</span> (0.00 B)\n",
       "</pre>\n"
      ],
      "text/plain": [
       "\u001b[1m Non-trainable params: \u001b[0m\u001b[38;5;34m0\u001b[0m (0.00 B)\n"
      ]
     },
     "metadata": {},
     "output_type": "display_data"
    },
    {
     "name": "stdout",
     "output_type": "stream",
     "text": [
      "Epoch 1/10\n",
      "\u001b[1m3762/3762\u001b[0m \u001b[32m━━━━━━━━━━━━━━━━━━━━\u001b[0m\u001b[37m\u001b[0m \u001b[1m12s\u001b[0m 3ms/step - accuracy: 0.9899 - loss: 0.0378 - val_accuracy: 0.9966 - val_loss: 0.0110\n",
      "Epoch 2/10\n",
      "\u001b[1m3762/3762\u001b[0m \u001b[32m━━━━━━━━━━━━━━━━━━━━\u001b[0m\u001b[37m\u001b[0m \u001b[1m11s\u001b[0m 3ms/step - accuracy: 0.9969 - loss: 0.0115 - val_accuracy: 0.9978 - val_loss: 0.0082\n",
      "Epoch 3/10\n",
      "\u001b[1m3762/3762\u001b[0m \u001b[32m━━━━━━━━━━━━━━━━━━━━\u001b[0m\u001b[37m\u001b[0m \u001b[1m11s\u001b[0m 3ms/step - accuracy: 0.9978 - loss: 0.0079 - val_accuracy: 0.9994 - val_loss: 0.0058\n",
      "Epoch 4/10\n",
      "\u001b[1m3762/3762\u001b[0m \u001b[32m━━━━━━━━━━━━━━━━━━━━\u001b[0m\u001b[37m\u001b[0m \u001b[1m11s\u001b[0m 3ms/step - accuracy: 0.9985 - loss: 0.0068 - val_accuracy: 0.9994 - val_loss: 0.0057\n",
      "Epoch 5/10\n",
      "\u001b[1m3762/3762\u001b[0m \u001b[32m━━━━━━━━━━━━━━━━━━━━\u001b[0m\u001b[37m\u001b[0m \u001b[1m11s\u001b[0m 3ms/step - accuracy: 0.9988 - loss: 0.0061 - val_accuracy: 0.9995 - val_loss: 0.0033\n",
      "Epoch 6/10\n",
      "\u001b[1m3762/3762\u001b[0m \u001b[32m━━━━━━━━━━━━━━━━━━━━\u001b[0m\u001b[37m\u001b[0m \u001b[1m12s\u001b[0m 3ms/step - accuracy: 0.9990 - loss: 0.0059 - val_accuracy: 0.9994 - val_loss: 0.0050\n",
      "Epoch 7/10\n",
      "\u001b[1m3762/3762\u001b[0m \u001b[32m━━━━━━━━━━━━━━━━━━━━\u001b[0m\u001b[37m\u001b[0m \u001b[1m13s\u001b[0m 3ms/step - accuracy: 0.9990 - loss: 0.0048 - val_accuracy: 0.9995 - val_loss: 0.0034\n",
      "Epoch 8/10\n",
      "\u001b[1m3762/3762\u001b[0m \u001b[32m━━━━━━━━━━━━━━━━━━━━\u001b[0m\u001b[37m\u001b[0m \u001b[1m12s\u001b[0m 3ms/step - accuracy: 0.9992 - loss: 0.0037 - val_accuracy: 0.9995 - val_loss: 0.0032\n",
      "Epoch 9/10\n",
      "\u001b[1m3762/3762\u001b[0m \u001b[32m━━━━━━━━━━━━━━━━━━━━\u001b[0m\u001b[37m\u001b[0m \u001b[1m11s\u001b[0m 3ms/step - accuracy: 0.9992 - loss: 0.0038 - val_accuracy: 0.9995 - val_loss: 0.0023\n",
      "Epoch 10/10\n",
      "\u001b[1m3762/3762\u001b[0m \u001b[32m━━━━━━━━━━━━━━━━━━━━\u001b[0m\u001b[37m\u001b[0m \u001b[1m11s\u001b[0m 3ms/step - accuracy: 0.9993 - loss: 0.0039 - val_accuracy: 0.9995 - val_loss: 0.0023\n"
     ]
    }
   ],
   "source": [
    "CNN_model = Sequential([\n",
    "    Input(shape=(X_train.shape[1], 1)),\n",
    "    Conv1D(32, kernel_size=3, activation='relu'),\n",
    "    MaxPooling1D(pool_size=2), # keep the maximum each 2 values (divide by 2 the number of values)\n",
    "    Dropout(0.3), # disable 30% of neurons => reduce overfitting\n",
    "    Flatten(), # transform the structure from 3D to 2D\n",
    "    Dense(64, activation='relu'),\n",
    "    Dropout(0.3),\n",
    "    Dense(1, activation='sigmoid') # binary output (0=normal or 1=attack)\n",
    "])\n",
    "\n",
    "CNN_model.compile(optimizer='adam', loss='binary_crossentropy', metrics=['accuracy'])\n",
    "\n",
    "CNN_model.summary()\n",
    "\n",
    "history = CNN_model.fit(X_train, Y_train, epochs=10, batch_size=64, validation_data=(X_test, Y_test))"
   ]
  },
  {
   "cell_type": "markdown",
   "id": "09eeaa6b",
   "metadata": {},
   "source": [
    "### LSTM training"
   ]
  },
  {
   "cell_type": "code",
   "execution_count": 23,
   "id": "ffe9b495",
   "metadata": {},
   "outputs": [
    {
     "data": {
      "text/html": [
       "<pre style=\"white-space:pre;overflow-x:auto;line-height:normal;font-family:Menlo,'DejaVu Sans Mono',consolas,'Courier New',monospace\"><span style=\"font-weight: bold\">Model: \"sequential_2\"</span>\n",
       "</pre>\n"
      ],
      "text/plain": [
       "\u001b[1mModel: \"sequential_2\"\u001b[0m\n"
      ]
     },
     "metadata": {},
     "output_type": "display_data"
    },
    {
     "data": {
      "text/html": [
       "<pre style=\"white-space:pre;overflow-x:auto;line-height:normal;font-family:Menlo,'DejaVu Sans Mono',consolas,'Courier New',monospace\">┏━━━━━━━━━━━━━━━━━━━━━━━━━━━━━━━━━┳━━━━━━━━━━━━━━━━━━━━━━━━┳━━━━━━━━━━━━━━━┓\n",
       "┃<span style=\"font-weight: bold\"> Layer (type)                    </span>┃<span style=\"font-weight: bold\"> Output Shape           </span>┃<span style=\"font-weight: bold\">       Param # </span>┃\n",
       "┡━━━━━━━━━━━━━━━━━━━━━━━━━━━━━━━━━╇━━━━━━━━━━━━━━━━━━━━━━━━╇━━━━━━━━━━━━━━━┩\n",
       "│ lstm (<span style=\"color: #0087ff; text-decoration-color: #0087ff\">LSTM</span>)                     │ (<span style=\"color: #00d7ff; text-decoration-color: #00d7ff\">None</span>, <span style=\"color: #00af00; text-decoration-color: #00af00\">64</span>)             │        <span style=\"color: #00af00; text-decoration-color: #00af00\">16,896</span> │\n",
       "├─────────────────────────────────┼────────────────────────┼───────────────┤\n",
       "│ dropout_4 (<span style=\"color: #0087ff; text-decoration-color: #0087ff\">Dropout</span>)             │ (<span style=\"color: #00d7ff; text-decoration-color: #00d7ff\">None</span>, <span style=\"color: #00af00; text-decoration-color: #00af00\">64</span>)             │             <span style=\"color: #00af00; text-decoration-color: #00af00\">0</span> │\n",
       "├─────────────────────────────────┼────────────────────────┼───────────────┤\n",
       "│ dense_4 (<span style=\"color: #0087ff; text-decoration-color: #0087ff\">Dense</span>)                 │ (<span style=\"color: #00d7ff; text-decoration-color: #00d7ff\">None</span>, <span style=\"color: #00af00; text-decoration-color: #00af00\">64</span>)             │         <span style=\"color: #00af00; text-decoration-color: #00af00\">4,160</span> │\n",
       "├─────────────────────────────────┼────────────────────────┼───────────────┤\n",
       "│ dropout_5 (<span style=\"color: #0087ff; text-decoration-color: #0087ff\">Dropout</span>)             │ (<span style=\"color: #00d7ff; text-decoration-color: #00d7ff\">None</span>, <span style=\"color: #00af00; text-decoration-color: #00af00\">64</span>)             │             <span style=\"color: #00af00; text-decoration-color: #00af00\">0</span> │\n",
       "├─────────────────────────────────┼────────────────────────┼───────────────┤\n",
       "│ dense_5 (<span style=\"color: #0087ff; text-decoration-color: #0087ff\">Dense</span>)                 │ (<span style=\"color: #00d7ff; text-decoration-color: #00d7ff\">None</span>, <span style=\"color: #00af00; text-decoration-color: #00af00\">1</span>)              │            <span style=\"color: #00af00; text-decoration-color: #00af00\">65</span> │\n",
       "└─────────────────────────────────┴────────────────────────┴───────────────┘\n",
       "</pre>\n"
      ],
      "text/plain": [
       "┏━━━━━━━━━━━━━━━━━━━━━━━━━━━━━━━━━┳━━━━━━━━━━━━━━━━━━━━━━━━┳━━━━━━━━━━━━━━━┓\n",
       "┃\u001b[1m \u001b[0m\u001b[1mLayer (type)                   \u001b[0m\u001b[1m \u001b[0m┃\u001b[1m \u001b[0m\u001b[1mOutput Shape          \u001b[0m\u001b[1m \u001b[0m┃\u001b[1m \u001b[0m\u001b[1m      Param #\u001b[0m\u001b[1m \u001b[0m┃\n",
       "┡━━━━━━━━━━━━━━━━━━━━━━━━━━━━━━━━━╇━━━━━━━━━━━━━━━━━━━━━━━━╇━━━━━━━━━━━━━━━┩\n",
       "│ lstm (\u001b[38;5;33mLSTM\u001b[0m)                     │ (\u001b[38;5;45mNone\u001b[0m, \u001b[38;5;34m64\u001b[0m)             │        \u001b[38;5;34m16,896\u001b[0m │\n",
       "├─────────────────────────────────┼────────────────────────┼───────────────┤\n",
       "│ dropout_4 (\u001b[38;5;33mDropout\u001b[0m)             │ (\u001b[38;5;45mNone\u001b[0m, \u001b[38;5;34m64\u001b[0m)             │             \u001b[38;5;34m0\u001b[0m │\n",
       "├─────────────────────────────────┼────────────────────────┼───────────────┤\n",
       "│ dense_4 (\u001b[38;5;33mDense\u001b[0m)                 │ (\u001b[38;5;45mNone\u001b[0m, \u001b[38;5;34m64\u001b[0m)             │         \u001b[38;5;34m4,160\u001b[0m │\n",
       "├─────────────────────────────────┼────────────────────────┼───────────────┤\n",
       "│ dropout_5 (\u001b[38;5;33mDropout\u001b[0m)             │ (\u001b[38;5;45mNone\u001b[0m, \u001b[38;5;34m64\u001b[0m)             │             \u001b[38;5;34m0\u001b[0m │\n",
       "├─────────────────────────────────┼────────────────────────┼───────────────┤\n",
       "│ dense_5 (\u001b[38;5;33mDense\u001b[0m)                 │ (\u001b[38;5;45mNone\u001b[0m, \u001b[38;5;34m1\u001b[0m)              │            \u001b[38;5;34m65\u001b[0m │\n",
       "└─────────────────────────────────┴────────────────────────┴───────────────┘\n"
      ]
     },
     "metadata": {},
     "output_type": "display_data"
    },
    {
     "data": {
      "text/html": [
       "<pre style=\"white-space:pre;overflow-x:auto;line-height:normal;font-family:Menlo,'DejaVu Sans Mono',consolas,'Courier New',monospace\"><span style=\"font-weight: bold\"> Total params: </span><span style=\"color: #00af00; text-decoration-color: #00af00\">21,121</span> (82.50 KB)\n",
       "</pre>\n"
      ],
      "text/plain": [
       "\u001b[1m Total params: \u001b[0m\u001b[38;5;34m21,121\u001b[0m (82.50 KB)\n"
      ]
     },
     "metadata": {},
     "output_type": "display_data"
    },
    {
     "data": {
      "text/html": [
       "<pre style=\"white-space:pre;overflow-x:auto;line-height:normal;font-family:Menlo,'DejaVu Sans Mono',consolas,'Courier New',monospace\"><span style=\"font-weight: bold\"> Trainable params: </span><span style=\"color: #00af00; text-decoration-color: #00af00\">21,121</span> (82.50 KB)\n",
       "</pre>\n"
      ],
      "text/plain": [
       "\u001b[1m Trainable params: \u001b[0m\u001b[38;5;34m21,121\u001b[0m (82.50 KB)\n"
      ]
     },
     "metadata": {},
     "output_type": "display_data"
    },
    {
     "data": {
      "text/html": [
       "<pre style=\"white-space:pre;overflow-x:auto;line-height:normal;font-family:Menlo,'DejaVu Sans Mono',consolas,'Courier New',monospace\"><span style=\"font-weight: bold\"> Non-trainable params: </span><span style=\"color: #00af00; text-decoration-color: #00af00\">0</span> (0.00 B)\n",
       "</pre>\n"
      ],
      "text/plain": [
       "\u001b[1m Non-trainable params: \u001b[0m\u001b[38;5;34m0\u001b[0m (0.00 B)\n"
      ]
     },
     "metadata": {},
     "output_type": "display_data"
    },
    {
     "name": "stdout",
     "output_type": "stream",
     "text": [
      "Epoch 1/5\n",
      "\u001b[1m3762/3762\u001b[0m \u001b[32m━━━━━━━━━━━━━━━━━━━━\u001b[0m\u001b[37m\u001b[0m \u001b[1m86s\u001b[0m 23ms/step - accuracy: 0.9729 - loss: 0.0872 - val_accuracy: 0.9946 - val_loss: 0.0281\n",
      "Epoch 2/5\n",
      "\u001b[1m3762/3762\u001b[0m \u001b[32m━━━━━━━━━━━━━━━━━━━━\u001b[0m\u001b[37m\u001b[0m \u001b[1m88s\u001b[0m 23ms/step - accuracy: 0.9948 - loss: 0.0273 - val_accuracy: 0.9954 - val_loss: 0.0199\n",
      "Epoch 3/5\n",
      "\u001b[1m3762/3762\u001b[0m \u001b[32m━━━━━━━━━━━━━━━━━━━━\u001b[0m\u001b[37m\u001b[0m \u001b[1m85s\u001b[0m 23ms/step - accuracy: 0.9962 - loss: 0.0178 - val_accuracy: 0.9940 - val_loss: 0.0258\n",
      "Epoch 4/5\n",
      "\u001b[1m3762/3762\u001b[0m \u001b[32m━━━━━━━━━━━━━━━━━━━━\u001b[0m\u001b[37m\u001b[0m \u001b[1m84s\u001b[0m 22ms/step - accuracy: 0.9949 - loss: 0.0219 - val_accuracy: 0.9956 - val_loss: 0.0192\n",
      "Epoch 5/5\n",
      "\u001b[1m3762/3762\u001b[0m \u001b[32m━━━━━━━━━━━━━━━━━━━━\u001b[0m\u001b[37m\u001b[0m \u001b[1m87s\u001b[0m 23ms/step - accuracy: 0.9951 - loss: 0.0222 - val_accuracy: 0.9964 - val_loss: 0.0174\n"
     ]
    }
   ],
   "source": [
    "LSTM_model = Sequential([\n",
    "    Input(shape=(X_train.shape[1], 1)),\n",
    "    LSTM(64, return_sequences=False),\n",
    "    Dropout(0.3),\n",
    "    Dense(64, activation='relu'),\n",
    "    Dropout(0.3),\n",
    "    Dense(1, activation='sigmoid')\n",
    "])\n",
    "\n",
    "LSTM_model.compile(optimizer='adam', loss='binary_crossentropy', metrics=['accuracy'])\n",
    "\n",
    "LSTM_model.summary()\n",
    "\n",
    "\n",
    "history = LSTM_model.fit(X_train, Y_train, epochs=5, batch_size=64, validation_data=(X_test, Y_test))\n"
   ]
  },
  {
   "cell_type": "markdown",
   "id": "5288c7e2",
   "metadata": {},
   "source": [
    "### AE-LSTM"
   ]
  },
  {
   "cell_type": "code",
   "execution_count": 24,
   "id": "9ef42938",
   "metadata": {},
   "outputs": [
    {
     "data": {
      "text/html": [
       "<pre style=\"white-space:pre;overflow-x:auto;line-height:normal;font-family:Menlo,'DejaVu Sans Mono',consolas,'Courier New',monospace\"><span style=\"font-weight: bold\">Model: \"functional_3\"</span>\n",
       "</pre>\n"
      ],
      "text/plain": [
       "\u001b[1mModel: \"functional_3\"\u001b[0m\n"
      ]
     },
     "metadata": {},
     "output_type": "display_data"
    },
    {
     "data": {
      "text/html": [
       "<pre style=\"white-space:pre;overflow-x:auto;line-height:normal;font-family:Menlo,'DejaVu Sans Mono',consolas,'Courier New',monospace\">┏━━━━━━━━━━━━━━━━━━━━━━━━━━━━━━━━━┳━━━━━━━━━━━━━━━━━━━━━━━━┳━━━━━━━━━━━━━━━┓\n",
       "┃<span style=\"font-weight: bold\"> Layer (type)                    </span>┃<span style=\"font-weight: bold\"> Output Shape           </span>┃<span style=\"font-weight: bold\">       Param # </span>┃\n",
       "┡━━━━━━━━━━━━━━━━━━━━━━━━━━━━━━━━━╇━━━━━━━━━━━━━━━━━━━━━━━━╇━━━━━━━━━━━━━━━┩\n",
       "│ input_layer_3 (<span style=\"color: #0087ff; text-decoration-color: #0087ff\">InputLayer</span>)      │ (<span style=\"color: #00d7ff; text-decoration-color: #00d7ff\">None</span>, <span style=\"color: #00af00; text-decoration-color: #00af00\">81</span>, <span style=\"color: #00af00; text-decoration-color: #00af00\">1</span>)          │             <span style=\"color: #00af00; text-decoration-color: #00af00\">0</span> │\n",
       "├─────────────────────────────────┼────────────────────────┼───────────────┤\n",
       "│ lstm_1 (<span style=\"color: #0087ff; text-decoration-color: #0087ff\">LSTM</span>)                   │ (<span style=\"color: #00d7ff; text-decoration-color: #00d7ff\">None</span>, <span style=\"color: #00af00; text-decoration-color: #00af00\">64</span>)             │        <span style=\"color: #00af00; text-decoration-color: #00af00\">16,896</span> │\n",
       "├─────────────────────────────────┼────────────────────────┼───────────────┤\n",
       "│ dense_6 (<span style=\"color: #0087ff; text-decoration-color: #0087ff\">Dense</span>)                 │ (<span style=\"color: #00d7ff; text-decoration-color: #00d7ff\">None</span>, <span style=\"color: #00af00; text-decoration-color: #00af00\">32</span>)             │         <span style=\"color: #00af00; text-decoration-color: #00af00\">2,080</span> │\n",
       "├─────────────────────────────────┼────────────────────────┼───────────────┤\n",
       "│ dropout_6 (<span style=\"color: #0087ff; text-decoration-color: #0087ff\">Dropout</span>)             │ (<span style=\"color: #00d7ff; text-decoration-color: #00d7ff\">None</span>, <span style=\"color: #00af00; text-decoration-color: #00af00\">32</span>)             │             <span style=\"color: #00af00; text-decoration-color: #00af00\">0</span> │\n",
       "├─────────────────────────────────┼────────────────────────┼───────────────┤\n",
       "│ dense_7 (<span style=\"color: #0087ff; text-decoration-color: #0087ff\">Dense</span>)                 │ (<span style=\"color: #00d7ff; text-decoration-color: #00d7ff\">None</span>, <span style=\"color: #00af00; text-decoration-color: #00af00\">64</span>)             │         <span style=\"color: #00af00; text-decoration-color: #00af00\">2,112</span> │\n",
       "├─────────────────────────────────┼────────────────────────┼───────────────┤\n",
       "│ dropout_7 (<span style=\"color: #0087ff; text-decoration-color: #0087ff\">Dropout</span>)             │ (<span style=\"color: #00d7ff; text-decoration-color: #00d7ff\">None</span>, <span style=\"color: #00af00; text-decoration-color: #00af00\">64</span>)             │             <span style=\"color: #00af00; text-decoration-color: #00af00\">0</span> │\n",
       "├─────────────────────────────────┼────────────────────────┼───────────────┤\n",
       "│ dense_8 (<span style=\"color: #0087ff; text-decoration-color: #0087ff\">Dense</span>)                 │ (<span style=\"color: #00d7ff; text-decoration-color: #00d7ff\">None</span>, <span style=\"color: #00af00; text-decoration-color: #00af00\">1</span>)              │            <span style=\"color: #00af00; text-decoration-color: #00af00\">65</span> │\n",
       "└─────────────────────────────────┴────────────────────────┴───────────────┘\n",
       "</pre>\n"
      ],
      "text/plain": [
       "┏━━━━━━━━━━━━━━━━━━━━━━━━━━━━━━━━━┳━━━━━━━━━━━━━━━━━━━━━━━━┳━━━━━━━━━━━━━━━┓\n",
       "┃\u001b[1m \u001b[0m\u001b[1mLayer (type)                   \u001b[0m\u001b[1m \u001b[0m┃\u001b[1m \u001b[0m\u001b[1mOutput Shape          \u001b[0m\u001b[1m \u001b[0m┃\u001b[1m \u001b[0m\u001b[1m      Param #\u001b[0m\u001b[1m \u001b[0m┃\n",
       "┡━━━━━━━━━━━━━━━━━━━━━━━━━━━━━━━━━╇━━━━━━━━━━━━━━━━━━━━━━━━╇━━━━━━━━━━━━━━━┩\n",
       "│ input_layer_3 (\u001b[38;5;33mInputLayer\u001b[0m)      │ (\u001b[38;5;45mNone\u001b[0m, \u001b[38;5;34m81\u001b[0m, \u001b[38;5;34m1\u001b[0m)          │             \u001b[38;5;34m0\u001b[0m │\n",
       "├─────────────────────────────────┼────────────────────────┼───────────────┤\n",
       "│ lstm_1 (\u001b[38;5;33mLSTM\u001b[0m)                   │ (\u001b[38;5;45mNone\u001b[0m, \u001b[38;5;34m64\u001b[0m)             │        \u001b[38;5;34m16,896\u001b[0m │\n",
       "├─────────────────────────────────┼────────────────────────┼───────────────┤\n",
       "│ dense_6 (\u001b[38;5;33mDense\u001b[0m)                 │ (\u001b[38;5;45mNone\u001b[0m, \u001b[38;5;34m32\u001b[0m)             │         \u001b[38;5;34m2,080\u001b[0m │\n",
       "├─────────────────────────────────┼────────────────────────┼───────────────┤\n",
       "│ dropout_6 (\u001b[38;5;33mDropout\u001b[0m)             │ (\u001b[38;5;45mNone\u001b[0m, \u001b[38;5;34m32\u001b[0m)             │             \u001b[38;5;34m0\u001b[0m │\n",
       "├─────────────────────────────────┼────────────────────────┼───────────────┤\n",
       "│ dense_7 (\u001b[38;5;33mDense\u001b[0m)                 │ (\u001b[38;5;45mNone\u001b[0m, \u001b[38;5;34m64\u001b[0m)             │         \u001b[38;5;34m2,112\u001b[0m │\n",
       "├─────────────────────────────────┼────────────────────────┼───────────────┤\n",
       "│ dropout_7 (\u001b[38;5;33mDropout\u001b[0m)             │ (\u001b[38;5;45mNone\u001b[0m, \u001b[38;5;34m64\u001b[0m)             │             \u001b[38;5;34m0\u001b[0m │\n",
       "├─────────────────────────────────┼────────────────────────┼───────────────┤\n",
       "│ dense_8 (\u001b[38;5;33mDense\u001b[0m)                 │ (\u001b[38;5;45mNone\u001b[0m, \u001b[38;5;34m1\u001b[0m)              │            \u001b[38;5;34m65\u001b[0m │\n",
       "└─────────────────────────────────┴────────────────────────┴───────────────┘\n"
      ]
     },
     "metadata": {},
     "output_type": "display_data"
    },
    {
     "data": {
      "text/html": [
       "<pre style=\"white-space:pre;overflow-x:auto;line-height:normal;font-family:Menlo,'DejaVu Sans Mono',consolas,'Courier New',monospace\"><span style=\"font-weight: bold\"> Total params: </span><span style=\"color: #00af00; text-decoration-color: #00af00\">21,153</span> (82.63 KB)\n",
       "</pre>\n"
      ],
      "text/plain": [
       "\u001b[1m Total params: \u001b[0m\u001b[38;5;34m21,153\u001b[0m (82.63 KB)\n"
      ]
     },
     "metadata": {},
     "output_type": "display_data"
    },
    {
     "data": {
      "text/html": [
       "<pre style=\"white-space:pre;overflow-x:auto;line-height:normal;font-family:Menlo,'DejaVu Sans Mono',consolas,'Courier New',monospace\"><span style=\"font-weight: bold\"> Trainable params: </span><span style=\"color: #00af00; text-decoration-color: #00af00\">21,153</span> (82.63 KB)\n",
       "</pre>\n"
      ],
      "text/plain": [
       "\u001b[1m Trainable params: \u001b[0m\u001b[38;5;34m21,153\u001b[0m (82.63 KB)\n"
      ]
     },
     "metadata": {},
     "output_type": "display_data"
    },
    {
     "data": {
      "text/html": [
       "<pre style=\"white-space:pre;overflow-x:auto;line-height:normal;font-family:Menlo,'DejaVu Sans Mono',consolas,'Courier New',monospace\"><span style=\"font-weight: bold\"> Non-trainable params: </span><span style=\"color: #00af00; text-decoration-color: #00af00\">0</span> (0.00 B)\n",
       "</pre>\n"
      ],
      "text/plain": [
       "\u001b[1m Non-trainable params: \u001b[0m\u001b[38;5;34m0\u001b[0m (0.00 B)\n"
      ]
     },
     "metadata": {},
     "output_type": "display_data"
    },
    {
     "name": "stdout",
     "output_type": "stream",
     "text": [
      "Epoch 1/5\n",
      "\u001b[1m3762/3762\u001b[0m \u001b[32m━━━━━━━━━━━━━━━━━━━━\u001b[0m\u001b[37m\u001b[0m \u001b[1m89s\u001b[0m 23ms/step - accuracy: 0.9736 - loss: 0.0878 - val_accuracy: 0.9947 - val_loss: 0.0289\n",
      "Epoch 2/5\n",
      "\u001b[1m3762/3762\u001b[0m \u001b[32m━━━━━━━━━━━━━━━━━━━━\u001b[0m\u001b[37m\u001b[0m \u001b[1m85s\u001b[0m 23ms/step - accuracy: 0.9949 - loss: 0.0295 - val_accuracy: 0.9955 - val_loss: 0.0219\n",
      "Epoch 3/5\n",
      "\u001b[1m3762/3762\u001b[0m \u001b[32m━━━━━━━━━━━━━━━━━━━━\u001b[0m\u001b[37m\u001b[0m \u001b[1m84s\u001b[0m 22ms/step - accuracy: 0.9960 - loss: 0.0211 - val_accuracy: 0.9965 - val_loss: 0.0158\n",
      "Epoch 4/5\n",
      "\u001b[1m3762/3762\u001b[0m \u001b[32m━━━━━━━━━━━━━━━━━━━━\u001b[0m\u001b[37m\u001b[0m \u001b[1m86s\u001b[0m 23ms/step - accuracy: 0.9963 - loss: 0.0145 - val_accuracy: 0.9952 - val_loss: 0.0134\n",
      "Epoch 5/5\n",
      "\u001b[1m3762/3762\u001b[0m \u001b[32m━━━━━━━━━━━━━━━━━━━━\u001b[0m\u001b[37m\u001b[0m \u001b[1m85s\u001b[0m 23ms/step - accuracy: 0.9967 - loss: 0.0128 - val_accuracy: 0.9967 - val_loss: 0.0118\n"
     ]
    }
   ],
   "source": [
    "input_dim = X_train.shape[1]  # n_features\n",
    "\n",
    "# encoder\n",
    "inputs = Input(shape=(input_dim, 1))\n",
    "encoded = LSTM(64, return_sequences=False)(inputs)\n",
    "encoded = Dense(32, activation='relu')(encoded)\n",
    "\n",
    "# classifier\n",
    "x = Dropout(0.3)(encoded)\n",
    "x = Dense(64, activation='relu')(x)\n",
    "x = Dropout(0.3)(x)\n",
    "output = Dense(1, activation='sigmoid')(x)\n",
    "\n",
    "AE_LSTM_model = Model(inputs, output)\n",
    "\n",
    "AE_LSTM_model.compile(optimizer='adam', loss='binary_crossentropy', metrics=['accuracy'])\n",
    "AE_LSTM_model.summary()\n",
    "\n",
    "\n",
    "history = AE_LSTM_model.fit(X_train, Y_train, epochs=5, batch_size=64, validation_data=(X_test, Y_test)\n",
    ")\n"
   ]
  },
  {
   "cell_type": "markdown",
   "id": "43b6f901",
   "metadata": {},
   "source": [
    "Let's save our models"
   ]
  },
  {
   "cell_type": "code",
   "execution_count": 25,
   "id": "fd6fcad6",
   "metadata": {},
   "outputs": [],
   "source": [
    "CNN_model.save(\"cnn_insdn_model.keras\")\n",
    "LSTM_model.save(\"lstm_insdn_model.keras\")\n",
    "AE_LSTM_model.save(\"ae-lstm_insdn_model.keras\")"
   ]
  },
  {
   "cell_type": "code",
   "execution_count": 26,
   "id": "72b9321b",
   "metadata": {},
   "outputs": [
    {
     "name": "stdout",
     "output_type": "stream",
     "text": [
      "\u001b[1m806/806\u001b[0m \u001b[32m━━━━━━━━━━━━━━━━━━━━\u001b[0m\u001b[37m\u001b[0m \u001b[1m1s\u001b[0m 1ms/step - accuracy: 0.9995 - loss: 0.0024\n",
      "test loss, test acc: [0.0022513745352625847, 0.9995347261428833]\n"
     ]
    }
   ],
   "source": [
    "from tensorflow.keras.models import load_model\n",
    "\n",
    "cnn_loaded = load_model('cnn_insdn_model.keras')\n",
    "results = cnn_loaded.evaluate(X_test, Y_test, batch_size=128)\n",
    "print(\"test loss, test acc:\", results)\n"
   ]
  },
  {
   "cell_type": "code",
   "execution_count": 27,
   "id": "01c78bb6",
   "metadata": {},
   "outputs": [
    {
     "name": "stdout",
     "output_type": "stream",
     "text": [
      "\u001b[1m3224/3224\u001b[0m \u001b[32m━━━━━━━━━━━━━━━━━━━━\u001b[0m\u001b[37m\u001b[0m \u001b[1m2s\u001b[0m 646us/step\n",
      "              precision    recall  f1-score   support\n",
      "\n",
      "      Normal       1.00      1.00      1.00     20566\n",
      "     Attacks       1.00      1.00      1.00     82601\n",
      "\n",
      "    accuracy                           1.00    103167\n",
      "   macro avg       1.00      1.00      1.00    103167\n",
      "weighted avg       1.00      1.00      1.00    103167\n",
      "\n",
      "Confusion matrix :\n",
      " [[20531    35]\n",
      " [   13 82588]]\n",
      "Attacks detected (True Positive) : 82588\n",
      "Attacks missed (False Negative) : 13\n",
      "False alarms (False Positive) : 35\n"
     ]
    }
   ],
   "source": [
    "from sklearn.metrics import classification_report, confusion_matrix\n",
    "\n",
    "y_pred_prob = cnn_loaded.predict(X_test)\n",
    "\n",
    "\n",
    "y_pred = (y_pred_prob > 0.5).astype(\"int32\")\n",
    "\n",
    "# (precision, recall, F1-score)\n",
    "print(classification_report(Y_test, y_pred, target_names=[\"Normal\", \"Attacks\"]))\n",
    "\n",
    "# Confusion Matrix\n",
    "cm = confusion_matrix(Y_test, y_pred)\n",
    "print(\"Confusion matrix :\\n\", cm)\n",
    "\n",
    "# Displaying the attack number\n",
    "tn, fp, fn, tp = cm.ravel()\n",
    "print(f\"Attacks detected (True Positive) : {tp}\")\n",
    "print(f\"Attacks missed (False Negative) : {fn}\")\n",
    "print(f\"False alarms (False Positive) : {fp}\")\n"
   ]
  }
 ],
 "metadata": {
  "kernelspec": {
   "display_name": "base",
   "language": "python",
   "name": "python3"
  },
  "language_info": {
   "codemirror_mode": {
    "name": "ipython",
    "version": 3
   },
   "file_extension": ".py",
   "mimetype": "text/x-python",
   "name": "python",
   "nbconvert_exporter": "python",
   "pygments_lexer": "ipython3",
   "version": "3.12.2"
  }
 },
 "nbformat": 4,
 "nbformat_minor": 5
}
