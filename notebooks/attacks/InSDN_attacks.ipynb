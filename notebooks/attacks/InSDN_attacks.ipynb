{
 "cells": [
  {
   "cell_type": "code",
   "execution_count": 7,
   "id": "909b84c1",
   "metadata": {},
   "outputs": [
    {
     "name": "stdout",
     "output_type": "stream",
     "text": [
      "2.6.3\n"
     ]
    }
   ],
   "source": [
    "import foolbox as fb\n",
    "import art\n",
    "import tensorflow as tf\n",
    "tf.compat.v1.disable_eager_execution()\n",
    "import numpy as np\n",
    "import joblib\n",
    "import matplotlib.pyplot as plt \n",
    "import eagerpy as ep\n",
    "\n",
    "print(tf.__version__)\n"
   ]
  },
  {
   "cell_type": "code",
   "execution_count": 8,
   "id": "495cc1aa",
   "metadata": {},
   "outputs": [
    {
     "name": "stdout",
     "output_type": "stream",
     "text": [
      "[1. 0. 1. ... 1. 1. 1.]\n"
     ]
    }
   ],
   "source": [
    "X_train = joblib.load('../../preprocessed_data/InSDN/X_train.joblib')\n",
    "X_test = joblib.load('../../preprocessed_data/InSDN/X_test.joblib')\n",
    "Y_train = joblib.load('../../preprocessed_data/InSDN/Y_train.joblib')\n",
    "Y_test = joblib.load('../../preprocessed_data/InSDN/Y_test.joblib')\n",
    "print(Y_train)"
   ]
  },
  {
   "cell_type": "code",
   "execution_count": 9,
   "id": "8136aedc",
   "metadata": {},
   "outputs": [],
   "source": [
    "from keras.models import load_model\n",
    "\n",
    "cnn_loaded = load_model('../../models/cnn_insdn_model.keras')\n",
    "lstm_loaded = load_model('../../models/lstm_insdn_model.keras')\n",
    "ae_lstm_loaded = load_model('../../models/ae-lstm_insdn_model.keras')\n",
    "\n"
   ]
  },
  {
   "cell_type": "markdown",
   "id": "a3b47776",
   "metadata": {},
   "source": [
    "### Defining evaluation metrics functions"
   ]
  },
  {
   "cell_type": "code",
   "execution_count": 10,
   "id": "e05229e5",
   "metadata": {},
   "outputs": [],
   "source": [
    "from sklearn.metrics import accuracy_score, precision_score, recall_score, f1_score\n",
    "import time\n",
    "\n",
    "def evaluate(true_labels, pred_labels, title):\n",
    "    acc = accuracy_score(true_labels, pred_labels)\n",
    "    prec = precision_score(true_labels, pred_labels, zero_division=0)\n",
    "    rec = recall_score(true_labels, pred_labels, zero_division=0)\n",
    "    f1 = f1_score(true_labels, pred_labels, zero_division=0)\n",
    "    print(f\"--- {title} ---\")\n",
    "    print(f\"Accuracy : {acc:.4f}\")\n",
    "    print(f\"Precision: {prec:.4f}\")\n",
    "    print(f\"Recall   : {rec:.4f}\")\n",
    "    print(f\"F1-score : {f1:.4f}\")\n",
    "    print()"
   ]
  },
  {
   "cell_type": "markdown",
   "id": "67e6b40a",
   "metadata": {},
   "source": [
    "### FGSM"
   ]
  },
  {
   "cell_type": "code",
   "execution_count": null,
   "id": "a0c80aac",
   "metadata": {},
   "outputs": [
    {
     "name": "stdout",
     "output_type": "stream",
     "text": [
      "-1.0552326 390.47467\n"
     ]
    },
    {
     "name": "stderr",
     "output_type": "stream",
     "text": [
      "PGD - Random Initializations: 100%|██████████| 1/1 [00:00<00:00,  7.19it/s]\n",
      "PGD - Random Initializations: 100%|██████████| 1/1 [00:00<00:00,  7.12it/s]\n",
      "PGD - Random Initializations: 100%|██████████| 1/1 [00:00<00:00,  7.13it/s]\n",
      "PGD - Random Initializations: 100%|██████████| 1/1 [00:00<00:00,  7.15it/s]\n",
      "PGD - Random Initializations: 100%|██████████| 1/1 [00:00<00:00,  7.14it/s]\n",
      "PGD - Random Initializations: 100%|██████████| 1/1 [00:00<00:00,  7.25it/s]\n",
      "PGD - Random Initializations: 100%|██████████| 1/1 [00:00<00:00,  7.42it/s]\n",
      "PGD - Random Initializations: 100%|██████████| 1/1 [00:00<00:00,  7.21it/s]\n",
      "PGD - Random Initializations: 100%|██████████| 1/1 [00:00<00:00,  7.30it/s]\n",
      "PGD - Random Initializations: 100%|██████████| 1/1 [00:00<00:00,  6.65it/s]\n",
      "PGD - Random Initializations: 100%|██████████| 1/1 [00:00<00:00,  7.33it/s]\n",
      "PGD - Random Initializations: 100%|██████████| 1/1 [00:00<00:00,  6.62it/s]\n",
      "PGD - Random Initializations: 100%|██████████| 1/1 [00:00<00:00,  6.65it/s]\n",
      "PGD - Random Initializations: 100%|██████████| 1/1 [00:00<00:00,  7.09it/s]\n",
      "PGD - Random Initializations: 100%|██████████| 1/1 [00:00<00:00,  7.38it/s]\n",
      "PGD - Random Initializations: 100%|██████████| 1/1 [00:00<00:00,  7.20it/s]\n",
      "PGD - Random Initializations: 100%|██████████| 1/1 [00:00<00:00,  7.15it/s]\n",
      "PGD - Random Initializations: 100%|██████████| 1/1 [00:00<00:00,  7.24it/s]\n",
      "PGD - Random Initializations: 100%|██████████| 1/1 [00:00<00:00,  7.28it/s]\n",
      "PGD - Random Initializations: 100%|██████████| 1/1 [00:00<00:00,  7.20it/s]\n",
      "PGD - Random Initializations: 100%|██████████| 1/1 [00:00<00:00,  7.19it/s]\n",
      "PGD - Random Initializations: 100%|██████████| 1/1 [00:00<00:00,  7.07it/s]\n",
      "PGD - Random Initializations: 100%|██████████| 1/1 [00:00<00:00,  7.31it/s]\n",
      "PGD - Random Initializations: 100%|██████████| 1/1 [00:00<00:00,  7.30it/s]\n",
      "PGD - Random Initializations: 100%|██████████| 1/1 [00:00<00:00,  6.94it/s]\n",
      "PGD - Random Initializations: 100%|██████████| 1/1 [00:00<00:00,  7.30it/s]\n",
      "PGD - Random Initializations: 100%|██████████| 1/1 [00:00<00:00,  7.19it/s]\n",
      "PGD - Random Initializations: 100%|██████████| 1/1 [00:00<00:00,  7.21it/s]\n",
      "PGD - Random Initializations: 100%|██████████| 1/1 [00:00<00:00,  7.46it/s]\n",
      "PGD - Random Initializations: 100%|██████████| 1/1 [00:00<00:00,  7.05it/s]\n",
      "PGD - Random Initializations: 100%|██████████| 1/1 [00:00<00:00,  6.93it/s]\n",
      "PGD - Random Initializations: 100%|██████████| 1/1 [00:00<00:00,  7.09it/s]\n",
      "PGD - Random Initializations: 100%|██████████| 1/1 [00:00<00:00,  6.35it/s]\n",
      "PGD - Random Initializations: 100%|██████████| 1/1 [00:00<00:00,  7.36it/s]\n",
      "PGD - Random Initializations: 100%|██████████| 1/1 [00:00<00:00,  7.20it/s]\n",
      "PGD - Random Initializations: 100%|██████████| 1/1 [00:00<00:00,  7.13it/s]\n",
      "PGD - Random Initializations: 100%|██████████| 1/1 [00:00<00:00,  7.26it/s]\n",
      "PGD - Random Initializations: 100%|██████████| 1/1 [00:00<00:00,  7.11it/s]\n",
      "PGD - Random Initializations: 100%|██████████| 1/1 [00:00<00:00,  7.29it/s]\n",
      "PGD - Random Initializations: 100%|██████████| 1/1 [00:00<00:00,  6.86it/s]\n",
      "PGD - Random Initializations: 100%|██████████| 1/1 [00:00<00:00,  7.16it/s]\n",
      "PGD - Random Initializations: 100%|██████████| 1/1 [00:00<00:00,  7.39it/s]\n",
      "PGD - Random Initializations: 100%|██████████| 1/1 [00:00<00:00,  7.26it/s]\n",
      "PGD - Random Initializations: 100%|██████████| 1/1 [00:00<00:00,  7.14it/s]\n",
      "PGD - Random Initializations: 100%|██████████| 1/1 [00:00<00:00,  7.08it/s]\n",
      "PGD - Random Initializations: 100%|██████████| 1/1 [00:00<00:00,  7.19it/s]\n",
      "PGD - Random Initializations: 100%|██████████| 1/1 [00:00<00:00,  7.43it/s]\n",
      "PGD - Random Initializations: 100%|██████████| 1/1 [00:00<00:00,  7.02it/s]\n",
      "PGD - Random Initializations: 100%|██████████| 1/1 [00:00<00:00,  7.37it/s]\n",
      "PGD - Random Initializations: 100%|██████████| 1/1 [00:00<00:00,  7.27it/s]\n",
      "PGD - Random Initializations: 100%|██████████| 1/1 [00:00<00:00,  7.38it/s]\n",
      "PGD - Random Initializations: 100%|██████████| 1/1 [00:00<00:00,  7.11it/s]\n",
      "PGD - Random Initializations: 100%|██████████| 1/1 [00:00<00:00,  7.16it/s]\n",
      "PGD - Random Initializations: 100%|██████████| 1/1 [00:00<00:00,  7.28it/s]\n",
      "PGD - Random Initializations: 100%|██████████| 1/1 [00:00<00:00,  7.37it/s]\n",
      "PGD - Random Initializations: 100%|██████████| 1/1 [00:00<00:00,  6.96it/s]\n",
      "PGD - Random Initializations: 100%|██████████| 1/1 [00:00<00:00,  7.07it/s]\n",
      "PGD - Random Initializations: 100%|██████████| 1/1 [00:00<00:00,  7.48it/s]\n",
      "PGD - Random Initializations: 100%|██████████| 1/1 [00:00<00:00,  7.42it/s]\n",
      "PGD - Random Initializations: 100%|██████████| 1/1 [00:00<00:00,  7.01it/s]\n",
      "PGD - Random Initializations: 100%|██████████| 1/1 [00:00<00:00,  7.05it/s]\n",
      "PGD - Random Initializations: 100%|██████████| 1/1 [00:00<00:00,  7.05it/s]\n"
     ]
    },
    {
     "name": "stdout",
     "output_type": "stream",
     "text": [
      "--- Original ---\n",
      "Accuracy : 1.0000\n",
      "Precision: 1.0000\n",
      "Recall   : 1.0000\n",
      "F1-score : 1.0000\n",
      "\n",
      "--- FGSM Attack ---\n",
      "Accuracy : 1.0000\n",
      "Precision: 1.0000\n",
      "Recall   : 1.0000\n",
      "F1-score : 1.0000\n",
      "\n",
      "FGSM Time: 0.02 sec\n",
      "\n",
      "--- FGSM Attack ---\n",
      "Accuracy : 1.0000\n",
      "Precision: 1.0000\n",
      "Recall   : 1.0000\n",
      "F1-score : 1.0000\n",
      "\n",
      "FGSM Time: 0.01 sec\n",
      "\n",
      "=== Prediction Counts ===\n",
      "Original        : Counter({0: 1016, 1: 968})\n",
      "fgsmAttack  : Counter({0: 1016, 1: 968})\n",
      "ProjectedGradientDescent  : Counter({0: 1016, 1: 968})\n"
     ]
    }
   ],
   "source": [
    "# from art.attacks.evasion import FastGradientMethod\n",
    "# from art.estimators.classification import KerasClassifier\n",
    "\n",
    "# # attack_fgsm = fgsmAttack(estimator=classifier)\n",
    "\n",
    "# classifier = KerasClassifier(model=cnn_loaded)\n",
    "\n",
    "# attack_fgsm = FastGradientMethod(estimator=classifier)\n",
    "\n",
    "# adv_fgsm = attack_fgsm.generate(x=X_test[:2000], y=Y_test[:2000])\n",
    "\n",
    "# # fgsm predictions\n",
    "# preds_adv_fgsm = classifier.predict(adv_fgsm)\n",
    "# labels_adv_fgsm = (preds_adv_fgsm > 0.5).astype(int).flatten()\n",
    "\n",
    "# print(\"=== Prediction Counts ===\")\n",
    "# print(\"Original        :\", Counter(labels_orig))\n",
    "# print(\"fgsmAttack  :\", Counter(labels_adv_fgsm))\n",
    "\n",
    "from collections import Counter\n",
    "from art.attacks.evasion import FastGradientMethod, ProjectedGradientDescent\n",
    "from art.estimators.classification import KerasClassifier\n",
    "\n",
    "# attack_fgsm = fgsmAttack(estimator=classifier)\n",
    "classifier = KerasClassifier(model=cnn_loaded, clip_values=(X_test.min(), X_test.max()))\n",
    "classifier._model.trainable = False\n",
    "\n",
    "preds_clean = classifier.predict(X_test[:2000])\n",
    "labels_clean = (preds_clean > 0.5).astype(int).flatten()\n",
    "print(X_test.min(), X_test.max())\n",
    "\n",
    "\n",
    "# only keep correctly classified traffic (TP and TN)\n",
    "correct = labels_clean == Y_test[:2000]\n",
    "\n",
    "X_correct = X_test[:2000][correct]\n",
    "Y_correct = Y_test[:2000][correct]\n",
    "\n",
    "\n",
    "\n",
    "#original predictions\n",
    "preds_orig = classifier.predict(X_correct)\n",
    "labels_orig = (preds_orig > 0.5).astype(int).flatten()\n",
    "evaluate(Y_correct, labels_orig, \"Original\")\n",
    "\n",
    "# fgsm predictions\n",
    "start = time.time()\n",
    "attack_fgsm = FastGradientMethod(estimator=classifier, eps=1.0)\n",
    "adv_fgsm = attack_fgsm.generate(x=X_correct, y=Y_correct)\n",
    "preds_adv_fgsm = classifier.predict(adv_fgsm)\n",
    "labels_adv_fgsm = (preds_adv_fgsm > 0.5).astype(int).flatten()\n",
    "evaluate(Y_correct, labels_adv_fgsm, \"FGSM Attack\")\n",
    "print(f\"FGSM Time: {time.time() - start:.2f} sec\\n\")\n",
    "\n",
    "# ProjectedGradientDescent predictions\n",
    "start = time.time()\n",
    "attack_pgd = ProjectedGradientDescent(estimator=classifier, eps=1.0)\n",
    "adv_pgd = attack_pgd.generate(x=X_correct, y=Y_correct)\n",
    "preds_adv_pgd = classifier.predict(adv_pgd)\n",
    "labels_adv_pgd = (preds_adv_pgd > 0.5).astype(int).flatten()\n",
    "evaluate(Y_correct, labels_adv_fgsm, \"PGD Attack\")\n",
    "print(f\"PGD Time: {time.time() - start:.2f} sec\\n\")"
   ]
  },
  {
   "cell_type": "markdown",
   "id": "538fdceb",
   "metadata": {},
   "source": [
    "### HopSkipJump"
   ]
  },
  {
   "cell_type": "code",
   "execution_count": 12,
   "id": "7eb4ec1a",
   "metadata": {},
   "outputs": [
    {
     "ename": "NameError",
     "evalue": "name 'HopSkipJump' is not defined",
     "output_type": "error",
     "traceback": [
      "\u001b[0;31m---------------------------------------------------------------------------\u001b[0m",
      "\u001b[0;31mNameError\u001b[0m                                 Traceback (most recent call last)",
      "Cell \u001b[0;32mIn[12], line 1\u001b[0m\n\u001b[0;32m----> 1\u001b[0m attack_hsj \u001b[38;5;241m=\u001b[39m \u001b[43mHopSkipJump\u001b[49m(classifier\u001b[38;5;241m=\u001b[39mclassifier, norm\u001b[38;5;241m=\u001b[39m\u001b[38;5;241m2\u001b[39m,max_iter\u001b[38;5;241m=\u001b[39m\u001b[38;5;241m5000\u001b[39m, max_eval\u001b[38;5;241m=\u001b[39m\u001b[38;5;241m10000\u001b[39m, init_eval\u001b[38;5;241m=\u001b[39m\u001b[38;5;241m100\u001b[39m, init_size\u001b[38;5;241m=\u001b[39m\u001b[38;5;241m100\u001b[39m)\n\u001b[1;32m      2\u001b[0m adv_hopskipjump \u001b[38;5;241m=\u001b[39m attack_hsj\u001b[38;5;241m.\u001b[39mgenerate(x\u001b[38;5;241m=\u001b[39mX_test[:\u001b[38;5;241m2000\u001b[39m])\n\u001b[1;32m      4\u001b[0m \u001b[38;5;66;03m# HopSkipJump predictions\u001b[39;00m\n",
      "\u001b[0;31mNameError\u001b[0m: name 'HopSkipJump' is not defined"
     ]
    }
   ],
   "source": [
    "attack_hsj = HopSkipJump(classifier=classifier, norm=2,max_iter=5000, max_eval=10000, init_eval=100, init_size=100)\n",
    "adv_hopskipjump = attack_hsj.generate(x=X_test[:2000])\n",
    "\n",
    "# HopSkipJump predictions\n",
    "preds_adv_hsj = classifier.predict(adv_hopskipjump)\n",
    "labels_adv_hsj = (preds_adv_hsj > 0.5).astype(int).flatten()\n",
    "\n",
    "print(\"=== Prediction Counts ===\")\n",
    "print(\"Original        :\", Counter(labels_orig))\n",
    "print(\"HopSkipJump     :\", Counter(labels_adv_hsj))"
   ]
  },
  {
   "cell_type": "markdown",
   "id": "f7fbb437",
   "metadata": {},
   "source": [
    "### BoundaryAttack"
   ]
  },
  {
   "cell_type": "code",
   "execution_count": null,
   "id": "5b36f0e4",
   "metadata": {},
   "outputs": [
    {
     "name": "stderr",
     "output_type": "stream",
     "text": [
      "Boundary attack: 100%|██████████| 2000/2000 [03:14<00:00, 10.27it/s]\n"
     ]
    },
    {
     "name": "stdout",
     "output_type": "stream",
     "text": [
      "=== Prediction Counts ===\n",
      "Original        : Counter({1: 1000, 0: 1000})\n",
      "BoundaryAttack  : Counter({1: 1000, 0: 1000})\n"
     ]
    }
   ],
   "source": [
    "attack_boundary = BoundaryAttack(estimator=classifier)\n",
    "adv_boundary = attack_boundary.generate(x=X_test[:2000], y=Y_test[:2000])\n",
    "\n",
    "# BoundaryAttack predictions\n",
    "preds_adv_boundary = classifier.predict(adv_boundary)\n",
    "labels_adv_boundary = (preds_adv_boundary > 0.5).astype(int).flatten()\n",
    "\n",
    "print(\"=== Prediction Counts ===\")\n",
    "print(\"Original        :\", Counter(labels_orig))\n",
    "print(\"BoundaryAttack  :\", Counter(labels_adv_boundary))"
   ]
  },
  {
   "cell_type": "markdown",
   "id": "7cb391ae",
   "metadata": {},
   "source": [
    "### Trying Foolbox"
   ]
  },
  {
   "cell_type": "code",
   "execution_count": null,
   "id": "02b9eb53",
   "metadata": {},
   "outputs": [
    {
     "name": "stderr",
     "output_type": "stream",
     "text": [
      "/home/bossantm/anaconda3/envs/dl-attack-env/lib/python3.9/site-packages/foolbox/attacks/blended_noise.py:85: UserWarning: LinearSearchBlendedUniformNoiseAttack failed to draw sufficient random inputs that are adversarial (3 / 5).\n",
      "  warnings.warn(\n"
     ]
    },
    {
     "ename": "ValueError",
     "evalue": "init_attack failed for 2.0 of 5 inputs",
     "output_type": "error",
     "traceback": [
      "\u001b[0;31m---------------------------------------------------------------------------\u001b[0m\n",
      "\u001b[0;31mValueError\u001b[0m                                Traceback (most recent call last)\n",
      "Cell \u001b[0;32mIn[51], line 22\u001b[0m\n",
      "\u001b[1;32m     10\u001b[0m y \u001b[38;5;241m=\u001b[39m tf\u001b[38;5;241m.\u001b[39mconstant(Y_test[:\u001b[38;5;241m5\u001b[39m]\u001b[38;5;241m.\u001b[39mastype(np\u001b[38;5;241m.\u001b[39mint64))\n",
      "\u001b[1;32m     12\u001b[0m \u001b[38;5;66;03m# preds = tf.argmax(fmodel(x), axis=-1)\u001b[39;00m\n",
      "\u001b[1;32m     13\u001b[0m \u001b[38;5;66;03m# mask = preds != y\u001b[39;00m\n",
      "\u001b[1;32m     14\u001b[0m \u001b[38;5;66;03m# x_filtered = tf.boolean_mask(x, mask)\u001b[39;00m\n",
      "\u001b[0;32m   (...)\u001b[0m\n",
      "\u001b[1;32m     19\u001b[0m \u001b[38;5;66;03m# if len(x_filtered) == 0:\u001b[39;00m\n",
      "\u001b[1;32m     20\u001b[0m \u001b[38;5;66;03m#     raise RuntimeError(\"No sample correctly classified to launch the attack\")\u001b[39;00m\n",
      "\u001b[0;32m---> 22\u001b[0m advs, clipped, success \u001b[38;5;241m=\u001b[39m \u001b[43mattack\u001b[49m\u001b[43m(\u001b[49m\u001b[43mfmodel\u001b[49m\u001b[43m,\u001b[49m\u001b[43m \u001b[49m\u001b[43mx\u001b[49m\u001b[43m,\u001b[49m\u001b[43m \u001b[49m\u001b[43my\u001b[49m\u001b[43m,\u001b[49m\u001b[43m \u001b[49m\u001b[43mepsilons\u001b[49m\u001b[38;5;241;43m=\u001b[39;49m\u001b[43mepsilons\u001b[49m\u001b[43m)\u001b[49m\n",
      "\u001b[1;32m     24\u001b[0m \u001b[38;5;28;01mfor\u001b[39;00m i, eps \u001b[38;5;129;01min\u001b[39;00m \u001b[38;5;28menumerate\u001b[39m(epsilons):\n",
      "\u001b[1;32m     25\u001b[0m     \u001b[38;5;28mprint\u001b[39m(\u001b[38;5;124mf\u001b[39m\u001b[38;5;124m\"\u001b[39m\u001b[38;5;124mEpsilon \u001b[39m\u001b[38;5;132;01m{\u001b[39;00meps\u001b[38;5;132;01m:\u001b[39;00m\u001b[38;5;124m.2f\u001b[39m\u001b[38;5;132;01m}\u001b[39;00m\u001b[38;5;124m — Success rate: \u001b[39m\u001b[38;5;132;01m{\u001b[39;00mnp\u001b[38;5;241m.\u001b[39mmean(success[i])\u001b[38;5;132;01m:\u001b[39;00m\u001b[38;5;124m.2%\u001b[39m\u001b[38;5;132;01m}\u001b[39;00m\u001b[38;5;124m\"\u001b[39m)\n",
      "\n",
      "File \u001b[0;32m~/anaconda3/envs/dl-attack-env/lib/python3.9/site-packages/foolbox/attacks/base.py:416\u001b[0m, in \u001b[0;36mMinimizationAttack.__call__\u001b[0;34m(***failed resolving arguments***)\u001b[0m\n",
      "\u001b[1;32m    413\u001b[0m     early_stop \u001b[38;5;241m=\u001b[39m \u001b[38;5;28mmin\u001b[39m(epsilons)  \u001b[38;5;66;03m# type: ignore\u001b[39;00m\n",
      "\u001b[1;32m    415\u001b[0m \u001b[38;5;66;03m# run the actual attack\u001b[39;00m\n",
      "\u001b[0;32m--> 416\u001b[0m xp \u001b[38;5;241m=\u001b[39m \u001b[38;5;28;43mself\u001b[39;49m\u001b[38;5;241;43m.\u001b[39;49m\u001b[43mrun\u001b[49m\u001b[43m(\u001b[49m\u001b[43mmodel\u001b[49m\u001b[43m,\u001b[49m\u001b[43m \u001b[49m\u001b[43mx\u001b[49m\u001b[43m,\u001b[49m\u001b[43m \u001b[49m\u001b[43mcriterion\u001b[49m\u001b[43m,\u001b[49m\u001b[43m \u001b[49m\u001b[43mearly_stop\u001b[49m\u001b[38;5;241;43m=\u001b[39;49m\u001b[43mearly_stop\u001b[49m\u001b[43m,\u001b[49m\u001b[43m \u001b[49m\u001b[38;5;241;43m*\u001b[39;49m\u001b[38;5;241;43m*\u001b[39;49m\u001b[43mkwargs\u001b[49m\u001b[43m)\u001b[49m\n",
      "\u001b[1;32m    418\u001b[0m xpcs \u001b[38;5;241m=\u001b[39m []\n",
      "\u001b[1;32m    419\u001b[0m success \u001b[38;5;241m=\u001b[39m []\n",
      "\n",
      "File \u001b[0;32m~/anaconda3/envs/dl-attack-env/lib/python3.9/site-packages/foolbox/attacks/hop_skip_jump.py:130\u001b[0m, in \u001b[0;36mHopSkipJumpAttack.run\u001b[0;34m(***failed resolving arguments***)\u001b[0m\n",
      "\u001b[1;32m    128\u001b[0m failed \u001b[38;5;241m=\u001b[39m is_adv\u001b[38;5;241m.\u001b[39mlogical_not()\u001b[38;5;241m.\u001b[39mfloat32()\u001b[38;5;241m.\u001b[39msum()\n",
      "\u001b[1;32m    129\u001b[0m \u001b[38;5;28;01mif\u001b[39;00m starting_points \u001b[38;5;129;01mis\u001b[39;00m \u001b[38;5;28;01mNone\u001b[39;00m:\n",
      "\u001b[0;32m--> 130\u001b[0m     \u001b[38;5;28;01mraise\u001b[39;00m \u001b[38;5;167;01mValueError\u001b[39;00m(\n",
      "\u001b[1;32m    131\u001b[0m         \u001b[38;5;124mf\u001b[39m\u001b[38;5;124m\"\u001b[39m\u001b[38;5;124minit_attack failed for \u001b[39m\u001b[38;5;132;01m{\u001b[39;00mfailed\u001b[38;5;132;01m}\u001b[39;00m\u001b[38;5;124m of \u001b[39m\u001b[38;5;132;01m{\u001b[39;00m\u001b[38;5;28mlen\u001b[39m(is_adv)\u001b[38;5;132;01m}\u001b[39;00m\u001b[38;5;124m inputs\u001b[39m\u001b[38;5;124m\"\u001b[39m\n",
      "\u001b[1;32m    132\u001b[0m     )\n",
      "\u001b[1;32m    133\u001b[0m \u001b[38;5;28;01melse\u001b[39;00m:\n",
      "\u001b[1;32m    134\u001b[0m     \u001b[38;5;28;01mraise\u001b[39;00m \u001b[38;5;167;01mValueError\u001b[39;00m(\n",
      "\u001b[1;32m    135\u001b[0m         \u001b[38;5;124mf\u001b[39m\u001b[38;5;124m\"\u001b[39m\u001b[38;5;132;01m{\u001b[39;00mfailed\u001b[38;5;132;01m}\u001b[39;00m\u001b[38;5;124m of \u001b[39m\u001b[38;5;132;01m{\u001b[39;00m\u001b[38;5;28mlen\u001b[39m(is_adv)\u001b[38;5;132;01m}\u001b[39;00m\u001b[38;5;124m starting_points are not adversarial\u001b[39m\u001b[38;5;124m\"\u001b[39m\n",
      "\u001b[1;32m    136\u001b[0m     )\n",
      "\n",
      "\u001b[0;31mValueError\u001b[0m: init_attack failed for 2.0 of 5 inputs"
     ]
    }
   ],
   "source": [
    "fmodel = fb.TensorFlowModel(cnn_loaded, bounds=(X_test.min(), X_test.max()))\n",
    "\n",
    "# attack = fb.attacks.HopSkipJumpAttack()\n",
    "attack = fb.attacks.BoundaryAttack()\n",
    "# attack = fb.attacks.FGSM()\n",
    "\n",
    "\n",
    "epsilons = [0.01, 0.05, 0.1, 0.2, 0.3, 0.6, 0.8, 1.0]\n",
    "x = tf.constant(X_test[:5].astype(np.float32))\n",
    "y = tf.constant(Y_test[:5].astype(np.int64))\n",
    "\n",
    "# preds = tf.argmax(fmodel(x), axis=-1)\n",
    "# mask = preds != y\n",
    "# x_filtered = tf.boolean_mask(x, mask)\n",
    "# y_filtered = tf.boolean_mask(y, mask)\n",
    "\n",
    "# print(f\"{len(x_filtered)} correctly classified inputs to attack\")\n",
    "\n",
    "# if len(x_filtered) == 0:\n",
    "#     raise RuntimeError(\"No sample correctly classified to launch the attack\")\n",
    "\n",
    "advs, clipped, success = attack(fmodel, x, y, epsilons=epsilons)\n",
    "\n",
    "for i, eps in enumerate(epsilons):\n",
    "    print(f\"Epsilon {eps:.2f} — Success rate: {np.mean(success[i]):.2%}\")\n"
   ]
  }
 ],
 "metadata": {
  "kernelspec": {
   "display_name": "dl-attack-env",
   "language": "python",
   "name": "python3"
  },
  "language_info": {
   "codemirror_mode": {
    "name": "ipython",
    "version": 3
   },
   "file_extension": ".py",
   "mimetype": "text/x-python",
   "name": "python",
   "nbconvert_exporter": "python",
   "pygments_lexer": "ipython3",
   "version": "3.9.23"
  }
 },
 "nbformat": 4,
 "nbformat_minor": 5
}
