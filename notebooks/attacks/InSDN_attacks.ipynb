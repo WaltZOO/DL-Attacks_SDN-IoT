{
 "cells": [
  {
   "cell_type": "code",
   "execution_count": null,
   "id": "9c92a469",
   "metadata": {},
   "outputs": [
    {
     "name": "stderr",
     "output_type": "stream",
     "text": [
      "/home/bossantm/anaconda3/envs/SDNIOT-env/lib/python3.10/site-packages/tqdm/auto.py:21: TqdmWarning: IProgress not found. Please update jupyter and ipywidgets. See https://ipywidgets.readthedocs.io/en/stable/user_install.html\n",
      "  from .autonotebook import tqdm as notebook_tqdm\n",
      "/home/bossantm/anaconda3/envs/SDNIOT-env/lib/python3.10/site-packages/art/estimators/certification/__init__.py:30: UserWarning: PyTorch not found. Not importing DeepZ or Interval Bound Propagation functionality\n",
      "  warnings.warn(\"PyTorch not found. Not importing DeepZ or Interval Bound Propagation functionality\")\n",
      "2025-06-12 13:22:29.000952: I tensorflow/core/platform/cpu_feature_guard.cc:182] This TensorFlow binary is optimized to use available CPU instructions in performance-critical operations.\n",
      "To enable the following instructions: SSE4.1 SSE4.2 AVX AVX2 FMA, in other operations, rebuild TensorFlow with the appropriate compiler flags.\n"
     ]
    }
   ],
   "source": [
    "import foolbox as fb\n",
    "import art\n",
    "import tensorflow as tf\n",
    "import numpy as np\n",
    "import joblib"
   ]
  },
  {
   "cell_type": "code",
   "execution_count": null,
   "id": "e491d944",
   "metadata": {},
   "outputs": [],
   "source": [
    "X_train = joblib.load('../../preprocessed_data/InSDN/X_train.joblib')\n",
    "X_test = joblib.load('../../preprocessed_data/InSDN/X_test.joblib')\n",
    "Y_train = joblib.load('../../preprocessed_data/InSDN/Y_train.joblib')\n",
    "Y_test = joblib.load('../../preprocessed_data/InSDN/Y_test.joblib')"
   ]
  },
  {
   "cell_type": "code",
   "execution_count": null,
   "id": "f5ce1ddf",
   "metadata": {},
   "outputs": [],
   "source": [
    "from tensorflow.keras.models import load_model\n",
    "\n",
    "cnn_loaded = load_model('../../models/cnn_insdn_model.keras')\n",
    "lstm_loaded = load_model('../../models/lstm_insdn_model.keras')\n",
    "ae_lstm_loaded = load_model('../../models/ae-lstm_insdn_model.keras')"
   ]
  },
  {
   "cell_type": "code",
   "execution_count": null,
   "id": "74dc3062",
   "metadata": {},
   "outputs": [],
   "source": [
    "fmodel = fb.models.TensorFlowModel(model=cnn_loaded, bounds=(0, 1))"
   ]
  }
 ],
 "metadata": {
  "kernelspec": {
   "display_name": "SDNIOT-env",
   "language": "python",
   "name": "python3"
  },
  "language_info": {
   "name": "python",
   "version": "3.10.18"
  }
 },
 "nbformat": 4,
 "nbformat_minor": 5
}
