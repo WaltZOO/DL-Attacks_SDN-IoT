{
 "cells": [
  {
   "cell_type": "code",
   "execution_count": 48,
   "id": "805cc8ac",
   "metadata": {},
   "outputs": [
    {
     "name": "stdout",
     "output_type": "stream",
     "text": [
      "2.6.3\n"
     ]
    }
   ],
   "source": [
    "import foolbox as fb\n",
    "import art\n",
    "import tensorflow as tf\n",
    "tf.compat.v1.disable_eager_execution()\n",
    "import numpy as np\n",
    "import joblib\n",
    "import matplotlib.pyplot as plt \n",
    "# import eagerpy as ep\n",
    "\n",
    "print(tf.__version__)\n"
   ]
  },
  {
   "cell_type": "code",
   "execution_count": 49,
   "id": "abd61815",
   "metadata": {},
   "outputs": [],
   "source": [
    "X_train = joblib.load('../../preprocessed_data/CICIOT_update/X_train.joblib')\n",
    "X_test = joblib.load('../../preprocessed_data/CICIOT_update/X_test.joblib')\n",
    "Y_train = joblib.load('../../preprocessed_data/CICIOT_update/Y_train.joblib')\n",
    "Y_test = joblib.load('../../preprocessed_data/CICIOT_update/Y_test.joblib')\n",
    "# print(X_train[1])\n",
    "# print(Y_train[5:])"
   ]
  },
  {
   "cell_type": "code",
   "execution_count": 50,
   "id": "002ed692",
   "metadata": {},
   "outputs": [],
   "source": [
    "from keras.models import load_model\n",
    "\n",
    "cnn_loaded = load_model('../../models/cnn_ciciot_updated_model.keras')\n",
    "lstm_loaded = load_model('../../models/lstm_ciciot_updated_model.keras')\n",
    "ae_lstm_loaded = load_model('../../models/ae-lstm_ciciot_updated_model.keras')\n",
    "\n"
   ]
  },
  {
   "cell_type": "markdown",
   "id": "4280c1ca",
   "metadata": {},
   "source": [
    "### Defining evaluation metrics functions"
   ]
  },
  {
   "cell_type": "code",
   "execution_count": 51,
   "id": "286cf23d",
   "metadata": {},
   "outputs": [],
   "source": [
    "from sklearn.metrics import accuracy_score, precision_score, recall_score, f1_score\n",
    "import time\n",
    "\n",
    "def evaluate(true_labels, pred_labels, title):\n",
    "    acc = accuracy_score(true_labels, pred_labels)\n",
    "    prec = precision_score(true_labels, pred_labels, zero_division=0)\n",
    "    rec = recall_score(true_labels, pred_labels, zero_division=0)\n",
    "    f1 = f1_score(true_labels, pred_labels, zero_division=0)\n",
    "    print(f\"--- {title} ---\")\n",
    "    print(f\"Accuracy : {acc:.4f}\")\n",
    "    print(f\"Precision: {prec:.4f}\")\n",
    "    print(f\"Recall   : {rec:.4f}\")\n",
    "    print(f\"F1-score : {f1:.4f}\")\n",
    "    print()\n",
    "    return(acc, prec, rec, f1)"
   ]
  },
  {
   "cell_type": "markdown",
   "id": "a99a52c0",
   "metadata": {},
   "source": [
    "## CNN"
   ]
  },
  {
   "cell_type": "markdown",
   "id": "7e7536b5",
   "metadata": {},
   "source": [
    "### FGSM"
   ]
  },
  {
   "cell_type": "code",
   "execution_count": 52,
   "id": "b0b1c6d5",
   "metadata": {},
   "outputs": [
    {
     "name": "stderr",
     "output_type": "stream",
     "text": [
      "/home/bossantm/anaconda3/envs/dl-attack-env/lib/python3.9/site-packages/keras/engine/training.py:2470: UserWarning: `Model.state_updates` will be removed in a future version. This property should not be used in TensorFlow 2.0, as `updates` are applied automatically.\n",
      "  warnings.warn('`Model.state_updates` will be removed in a future version. '\n"
     ]
    },
    {
     "name": "stdout",
     "output_type": "stream",
     "text": [
      "-49.078785 203.57127\n",
      "--- Original ---\n",
      "Accuracy : 1.0000\n",
      "Precision: 1.0000\n",
      "Recall   : 1.0000\n",
      "F1-score : 1.0000\n",
      "\n",
      "--- FGSM Attack - intenisty: 0.01% ---\n",
      "Accuracy : 1.0000\n",
      "Precision: 1.0000\n",
      "Recall   : 1.0000\n",
      "F1-score : 1.0000\n",
      "\n",
      "--- FGSM Attack - intenisty: 0.05% ---\n",
      "Accuracy : 1.0000\n",
      "Precision: 1.0000\n",
      "Recall   : 1.0000\n",
      "F1-score : 1.0000\n",
      "\n",
      "--- FGSM Attack - intenisty: 0.1% ---\n",
      "Accuracy : 1.0000\n",
      "Precision: 1.0000\n",
      "Recall   : 1.0000\n",
      "F1-score : 1.0000\n",
      "\n",
      "--- FGSM Attack - intenisty: 0.2% ---\n",
      "Accuracy : 1.0000\n",
      "Precision: 1.0000\n",
      "Recall   : 1.0000\n",
      "F1-score : 1.0000\n",
      "\n",
      "--- FGSM Attack - intenisty: 0.3% ---\n",
      "Accuracy : 1.0000\n",
      "Precision: 1.0000\n",
      "Recall   : 1.0000\n",
      "F1-score : 1.0000\n",
      "\n",
      "--- FGSM Attack - intenisty: 0.6% ---\n",
      "Accuracy : 1.0000\n",
      "Precision: 1.0000\n",
      "Recall   : 1.0000\n",
      "F1-score : 1.0000\n",
      "\n",
      "--- FGSM Attack - intenisty: 0.8% ---\n",
      "Accuracy : 1.0000\n",
      "Precision: 1.0000\n",
      "Recall   : 1.0000\n",
      "F1-score : 1.0000\n",
      "\n",
      "--- FGSM Attack - intenisty: 1.0% ---\n",
      "Accuracy : 1.0000\n",
      "Precision: 1.0000\n",
      "Recall   : 1.0000\n",
      "F1-score : 1.0000\n",
      "\n",
      "FGSM Time: 1.02 sec\n",
      "\n",
      "--- PGD Attack - intenisty: 0.01% ---\n",
      "Accuracy : 1.0000\n",
      "Precision: 1.0000\n",
      "Recall   : 1.0000\n",
      "F1-score : 1.0000\n",
      "\n",
      "--- PGD Attack - intenisty: 0.05% ---\n",
      "Accuracy : 1.0000\n",
      "Precision: 1.0000\n",
      "Recall   : 1.0000\n",
      "F1-score : 1.0000\n",
      "\n",
      "--- PGD Attack - intenisty: 0.1% ---\n",
      "Accuracy : 1.0000\n",
      "Precision: 1.0000\n",
      "Recall   : 1.0000\n",
      "F1-score : 1.0000\n",
      "\n",
      "--- PGD Attack - intenisty: 0.2% ---\n",
      "Accuracy : 1.0000\n",
      "Precision: 1.0000\n",
      "Recall   : 1.0000\n",
      "F1-score : 1.0000\n",
      "\n",
      "--- PGD Attack - intenisty: 0.3% ---\n",
      "Accuracy : 1.0000\n",
      "Precision: 1.0000\n",
      "Recall   : 1.0000\n",
      "F1-score : 1.0000\n",
      "\n",
      "--- PGD Attack - intenisty: 0.6% ---\n",
      "Accuracy : 1.0000\n",
      "Precision: 1.0000\n",
      "Recall   : 1.0000\n",
      "F1-score : 1.0000\n",
      "\n",
      "--- PGD Attack - intenisty: 0.8% ---\n",
      "Accuracy : 1.0000\n",
      "Precision: 1.0000\n",
      "Recall   : 1.0000\n",
      "F1-score : 1.0000\n",
      "\n",
      "--- PGD Attack - intenisty: 1.0% ---\n",
      "Accuracy : 1.0000\n",
      "Precision: 1.0000\n",
      "Recall   : 1.0000\n",
      "F1-score : 1.0000\n",
      "\n",
      "PGD Time: 66.12 sec\n",
      "\n"
     ]
    }
   ],
   "source": [
    "from art.attacks.evasion import FastGradientMethod, ProjectedGradientDescent\n",
    "from art.estimators.classification import KerasClassifier\n",
    "\n",
    "# attack_fgsm = fgsmAttack(estimator=classifier)\n",
    "classifier = KerasClassifier(model=cnn_loaded, clip_values=(X_test.min(), X_test.max()))\n",
    "#classifier._model.trainable = False\n",
    "\n",
    "preds_clean = classifier.predict(X_test[:2000])\n",
    "labels_clean = (preds_clean > 0.5).astype(int).flatten()\n",
    "print(X_test.min(), X_test.max())\n",
    "\n",
    "# only keep correctly classified traffic (TP and TN)\n",
    "correct = labels_clean == Y_test[:2000]\n",
    "X_correct = X_test[:2000][correct]\n",
    "Y_correct = Y_test[:2000][correct]\n",
    "\n",
    "epsilons = [0.01, 0.05, 0.1, 0.2, 0.3, 0.6, 0.8, 1.0]\n",
    "\n",
    "#original predictions\n",
    "preds_orig = classifier.predict(X_correct)\n",
    "labels_orig = (preds_orig > 0.5).astype(int).flatten()\n",
    "evaluate(Y_correct, labels_orig, \"Original\")\n",
    "\n",
    "# fgsm predictions\n",
    "fgsm_acc, fgsm_prec, fgsm_rec, fgsm_f1 = [], [], [], []\n",
    "start = time.time()\n",
    "for i in range(len(epsilons)):\n",
    "    attack_fgsm = FastGradientMethod(estimator=classifier, eps=epsilons[i])\n",
    "    adv_fgsm = attack_fgsm.generate(x=X_correct, y=Y_correct)\n",
    "    preds_adv_fgsm = classifier.predict(adv_fgsm)\n",
    "    labels_adv_fgsm = (preds_adv_fgsm > 0.5).astype(int).flatten()\n",
    "    (acc, prec, rec, f1) = evaluate(Y_correct, labels_adv_fgsm, f\"FGSM Attack - intenisty: {epsilons[i]}%\")\n",
    "    fgsm_acc.append(acc)\n",
    "    fgsm_prec.append(prec)\n",
    "    fgsm_rec.append(rec)\n",
    "    fgsm_f1.append(f1)\n",
    "print(f\"FGSM Time: {time.time() - start:.2f} sec\\n\")\n",
    "\n",
    "# ProjectedGradientDescent predictions\n",
    "pgd_acc, pgd_prec, pgd_rec, pgd_f1 = [], [], [], []\n",
    "start = time.time()\n",
    "for i in range(len(epsilons)):\n",
    "    attack_pgd = ProjectedGradientDescent(estimator=classifier, eps=epsilons[i], verbose=False)\n",
    "    adv_pgd = attack_pgd.generate(x=X_correct, y=Y_correct)\n",
    "    preds_adv_pgd = classifier.predict(adv_pgd)\n",
    "    labels_adv_pgd = (preds_adv_pgd > 0.5).astype(int).flatten()\n",
    "    (acc, prec, rec, f1) = evaluate(Y_correct, labels_adv_pgd, f\"PGD Attack - intenisty: {epsilons[i]}%\")\n",
    "    pgd_acc.append(acc)\n",
    "    pgd_prec.append(prec)\n",
    "    pgd_rec.append(rec)\n",
    "    pgd_f1.append(f1)\n",
    "print(f\"PGD Time: {time.time() - start:.2f} sec\\n\")"
   ]
  },
  {
   "cell_type": "code",
   "execution_count": 58,
   "id": "82e32a76",
   "metadata": {},
   "outputs": [
    {
     "data": {
      "image/png": "[encoded data removed]",
      "text/plain": [
       "<Figure size 1000x600 with 1 Axes>"
      ]
     },
     "metadata": {},
     "output_type": "display_data"
    }
   ],
   "source": [
    "import matplotlib.pyplot as plt\n",
    "\n",
    "plt.figure(figsize=(10, 6))\n",
    "plt.plot(epsilons, fgsm_acc, label='FGSM - Accuracy', marker='o')\n",
    "plt.plot(epsilons, pgd_acc, label='PGD - Accuracy', marker='s')\n",
    "plt.xlabel('Epsilon')\n",
    "plt.ylabel('Accuracy')\n",
    "plt.title('CNN CICIOT - Accuracy vs Epsilon (FGSM and PGD)')\n",
    "plt.ylim(0, 1.05)\n",
    "plt.legend()\n",
    "plt.grid(True)\n",
    "plt.tight_layout()\n",
    "plt.show()"
   ]
  },
  {
   "cell_type": "markdown",
   "id": "1d68f3a7",
   "metadata": {},
   "source": [
    "### Trying Foolbox"
   ]
  },
  {
   "cell_type": "code",
   "execution_count": 54,
   "id": "57769508",
   "metadata": {},
   "outputs": [
    {
     "ename": "ValueError",
     "evalue": "TensorFlowModel requires TensorFlow Eager Mode",
     "output_type": "error",
     "traceback": [
      "\u001b[0;31m---------------------------------------------------------------------------\u001b[0m",
      "\u001b[0;31mValueError\u001b[0m                                Traceback (most recent call last)",
      "Cell \u001b[0;32mIn[54], line 1\u001b[0m\n\u001b[0;32m----> 1\u001b[0m fmodel \u001b[38;5;241m=\u001b[39m \u001b[43mfb\u001b[49m\u001b[38;5;241;43m.\u001b[39;49m\u001b[43mTensorFlowModel\u001b[49m\u001b[43m(\u001b[49m\u001b[43mcnn_loaded\u001b[49m\u001b[43m,\u001b[49m\u001b[43m \u001b[49m\u001b[43mbounds\u001b[49m\u001b[38;5;241;43m=\u001b[39;49m\u001b[43m(\u001b[49m\u001b[43mX_test\u001b[49m\u001b[38;5;241;43m.\u001b[39;49m\u001b[43mmin\u001b[49m\u001b[43m(\u001b[49m\u001b[43m)\u001b[49m\u001b[43m,\u001b[49m\u001b[43m \u001b[49m\u001b[43mX_test\u001b[49m\u001b[38;5;241;43m.\u001b[39;49m\u001b[43mmax\u001b[49m\u001b[43m(\u001b[49m\u001b[43m)\u001b[49m\u001b[43m)\u001b[49m\u001b[43m)\u001b[49m\n\u001b[1;32m      3\u001b[0m \u001b[38;5;66;03m# attack = fb.attacks.HopSkipJumpAttack()\u001b[39;00m\n\u001b[1;32m      4\u001b[0m attack \u001b[38;5;241m=\u001b[39m fb\u001b[38;5;241m.\u001b[39mattacks\u001b[38;5;241m.\u001b[39mBoundaryAttack()\n",
      "File \u001b[0;32m~/anaconda3/envs/dl-attack-env/lib/python3.9/site-packages/foolbox/models/tensorflow.py:30\u001b[0m, in \u001b[0;36mTensorFlowModel.__init__\u001b[0;34m(self, model, bounds, device, preprocessing)\u001b[0m\n\u001b[1;32m     27\u001b[0m \u001b[38;5;28;01mimport\u001b[39;00m\u001b[38;5;250m \u001b[39m\u001b[38;5;21;01mtensorflow\u001b[39;00m\u001b[38;5;250m \u001b[39m\u001b[38;5;28;01mas\u001b[39;00m\u001b[38;5;250m \u001b[39m\u001b[38;5;21;01mtf\u001b[39;00m\n\u001b[1;32m     29\u001b[0m \u001b[38;5;28;01mif\u001b[39;00m \u001b[38;5;129;01mnot\u001b[39;00m tf\u001b[38;5;241m.\u001b[39mexecuting_eagerly():\n\u001b[0;32m---> 30\u001b[0m     \u001b[38;5;28;01mraise\u001b[39;00m \u001b[38;5;167;01mValueError\u001b[39;00m(\n\u001b[1;32m     31\u001b[0m         \u001b[38;5;124m\"\u001b[39m\u001b[38;5;124mTensorFlowModel requires TensorFlow Eager Mode\u001b[39m\u001b[38;5;124m\"\u001b[39m\n\u001b[1;32m     32\u001b[0m     )  \u001b[38;5;66;03m# pragma: no cover\u001b[39;00m\n\u001b[1;32m     34\u001b[0m device \u001b[38;5;241m=\u001b[39m get_device(device)\n\u001b[1;32m     35\u001b[0m \u001b[38;5;28;01mwith\u001b[39;00m device:\n",
      "\u001b[0;31mValueError\u001b[0m: TensorFlowModel requires TensorFlow Eager Mode"
     ]
    }
   ],
   "source": [
    "fmodel = fb.TensorFlowModel(cnn_loaded, bounds=(X_test.min(), X_test.max()))\n",
    "\n",
    "# attack = fb.attacks.HopSkipJumpAttack()\n",
    "attack = fb.attacks.BoundaryAttack()\n",
    "# attack = fb.attacks.FGSM()\n",
    "\n",
    "\n",
    "epsilons = [0.01, 0.05, 0.1, 0.2, 0.3, 0.6, 0.8, 1.0]\n",
    "x = tf.constant(X_test[:5].astype(np.float32))\n",
    "y = tf.constant(Y_test[:5].astype(np.int64))\n",
    "\n",
    "advs, clipped, success = attack(fmodel, x, y, epsilons=epsilons)\n",
    "\n",
    "for i, eps in enumerate(epsilons):\n",
    "    print(f\"Epsilon {eps:.2f} — Success rate: {np.mean(success[i]):.2%}\")\n"
   ]
  }
 ],
 "metadata": {
  "kernelspec": {
   "display_name": "dl-attack-env",
   "language": "python",
   "name": "python3"
  },
  "language_info": {
   "codemirror_mode": {
    "name": "ipython",
    "version": 3
   },
   "file_extension": ".py",
   "mimetype": "text/x-python",
   "name": "python",
   "nbconvert_exporter": "python",
   "pygments_lexer": "ipython3",
   "version": "3.9.23"
  }
 },
 "nbformat": 4,
 "nbformat_minor": 5
}
