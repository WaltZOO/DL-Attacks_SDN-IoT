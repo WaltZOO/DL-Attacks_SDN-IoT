{
 "cells": [
  {
   "cell_type": "code",
   "execution_count": 1,
   "id": "ba984513",
   "metadata": {},
   "outputs": [
    {
     "name": "stderr",
     "output_type": "stream",
     "text": [
      "/home/bossantm/anaconda3/envs/SDNIOT-env/lib/python3.10/site-packages/tqdm/auto.py:21: TqdmWarning: IProgress not found. Please update jupyter and ipywidgets. See https://ipywidgets.readthedocs.io/en/stable/user_install.html\n",
      "  from .autonotebook import tqdm as notebook_tqdm\n",
      "/home/bossantm/anaconda3/envs/SDNIOT-env/lib/python3.10/site-packages/art/estimators/certification/__init__.py:30: UserWarning: PyTorch not found. Not importing DeepZ or Interval Bound Propagation functionality\n",
      "  warnings.warn(\"PyTorch not found. Not importing DeepZ or Interval Bound Propagation functionality\")\n",
      "2025-06-13 14:21:56.403837: I tensorflow/core/platform/cpu_feature_guard.cc:182] This TensorFlow binary is optimized to use available CPU instructions in performance-critical operations.\n",
      "To enable the following instructions: SSE4.1 SSE4.2 AVX AVX2 FMA, in other operations, rebuild TensorFlow with the appropriate compiler flags.\n"
     ]
    }
   ],
   "source": [
    "import foolbox as fb\n",
    "import art\n",
    "import tensorflow as tf\n",
    "import numpy as np\n",
    "import joblib"
   ]
  },
  {
   "cell_type": "code",
   "execution_count": 2,
   "id": "a4e90ab0",
   "metadata": {},
   "outputs": [],
   "source": [
    "X_train = joblib.load('../../preprocessed_data/CICIDS/X_train.joblib')\n",
    "X_test = joblib.load('../../preprocessed_data/CICIDS/X_test.joblib')\n",
    "Y_train = joblib.load('../../preprocessed_data/CICIDS/Y_train.joblib')\n",
    "Y_test = joblib.load('../../preprocessed_data/CICIDS/Y_test.joblib')"
   ]
  },
  {
   "cell_type": "code",
   "execution_count": 3,
   "id": "41ebfea6",
   "metadata": {},
   "outputs": [],
   "source": [
    "from tensorflow.keras.models import load_model\n",
    "\n",
    "cnn_loaded = load_model('../../models/cnn_CICIDS2017_model.keras')\n",
    "lstm_loaded = load_model('../../models/lstm_CICIDS2017_model.keras')\n",
    "ae_lstm_loaded = load_model('../../models/ae-lstm_CICIDS2017_model.keras')\n",
    "\n",
    "\n",
    "\n",
    "# import pickle\n",
    "\n",
    "# with open(\"../../models/cnn_CICIDS2017.pkl\", \"rb\") as f:\n",
    "#     cnn_loaded = pickle.load(f)\n",
    "\n",
    "# with open(\"../../models/lstm_CICIDS2017.pkl\", \"rb\") as f:\n",
    "#     lstm_loaded = pickle.load(f)\n",
    "\n",
    "# with open(\"../../models/ae-lstm_CICIDS2017.pkl\", \"rb\") as f:\n",
    "#     ae_lstm_loaded = pickle.load(f)"
   ]
  },
  {
   "cell_type": "code",
   "execution_count": null,
   "id": "57c43d79",
   "metadata": {},
   "outputs": [
    {
     "name": "stderr",
     "output_type": "stream",
     "text": [
      "HopSkipJump: 100%|██████████| 20/20 [00:03<00:00,  5.51it/s]\n",
      "Boundary attack: 100%|██████████| 20/20 [00:00<00:00, 109.41it/s]\n"
     ]
    },
    {
     "name": "stdout",
     "output_type": "stream",
     "text": [
      "=== Prediction Counts ===\n",
      "Original        : Counter({0: 19, 1: 1})\n",
      "HopSkipJump     : Counter({0: 19, 1: 1})\n",
      "BoundaryAttack  : Counter({0: 19, 1: 1})\n",
      "\n",
      "Changed by HopSkipJump    : 0\n",
      "Changed by BoundaryAttack : 0\n"
     ]
    }
   ],
   "source": [
    "from art.attacks.evasion import FeatureAdversariesTensorFlowV2, HopSkipJump, BoundaryAttack\n",
    "from art.estimators.classification import TensorFlowV2Classifier\n",
    "from art.utils import load_mnist\n",
    "\n",
    "classifier = TensorFlowV2Classifier(\n",
    "    model=cnn_loaded,\n",
    "    nb_classes=2,\n",
    "    input_shape=(X_test.shape[1], X_test.shape[2]),\n",
    "    loss_object=tf.keras.losses.BinaryCrossentropy()\n",
    ")\n",
    "\n",
    "attack_hsj = HopSkipJump(classifier=classifier, norm=2,max_iter=5000, max_eval=10000, init_eval=100, init_size=100)\n",
    "adv_hopskipjump = attack_hsj.generate(x=X_test[:1000])\n",
    "attack_boundary = BoundaryAttack(estimator=classifier)\n",
    "adv_boundary = attack_boundary.generate(x=X_test[:1000], y=Y_test[:1000])\n",
    "\n",
    "# # original predictions\n",
    "# preds_orig = classifier.predict(X_test[:20])\n",
    "\n",
    "# # HopSkipJump predictions\n",
    "# preds_adv_hsj = classifier.predict(adv_hopskipjump)\n",
    "\n",
    "# # BoundaryAttack predictions\n",
    "# preds_adv_boundary = classifier.predict(adv_boundary)\n",
    "\n",
    "# print(\"Original predictions       :\", np.argmax(preds_orig, axis=1))\n",
    "# print(\"After HopSkipJump attack   :\", np.argmax(preds_adv_hsj, axis=1))\n",
    "# print(\"After BoundaryAttack       :\", np.argmax(preds_adv_boundary, axis=1))\n",
    "\n",
    "# Original predictions\n",
    "preds_orig = classifier.predict(X_test[:1000])\n",
    "labels_orig = (preds_orig > 0.5).astype(int).flatten()\n",
    "\n",
    "# HopSkipJump predictions\n",
    "preds_adv_hsj = classifier.predict(adv_hopskipjump)\n",
    "labels_adv_hsj = (preds_adv_hsj > 0.5).astype(int).flatten()\n",
    "\n",
    "# BoundaryAttack predictions\n",
    "preds_adv_boundary = classifier.predict(adv_boundary)\n",
    "labels_adv_boundary = (preds_adv_boundary > 0.5).astype(int).flatten()\n",
    "\n",
    "# Print summary counts instead of raw arrays\n",
    "from collections import Counter\n",
    "print(\"=== Prediction Counts ===\")\n",
    "print(\"Original        :\", Counter(labels_orig))\n",
    "print(\"HopSkipJump     :\", Counter(labels_adv_hsj))\n",
    "print(\"BoundaryAttack  :\", Counter(labels_adv_boundary))\n",
    "\n",
    "# Optional: show exact class change counts\n",
    "print()\n",
    "print(\"Changed by HopSkipJump    :\", sum(labels_orig != labels_adv_hsj))\n",
    "print(\"Changed by BoundaryAttack :\", sum(labels_orig != labels_adv_boundary))"
   ]
  }
 ],
 "metadata": {
  "kernelspec": {
   "display_name": "SDNIOT-env",
   "language": "python",
   "name": "python3"
  },
  "language_info": {
   "codemirror_mode": {
    "name": "ipython",
    "version": 3
   },
   "file_extension": ".py",
   "mimetype": "text/x-python",
   "name": "python",
   "nbconvert_exporter": "python",
   "pygments_lexer": "ipython3",
   "version": "3.10.18"
  }
 },
 "nbformat": 4,
 "nbformat_minor": 5
}
