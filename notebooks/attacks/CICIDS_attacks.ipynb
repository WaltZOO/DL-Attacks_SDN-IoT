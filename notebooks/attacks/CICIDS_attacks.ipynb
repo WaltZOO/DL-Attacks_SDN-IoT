{
 "cells": [
  {
   "cell_type": "code",
   "execution_count": 17,
   "id": "ba984513",
   "metadata": {},
   "outputs": [],
   "source": [
    "import foolbox as fb\n",
    "import art\n",
    "import tensorflow as tf\n",
    "tf.compat.v1.disable_eager_execution()\n",
    "import numpy as np\n",
    "import joblib"
   ]
  },
  {
   "cell_type": "code",
   "execution_count": 18,
   "id": "a4e90ab0",
   "metadata": {},
   "outputs": [],
   "source": [
    "X_train = joblib.load('../../preprocessed_data/CICIDS/X_train.joblib')\n",
    "X_test = joblib.load('../../preprocessed_data/CICIDS/X_test.joblib')\n",
    "Y_train = joblib.load('../../preprocessed_data/CICIDS/Y_train.joblib')\n",
    "Y_test = joblib.load('../../preprocessed_data/CICIDS/Y_test.joblib')"
   ]
  },
  {
   "cell_type": "code",
   "execution_count": 19,
   "id": "41ebfea6",
   "metadata": {},
   "outputs": [
    {
     "name": "stderr",
     "output_type": "stream",
     "text": [
      "2025-06-30 12:31:44.076523: W tensorflow/c/c_api.cc:304] Operation '{name:'conv1d_2_1/bias/Assign' id:2234 op device:{requested: '', assigned: ''} def:{{{node conv1d_2_1/bias/Assign}} = AssignVariableOp[_has_manual_control_dependencies=true, dtype=DT_FLOAT, validate_shape=false](conv1d_2_1/bias, conv1d_2_1/bias/Initializer/zeros)}}' was changed by setting attribute after it was run by a session. This mutation will have no effect, and will trigger an error in the future. Either don't modify nodes after running them or create a new session.\n",
      "2025-06-30 12:31:44.445399: W tensorflow/c/c_api.cc:304] Operation '{name:'dense_9_1/kernel/m/Assign' id:2440 op device:{requested: '', assigned: ''} def:{{{node dense_9_1/kernel/m/Assign}} = AssignVariableOp[_has_manual_control_dependencies=true, dtype=DT_FLOAT, validate_shape=false](dense_9_1/kernel/m, dense_9_1/kernel/m/Initializer/zeros)}}' was changed by setting attribute after it was run by a session. This mutation will have no effect, and will trigger an error in the future. Either don't modify nodes after running them or create a new session.\n",
      "2025-06-30 12:31:45.000339: W tensorflow/c/c_api.cc:304] Operation '{name:'lstm_2_1/lstm_cell/recurrent_kernel/Assign' id:2584 op device:{requested: '', assigned: ''} def:{{{node lstm_2_1/lstm_cell/recurrent_kernel/Assign}} = AssignVariableOp[_has_manual_control_dependencies=true, dtype=DT_FLOAT, validate_shape=false](lstm_2_1/lstm_cell/recurrent_kernel, lstm_2_1/lstm_cell/recurrent_kernel/Initializer/mul_1)}}' was changed by setting attribute after it was run by a session. This mutation will have no effect, and will trigger an error in the future. Either don't modify nodes after running them or create a new session.\n",
      "2025-06-30 12:31:45.334945: W tensorflow/c/c_api.cc:304] Operation '{name:'total_4/Assign' id:2902 op device:{requested: '', assigned: ''} def:{{{node total_4/Assign}} = AssignVariableOp[_has_manual_control_dependencies=true, dtype=DT_FLOAT, validate_shape=false](total_4, total_4/Initializer/zeros)}}' was changed by setting attribute after it was run by a session. This mutation will have no effect, and will trigger an error in the future. Either don't modify nodes after running them or create a new session.\n",
      "2025-06-30 12:31:45.899243: W tensorflow/c/c_api.cc:304] Operation '{name:'dense_14_1/kernel/Assign' id:3427 op device:{requested: '', assigned: ''} def:{{{node dense_14_1/kernel/Assign}} = AssignVariableOp[_has_manual_control_dependencies=true, dtype=DT_FLOAT, validate_shape=false](dense_14_1/kernel, dense_14_1/kernel/Initializer/stateless_random_uniform)}}' was changed by setting attribute after it was run by a session. This mutation will have no effect, and will trigger an error in the future. Either don't modify nodes after running them or create a new session.\n",
      "2025-06-30 12:31:46.292796: W tensorflow/c/c_api.cc:304] Operation '{name:'dense_15_1/bias/m/Assign' id:3640 op device:{requested: '', assigned: ''} def:{{{node dense_15_1/bias/m/Assign}} = AssignVariableOp[_has_manual_control_dependencies=true, dtype=DT_FLOAT, validate_shape=false](dense_15_1/bias/m, dense_15_1/bias/m/Initializer/zeros)}}' was changed by setting attribute after it was run by a session. This mutation will have no effect, and will trigger an error in the future. Either don't modify nodes after running them or create a new session.\n"
     ]
    }
   ],
   "source": [
    "from tensorflow.keras.models import load_model\n",
    "\n",
    "cnn_loaded = load_model('../../models/cnn_CICIDS2017_model.keras')\n",
    "lstm_loaded = load_model('../../models/lstm_CICIDS2017_model.keras')\n",
    "ae_lstm_loaded = load_model('../../models/ae-lstm_CICIDS2017_model.keras')"
   ]
  },
  {
   "cell_type": "markdown",
   "id": "a853f592",
   "metadata": {},
   "source": [
    "### Defining evaluation metrics functions"
   ]
  },
  {
   "cell_type": "code",
   "execution_count": 26,
   "id": "4dc4cc7c",
   "metadata": {},
   "outputs": [],
   "source": [
    "from sklearn.metrics import accuracy_score, precision_score, recall_score, f1_score\n",
    "import time\n",
    "\n",
    "def evaluate(true_labels, pred_labels, title):\n",
    "    acc = accuracy_score(true_labels, pred_labels)\n",
    "    prec = precision_score(true_labels, pred_labels, zero_division=0)\n",
    "    rec = recall_score(true_labels, pred_labels, zero_division=0)\n",
    "    f1 = f1_score(true_labels, pred_labels, zero_division=0)\n",
    "    print(f\"--- {title} ---\")\n",
    "    print(f\"Accuracy : {acc:.4f}\")\n",
    "    print(f\"Precision: {prec:.4f}\")\n",
    "    print(f\"Recall   : {rec:.4f}\")\n",
    "    print(f\"F1-score : {f1:.4f}\")\n",
    "    print()\n",
    "    return(acc, prec, rec, f1)"
   ]
  },
  {
   "cell_type": "markdown",
   "id": "c73b5743",
   "metadata": {},
   "source": [
    "## CNN"
   ]
  },
  {
   "cell_type": "markdown",
   "id": "8323b6d1",
   "metadata": {},
   "source": [
    "### FGSM"
   ]
  },
  {
   "cell_type": "code",
   "execution_count": 28,
   "id": "f9c2bd39",
   "metadata": {},
   "outputs": [
    {
     "name": "stdout",
     "output_type": "stream",
     "text": [
      "-620.8767 536.92633\n",
      "--- Original ---\n",
      "Accuracy : 1.0000\n",
      "Precision: 1.0000\n",
      "Recall   : 1.0000\n",
      "F1-score : 1.0000\n",
      "\n",
      "--- FGSM Attack - intenisty: 0.01% ---\n",
      "Accuracy : 1.0000\n",
      "Precision: 1.0000\n",
      "Recall   : 1.0000\n",
      "F1-score : 1.0000\n",
      "\n",
      "--- FGSM Attack - intenisty: 0.05% ---\n",
      "Accuracy : 1.0000\n",
      "Precision: 1.0000\n",
      "Recall   : 1.0000\n",
      "F1-score : 1.0000\n",
      "\n",
      "--- FGSM Attack - intenisty: 0.1% ---\n",
      "Accuracy : 0.9979\n",
      "Precision: 1.0000\n",
      "Recall   : 0.9959\n",
      "F1-score : 0.9980\n",
      "\n",
      "--- FGSM Attack - intenisty: 0.2% ---\n",
      "Accuracy : 0.9575\n",
      "Precision: 1.0000\n",
      "Recall   : 0.9156\n",
      "F1-score : 0.9559\n",
      "\n",
      "--- FGSM Attack - intenisty: 0.3% ---\n",
      "Accuracy : 0.8970\n",
      "Precision: 1.0000\n",
      "Recall   : 0.7955\n",
      "F1-score : 0.8861\n",
      "\n",
      "--- FGSM Attack - intenisty: 0.6% ---\n",
      "Accuracy : 0.8052\n",
      "Precision: 1.0000\n",
      "Recall   : 0.6134\n",
      "F1-score : 0.7604\n",
      "\n",
      "--- FGSM Attack - intenisty: 0.8% ---\n",
      "Accuracy : 0.7693\n",
      "Precision: 1.0000\n",
      "Recall   : 0.5422\n",
      "F1-score : 0.7032\n",
      "\n",
      "--- FGSM Attack - intenisty: 1.0% ---\n",
      "Accuracy : 0.7483\n",
      "Precision: 1.0000\n",
      "Recall   : 0.5005\n",
      "F1-score : 0.6671\n",
      "\n",
      "FGSM Time: 1.17 sec\n",
      "\n",
      "--- PGD Attack - intenisty: 0.01% ---\n",
      "Accuracy : 1.0000\n",
      "Precision: 1.0000\n",
      "Recall   : 1.0000\n",
      "F1-score : 1.0000\n",
      "\n",
      "--- PGD Attack - intenisty: 0.05% ---\n",
      "Accuracy : 0.9985\n",
      "Precision: 1.0000\n",
      "Recall   : 0.9969\n",
      "F1-score : 0.9985\n",
      "\n",
      "--- PGD Attack - intenisty: 0.1% ---\n",
      "Accuracy : 0.9979\n",
      "Precision: 1.0000\n",
      "Recall   : 0.9959\n",
      "F1-score : 0.9980\n",
      "\n",
      "--- PGD Attack - intenisty: 0.2% ---\n",
      "Accuracy : 0.9979\n",
      "Precision: 1.0000\n",
      "Recall   : 0.9959\n",
      "F1-score : 0.9980\n",
      "\n",
      "--- PGD Attack - intenisty: 0.3% ---\n",
      "Accuracy : 0.9979\n",
      "Precision: 1.0000\n",
      "Recall   : 0.9959\n",
      "F1-score : 0.9980\n",
      "\n",
      "--- PGD Attack - intenisty: 0.6% ---\n",
      "Accuracy : 0.9979\n",
      "Precision: 1.0000\n",
      "Recall   : 0.9959\n",
      "F1-score : 0.9980\n",
      "\n",
      "--- PGD Attack - intenisty: 0.8% ---\n",
      "Accuracy : 0.9979\n",
      "Precision: 1.0000\n",
      "Recall   : 0.9959\n",
      "F1-score : 0.9980\n",
      "\n",
      "--- PGD Attack - intenisty: 1.0% ---\n",
      "Accuracy : 0.9979\n",
      "Precision: 1.0000\n",
      "Recall   : 0.9959\n",
      "F1-score : 0.9980\n",
      "\n",
      "PGD Time: 71.15 sec\n",
      "\n"
     ]
    }
   ],
   "source": [
    "from art.attacks.evasion import FastGradientMethod, ProjectedGradientDescent\n",
    "from art.estimators.classification import KerasClassifier\n",
    "\n",
    "# attack_fgsm = fgsmAttack(estimator=classifier)\n",
    "classifier = KerasClassifier(model=cnn_loaded, clip_values=(X_test.min(), X_test.max()))\n",
    "#classifier._model.trainable = False\n",
    "\n",
    "preds_clean = classifier.predict(X_test[:2000])\n",
    "labels_clean = (preds_clean > 0.5).astype(int).flatten()\n",
    "print(X_test.min(), X_test.max())\n",
    "\n",
    "# only keep correctly classified traffic (TP and TN)\n",
    "correct = labels_clean == Y_test[:2000]\n",
    "X_correct = X_test[:2000][correct]\n",
    "Y_correct = Y_test[:2000][correct]\n",
    "\n",
    "epsilons = [0.01, 0.05, 0.1, 0.2, 0.3, 0.6, 0.8, 1.0]\n",
    "\n",
    "#original predictions\n",
    "preds_orig = classifier.predict(X_correct)\n",
    "labels_orig = (preds_orig > 0.5).astype(int).flatten()\n",
    "evaluate(Y_correct, labels_orig, \"Original\")\n",
    "\n",
    "# fgsm predictions\n",
    "fgsm_acc, fgsm_prec, fgsm_rec, fgsm_f1 = [], [], [], []\n",
    "start = time.time()\n",
    "for i in range(len(epsilons)):\n",
    "    attack_fgsm = FastGradientMethod(estimator=classifier, eps=epsilons[i])\n",
    "    adv_fgsm = attack_fgsm.generate(x=X_correct, y=Y_correct)\n",
    "    preds_adv_fgsm = classifier.predict(adv_fgsm)\n",
    "    labels_adv_fgsm = (preds_adv_fgsm > 0.5).astype(int).flatten()\n",
    "    (acc, prec, rec, f1) = evaluate(Y_correct, labels_adv_fgsm, f\"FGSM Attack - intenisty: {epsilons[i]}%\")\n",
    "    fgsm_acc.append(acc)\n",
    "    fgsm_prec.append(prec)\n",
    "    fgsm_rec.append(rec)\n",
    "    fgsm_f1.append(f1)\n",
    "print(f\"FGSM Time: {time.time() - start:.2f} sec\\n\")\n",
    "\n",
    "# ProjectedGradientDescent predictions\n",
    "pgd_acc, pgd_prec, pgd_rec, pgd_f1 = [], [], [], []\n",
    "start = time.time()\n",
    "for i in range(len(epsilons)):\n",
    "    attack_pgd = ProjectedGradientDescent(estimator=classifier, eps=epsilons[i], verbose=False)\n",
    "    adv_pgd = attack_pgd.generate(x=X_correct, y=Y_correct)\n",
    "    preds_adv_pgd = classifier.predict(adv_pgd)\n",
    "    labels_adv_pgd = (preds_adv_pgd > 0.5).astype(int).flatten()\n",
    "    (acc, prec, rec, f1) = evaluate(Y_correct, labels_adv_pgd, f\"PGD Attack - intenisty: {epsilons[i]}%\")\n",
    "    pgd_acc.append(acc)\n",
    "    pgd_prec.append(prec)\n",
    "    pgd_rec.append(rec)\n",
    "    pgd_f1.append(f1)\n",
    "print(f\"PGD Time: {time.time() - start:.2f} sec\\n\")"
   ]
  },
  {
   "cell_type": "code",
   "execution_count": 31,
   "id": "98d975ca",
   "metadata": {},
   "outputs": [
    {
     "data": {
      "image/png": "[encoded data removed]",
      "text/plain": [
       "<Figure size 1000x600 with 1 Axes>"
      ]
     },
     "metadata": {},
     "output_type": "display_data"
    }
   ],
   "source": [
    "import matplotlib.pyplot as plt\n",
    "\n",
    "plt.figure(figsize=(10, 6))\n",
    "plt.plot(epsilons, fgsm_acc, label='FGSM - Accuracy', marker='o')\n",
    "plt.plot(epsilons, pgd_acc, label='PGD - Accuracy', marker='s')\n",
    "plt.xlabel('Epsilon')\n",
    "plt.ylabel('Accuracy')\n",
    "plt.title('CNN CICIDS - Accuracy vs Epsilon (FGSM and PGD)')\n",
    "plt.ylim(0, 1.05)\n",
    "plt.legend()\n",
    "plt.grid(True)\n",
    "plt.tight_layout()\n",
    "plt.show()"
   ]
  },
  {
   "cell_type": "markdown",
   "id": "de655f9e",
   "metadata": {},
   "source": [
    "### Trying Foolbox"
   ]
  },
  {
   "cell_type": "code",
   "execution_count": 22,
   "id": "27d19d7a",
   "metadata": {},
   "outputs": [
    {
     "ename": "ValueError",
     "evalue": "TensorFlowModel requires TensorFlow Eager Mode",
     "output_type": "error",
     "traceback": [
      "\u001b[0;31m---------------------------------------------------------------------------\u001b[0m",
      "\u001b[0;31mValueError\u001b[0m                                Traceback (most recent call last)",
      "Cell \u001b[0;32mIn[22], line 1\u001b[0m\n\u001b[0;32m----> 1\u001b[0m fmodel \u001b[38;5;241m=\u001b[39m \u001b[43mfb\u001b[49m\u001b[38;5;241;43m.\u001b[39;49m\u001b[43mTensorFlowModel\u001b[49m\u001b[43m(\u001b[49m\u001b[43mcnn_loaded\u001b[49m\u001b[43m,\u001b[49m\u001b[43m \u001b[49m\u001b[43mbounds\u001b[49m\u001b[38;5;241;43m=\u001b[39;49m\u001b[43m(\u001b[49m\u001b[43mX_test\u001b[49m\u001b[38;5;241;43m.\u001b[39;49m\u001b[43mmin\u001b[49m\u001b[43m(\u001b[49m\u001b[43m)\u001b[49m\u001b[43m,\u001b[49m\u001b[43m \u001b[49m\u001b[43mX_test\u001b[49m\u001b[38;5;241;43m.\u001b[39;49m\u001b[43mmax\u001b[49m\u001b[43m(\u001b[49m\u001b[43m)\u001b[49m\u001b[43m)\u001b[49m\u001b[43m)\u001b[49m\n\u001b[1;32m      3\u001b[0m \u001b[38;5;66;03m# attack = fb.attacks.HopSkipJumpAttack()\u001b[39;00m\n\u001b[1;32m      4\u001b[0m attack \u001b[38;5;241m=\u001b[39m fb\u001b[38;5;241m.\u001b[39mattacks\u001b[38;5;241m.\u001b[39mBoundaryAttack()\n",
      "File \u001b[0;32m~/anaconda3/envs/SDNIOT-env/lib/python3.10/site-packages/foolbox/models/tensorflow.py:30\u001b[0m, in \u001b[0;36mTensorFlowModel.__init__\u001b[0;34m(self, model, bounds, device, preprocessing)\u001b[0m\n\u001b[1;32m     27\u001b[0m \u001b[38;5;28;01mimport\u001b[39;00m\u001b[38;5;250m \u001b[39m\u001b[38;5;21;01mtensorflow\u001b[39;00m\u001b[38;5;250m \u001b[39m\u001b[38;5;28;01mas\u001b[39;00m\u001b[38;5;250m \u001b[39m\u001b[38;5;21;01mtf\u001b[39;00m\n\u001b[1;32m     29\u001b[0m \u001b[38;5;28;01mif\u001b[39;00m \u001b[38;5;129;01mnot\u001b[39;00m tf\u001b[38;5;241m.\u001b[39mexecuting_eagerly():\n\u001b[0;32m---> 30\u001b[0m     \u001b[38;5;28;01mraise\u001b[39;00m \u001b[38;5;167;01mValueError\u001b[39;00m(\n\u001b[1;32m     31\u001b[0m         \u001b[38;5;124m\"\u001b[39m\u001b[38;5;124mTensorFlowModel requires TensorFlow Eager Mode\u001b[39m\u001b[38;5;124m\"\u001b[39m\n\u001b[1;32m     32\u001b[0m     )  \u001b[38;5;66;03m# pragma: no cover\u001b[39;00m\n\u001b[1;32m     34\u001b[0m device \u001b[38;5;241m=\u001b[39m get_device(device)\n\u001b[1;32m     35\u001b[0m \u001b[38;5;28;01mwith\u001b[39;00m device:\n",
      "\u001b[0;31mValueError\u001b[0m: TensorFlowModel requires TensorFlow Eager Mode"
     ]
    }
   ],
   "source": [
    "fmodel = fb.TensorFlowModel(cnn_loaded, bounds=(X_test.min(), X_test.max()))\n",
    "\n",
    "# attack = fb.attacks.HopSkipJumpAttack()\n",
    "attack = fb.attacks.BoundaryAttack()\n",
    "# attack = fb.attacks.FGSM()\n",
    "\n",
    "\n",
    "epsilons = [0.01, 0.05, 0.1, 0.2, 0.3, 0.6, 0.8, 1.0]\n",
    "x = tf.constant(X_test[:5].astype(np.float32))\n",
    "y = tf.constant(Y_test[:5].astype(np.int64))\n",
    "\n",
    "advs, clipped, success = attack(fmodel, x, y, epsilons=epsilons)\n",
    "\n",
    "for i, eps in enumerate(epsilons):\n",
    "    print(f\"Epsilon {eps:.2f} — Success rate: {np.mean(success[i]):.2%}\")\n"
   ]
  }
 ],
 "metadata": {
  "kernelspec": {
   "display_name": "SDNIOT-env",
   "language": "python",
   "name": "python3"
  },
  "language_info": {
   "codemirror_mode": {
    "name": "ipython",
    "version": 3
   },
   "file_extension": ".py",
   "mimetype": "text/x-python",
   "name": "python",
   "nbconvert_exporter": "python",
   "pygments_lexer": "ipython3",
   "version": "3.10.18"
  }
 },
 "nbformat": 4,
 "nbformat_minor": 5
}
