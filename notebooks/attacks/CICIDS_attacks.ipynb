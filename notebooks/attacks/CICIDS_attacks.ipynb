{
 "cells": [
  {
   "cell_type": "code",
   "execution_count": 5,
   "id": "ba984513",
   "metadata": {},
   "outputs": [],
   "source": [
    "import foolbox as fb\n",
    "import art\n",
    "import tensorflow as tf\n",
    "tf.compat.v1.disable_eager_execution()\n",
    "import numpy as np\n",
    "import joblib"
   ]
  },
  {
   "cell_type": "code",
   "execution_count": 6,
   "id": "a4e90ab0",
   "metadata": {},
   "outputs": [],
   "source": [
    "X_train = joblib.load('../../preprocessed_data/CICIDS/X_train.joblib')\n",
    "X_test = joblib.load('../../preprocessed_data/CICIDS/X_test.joblib')\n",
    "Y_train = joblib.load('../../preprocessed_data/CICIDS/Y_train.joblib')\n",
    "Y_test = joblib.load('../../preprocessed_data/CICIDS/Y_test.joblib')"
   ]
  },
  {
   "cell_type": "code",
   "execution_count": 7,
   "id": "41ebfea6",
   "metadata": {},
   "outputs": [
    {
     "name": "stderr",
     "output_type": "stream",
     "text": [
      "2025-06-30 10:04:23.040486: I tensorflow/compiler/mlir/mlir_graph_optimization_pass.cc:375] MLIR V1 optimization pass is not enabled\n",
      "2025-06-30 10:04:23.056482: W tensorflow/c/c_api.cc:304] Operation '{name:'conv1d_2/bias/Assign' id:20 op device:{requested: '', assigned: ''} def:{{{node conv1d_2/bias/Assign}} = AssignVariableOp[_has_manual_control_dependencies=true, dtype=DT_FLOAT, validate_shape=false](conv1d_2/bias, conv1d_2/bias/Initializer/zeros)}}' was changed by setting attribute after it was run by a session. This mutation will have no effect, and will trigger an error in the future. Either don't modify nodes after running them or create a new session.\n",
      "2025-06-30 10:04:23.138814: W tensorflow/c/c_api.cc:304] Operation '{name:'total/Assign' id:134 op device:{requested: '', assigned: ''} def:{{{node total/Assign}} = AssignVariableOp[_has_manual_control_dependencies=true, dtype=DT_FLOAT, validate_shape=false](total, total/Initializer/zeros)}}' was changed by setting attribute after it was run by a session. This mutation will have no effect, and will trigger an error in the future. Either don't modify nodes after running them or create a new session.\n",
      "2025-06-30 10:04:23.359138: W tensorflow/c/c_api.cc:304] Operation '{name:'dense_11/bias/Assign' id:618 op device:{requested: '', assigned: ''} def:{{{node dense_11/bias/Assign}} = AssignVariableOp[_has_manual_control_dependencies=true, dtype=DT_FLOAT, validate_shape=false](dense_11/bias, dense_11/bias/Initializer/zeros)}}' was changed by setting attribute after it was run by a session. This mutation will have no effect, and will trigger an error in the future. Either don't modify nodes after running them or create a new session.\n",
      "2025-06-30 10:04:23.513304: W tensorflow/c/c_api.cc:304] Operation '{name:'lstm_2/lstm_cell/recurrent_kernel/v/Assign' id:818 op device:{requested: '', assigned: ''} def:{{{node lstm_2/lstm_cell/recurrent_kernel/v/Assign}} = AssignVariableOp[_has_manual_control_dependencies=true, dtype=DT_FLOAT, validate_shape=false](lstm_2/lstm_cell/recurrent_kernel/v, lstm_2/lstm_cell/recurrent_kernel/v/Initializer/zeros)}}' was changed by setting attribute after it was run by a session. This mutation will have no effect, and will trigger an error in the future. Either don't modify nodes after running them or create a new session.\n",
      "2025-06-30 10:04:23.827418: W tensorflow/c/c_api.cc:304] Operation '{name:'dense_14/kernel/Assign' id:1215 op device:{requested: '', assigned: ''} def:{{{node dense_14/kernel/Assign}} = AssignVariableOp[_has_manual_control_dependencies=true, dtype=DT_FLOAT, validate_shape=false](dense_14/kernel, dense_14/kernel/Initializer/stateless_random_uniform)}}' was changed by setting attribute after it was run by a session. This mutation will have no effect, and will trigger an error in the future. Either don't modify nodes after running them or create a new session.\n",
      "2025-06-30 10:04:24.016711: W tensorflow/c/c_api.cc:304] Operation '{name:'dense_14/kernel/v/Assign' id:1464 op device:{requested: '', assigned: ''} def:{{{node dense_14/kernel/v/Assign}} = AssignVariableOp[_has_manual_control_dependencies=true, dtype=DT_FLOAT, validate_shape=false](dense_14/kernel/v, dense_14/kernel/v/Initializer/zeros)}}' was changed by setting attribute after it was run by a session. This mutation will have no effect, and will trigger an error in the future. Either don't modify nodes after running them or create a new session.\n"
     ]
    }
   ],
   "source": [
    "from tensorflow.keras.models import load_model\n",
    "\n",
    "cnn_loaded = load_model('../../models/cnn_CICIDS2017_model.keras')\n",
    "lstm_loaded = load_model('../../models/lstm_CICIDS2017_model.keras')\n",
    "ae_lstm_loaded = load_model('../../models/ae-lstm_CICIDS2017_model.keras')"
   ]
  },
  {
   "cell_type": "markdown",
   "id": "8323b6d1",
   "metadata": {},
   "source": [
    "### FGSM"
   ]
  },
  {
   "cell_type": "code",
   "execution_count": 8,
   "id": "f9c2bd39",
   "metadata": {},
   "outputs": [
    {
     "name": "stderr",
     "output_type": "stream",
     "text": [
      "/home/bossantm/anaconda3/envs/SDNIOT-env/lib/python3.10/site-packages/keras/src/engine/training_v1.py:2359: UserWarning: `Model.state_updates` will be removed in a future version. This property should not be used in TensorFlow 2.0, as `updates` are applied automatically.\n",
      "  updates=self.state_updates,\n",
      "2025-06-30 10:04:24.265612: W tensorflow/c/c_api.cc:304] Operation '{name:'dense_10/Sigmoid' id:105 op device:{requested: '', assigned: ''} def:{{{node dense_10/Sigmoid}} = Sigmoid[T=DT_FLOAT, _has_manual_control_dependencies=true](dense_10/BiasAdd)}}' was changed by setting attribute after it was run by a session. This mutation will have no effect, and will trigger an error in the future. Either don't modify nodes after running them or create a new session.\n"
     ]
    },
    {
     "name": "stdout",
     "output_type": "stream",
     "text": [
      "-620.8767 536.92633\n"
     ]
    },
    {
     "name": "stderr",
     "output_type": "stream",
     "text": [
      "PGD - Random Initializations: 100%|██████████| 1/1 [00:00<00:00,  5.78it/s]\n",
      "PGD - Random Initializations: 100%|██████████| 1/1 [00:00<00:00,  6.02it/s]\n",
      "PGD - Random Initializations: 100%|██████████| 1/1 [00:00<00:00,  5.67it/s]\n",
      "PGD - Random Initializations: 100%|██████████| 1/1 [00:00<00:00,  5.51it/s]\n",
      "PGD - Random Initializations: 100%|██████████| 1/1 [00:00<00:00,  5.51it/s]\n",
      "PGD - Random Initializations: 100%|██████████| 1/1 [00:00<00:00,  5.87it/s]\n",
      "PGD - Random Initializations: 100%|██████████| 1/1 [00:00<00:00,  5.96it/s]\n",
      "PGD - Random Initializations: 100%|██████████| 1/1 [00:00<00:00,  5.61it/s]\n",
      "PGD - Random Initializations: 100%|██████████| 1/1 [00:00<00:00,  5.45it/s]\n",
      "PGD - Random Initializations: 100%|██████████| 1/1 [00:00<00:00,  5.45it/s]\n",
      "PGD - Random Initializations: 100%|██████████| 1/1 [00:00<00:00,  5.45it/s]\n",
      "PGD - Random Initializations: 100%|██████████| 1/1 [00:00<00:00,  5.51it/s]\n",
      "PGD - Random Initializations: 100%|██████████| 1/1 [00:00<00:00,  5.71it/s]\n",
      "PGD - Random Initializations: 100%|██████████| 1/1 [00:00<00:00,  5.99it/s]\n",
      "PGD - Random Initializations: 100%|██████████| 1/1 [00:00<00:00,  6.60it/s]\n",
      "PGD - Random Initializations: 100%|██████████| 1/1 [00:00<00:00,  6.43it/s]\n",
      "PGD - Random Initializations: 100%|██████████| 1/1 [00:00<00:00,  5.43it/s]\n",
      "PGD - Random Initializations: 100%|██████████| 1/1 [00:00<00:00,  6.05it/s]\n",
      "PGD - Random Initializations: 100%|██████████| 1/1 [00:00<00:00,  5.65it/s]\n",
      "PGD - Random Initializations: 100%|██████████| 1/1 [00:00<00:00,  5.48it/s]\n",
      "PGD - Random Initializations: 100%|██████████| 1/1 [00:00<00:00,  5.52it/s]\n",
      "PGD - Random Initializations: 100%|██████████| 1/1 [00:00<00:00,  5.43it/s]\n",
      "PGD - Random Initializations: 100%|██████████| 1/1 [00:00<00:00,  6.59it/s]\n",
      "PGD - Random Initializations: 100%|██████████| 1/1 [00:00<00:00,  6.67it/s]\n",
      "PGD - Random Initializations: 100%|██████████| 1/1 [00:00<00:00,  6.43it/s]\n",
      "PGD - Random Initializations: 100%|██████████| 1/1 [00:00<00:00,  6.38it/s]\n",
      "PGD - Random Initializations: 100%|██████████| 1/1 [00:00<00:00,  5.88it/s]\n",
      "PGD - Random Initializations: 100%|██████████| 1/1 [00:00<00:00,  6.61it/s]\n",
      "PGD - Random Initializations: 100%|██████████| 1/1 [00:00<00:00,  6.04it/s]\n",
      "PGD - Random Initializations: 100%|██████████| 1/1 [00:00<00:00,  6.05it/s]\n",
      "PGD - Random Initializations: 100%|██████████| 1/1 [00:00<00:00,  6.48it/s]\n",
      "PGD - Random Initializations: 100%|██████████| 1/1 [00:00<00:00,  6.55it/s]\n",
      "PGD - Random Initializations: 100%|██████████| 1/1 [00:00<00:00,  6.73it/s]\n",
      "PGD - Random Initializations: 100%|██████████| 1/1 [00:00<00:00,  6.81it/s]\n",
      "PGD - Random Initializations: 100%|██████████| 1/1 [00:00<00:00,  7.04it/s]\n",
      "PGD - Random Initializations: 100%|██████████| 1/1 [00:00<00:00,  7.04it/s]\n",
      "PGD - Random Initializations: 100%|██████████| 1/1 [00:00<00:00,  6.75it/s]\n",
      "PGD - Random Initializations: 100%|██████████| 1/1 [00:00<00:00,  6.76it/s]\n",
      "PGD - Random Initializations: 100%|██████████| 1/1 [00:00<00:00,  6.79it/s]\n",
      "PGD - Random Initializations: 100%|██████████| 1/1 [00:00<00:00,  5.51it/s]\n",
      "PGD - Random Initializations: 100%|██████████| 1/1 [00:00<00:00,  7.04it/s]\n",
      "PGD - Random Initializations: 100%|██████████| 1/1 [00:00<00:00,  7.00it/s]\n",
      "PGD - Random Initializations: 100%|██████████| 1/1 [00:00<00:00,  6.77it/s]\n",
      "PGD - Random Initializations: 100%|██████████| 1/1 [00:00<00:00,  6.63it/s]\n",
      "PGD - Random Initializations: 100%|██████████| 1/1 [00:00<00:00,  6.79it/s]\n",
      "PGD - Random Initializations: 100%|██████████| 1/1 [00:00<00:00,  6.58it/s]\n",
      "PGD - Random Initializations: 100%|██████████| 1/1 [00:00<00:00,  6.96it/s]\n",
      "PGD - Random Initializations: 100%|██████████| 1/1 [00:00<00:00,  6.89it/s]\n",
      "PGD - Random Initializations: 100%|██████████| 1/1 [00:00<00:00,  6.89it/s]\n",
      "PGD - Random Initializations: 100%|██████████| 1/1 [00:00<00:00,  6.95it/s]\n",
      "PGD - Random Initializations: 100%|██████████| 1/1 [00:00<00:00,  6.90it/s]\n",
      "PGD - Random Initializations: 100%|██████████| 1/1 [00:00<00:00,  7.04it/s]\n",
      "PGD - Random Initializations: 100%|██████████| 1/1 [00:00<00:00,  6.77it/s]\n",
      "PGD - Random Initializations: 100%|██████████| 1/1 [00:00<00:00,  6.80it/s]\n",
      "PGD - Random Initializations: 100%|██████████| 1/1 [00:00<00:00,  6.86it/s]\n",
      "PGD - Random Initializations: 100%|██████████| 1/1 [00:00<00:00,  6.84it/s]\n",
      "PGD - Random Initializations: 100%|██████████| 1/1 [00:00<00:00,  6.73it/s]\n",
      "PGD - Random Initializations: 100%|██████████| 1/1 [00:00<00:00,  6.99it/s]\n",
      "PGD - Random Initializations: 100%|██████████| 1/1 [00:00<00:00,  6.68it/s]\n",
      "PGD - Random Initializations: 100%|██████████| 1/1 [00:00<00:00,  6.80it/s]\n",
      "PGD - Random Initializations: 100%|██████████| 1/1 [00:00<00:00,  6.76it/s]\n"
     ]
    },
    {
     "name": "stdout",
     "output_type": "stream",
     "text": [
      "=== Prediction Counts ===\n",
      "Original        : Counter({1: 983, 0: 968})\n",
      "fgsmAttack  : Counter({0: 1459, 1: 492})\n",
      "ProjectedGradientDescent  : Counter({1: 979, 0: 972})\n"
     ]
    }
   ],
   "source": [
    "# from art.attacks.evasion import FastGradientMethod\n",
    "# from art.estimators.classification import KerasClassifier\n",
    "\n",
    "# # attack_fgsm = fgsmAttack(estimator=classifier)\n",
    "\n",
    "# classifier = KerasClassifier(model=cnn_loaded)\n",
    "\n",
    "# attack_fgsm = FastGradientMethod(estimator=classifier)\n",
    "\n",
    "# adv_fgsm = attack_fgsm.generate(x=X_test[:2000], y=Y_test[:2000])\n",
    "\n",
    "# # fgsm predictions\n",
    "# preds_adv_fgsm = classifier.predict(adv_fgsm)\n",
    "# labels_adv_fgsm = (preds_adv_fgsm > 0.5).astype(int).flatten()\n",
    "\n",
    "# print(\"=== Prediction Counts ===\")\n",
    "# print(\"Original        :\", Counter(labels_orig))\n",
    "# print(\"fgsmAttack  :\", Counter(labels_adv_fgsm))\n",
    "\n",
    "from collections import Counter\n",
    "from art.attacks.evasion import FastGradientMethod, ProjectedGradientDescent\n",
    "from art.estimators.classification import KerasClassifier\n",
    "\n",
    "# attack_fgsm = fgsmAttack(estimator=classifier)\n",
    "classifier = KerasClassifier(model=cnn_loaded, clip_values=(X_test.min(), X_test.max()))\n",
    "classifier._model.trainable = False\n",
    "\n",
    "preds_clean = classifier.predict(X_test[:2000])\n",
    "labels_clean = (preds_clean > 0.5).astype(int).flatten()\n",
    "print(X_test.min(), X_test.max())\n",
    "\n",
    "\n",
    "# only keep correctly classified traffic (TP and TN)\n",
    "correct = labels_clean == Y_test[:2000]\n",
    "\n",
    "X_correct = X_test[:2000][correct]\n",
    "Y_correct = Y_test[:2000][correct]\n",
    "\n",
    "attack_fgsm = FastGradientMethod(estimator=classifier, eps=1.0)\n",
    "adv_fgsm = attack_fgsm.generate(x=X_correct, y=Y_correct)\n",
    "\n",
    "attack_pgd = ProjectedGradientDescent(estimator=classifier, eps=1.0)\n",
    "adv_pgd = attack_pgd.generate(x=X_correct, y=Y_correct)\n",
    "\n",
    "#original predictions\n",
    "preds_orig = classifier.predict(X_correct)\n",
    "labels_orig = (preds_orig > 0.5).astype(int).flatten()\n",
    "\n",
    "# fgsm predictions\n",
    "preds_adv_fgsm = classifier.predict(adv_fgsm)\n",
    "labels_adv_fgsm = (preds_adv_fgsm > 0.5).astype(int).flatten()\n",
    "\n",
    "# ProjectedGradientDescent predictions\n",
    "preds_adv_pgd = classifier.predict(adv_pgd)\n",
    "# print(preds_orig[10:])\n",
    "# print(preds_adv_pgd[10:])\n",
    "labels_adv_pgd = (preds_adv_pgd > 0.5).astype(int).flatten()\n",
    "\n",
    "print(\"=== Prediction Counts ===\")\n",
    "print(\"Original        :\", Counter(labels_orig))\n",
    "print(\"fgsmAttack  :\", Counter(labels_adv_fgsm))\n",
    "print(\"ProjectedGradientDescent  :\", Counter(labels_adv_pgd))"
   ]
  },
  {
   "cell_type": "markdown",
   "id": "de655f9e",
   "metadata": {},
   "source": [
    "### Trying Foolbox"
   ]
  },
  {
   "cell_type": "code",
   "execution_count": null,
   "id": "27d19d7a",
   "metadata": {},
   "outputs": [
    {
     "name": "stderr",
     "output_type": "stream",
     "text": [
      "/home/bossantm/anaconda3/envs/dl-attack-env/lib/python3.9/site-packages/foolbox/attacks/blended_noise.py:85: UserWarning: LinearSearchBlendedUniformNoiseAttack failed to draw sufficient random inputs that are adversarial (3 / 5).\n",
      "  warnings.warn(\n"
     ]
    },
    {
     "ename": "ValueError",
     "evalue": "init_attack failed for 2.0 of 5 inputs",
     "output_type": "error",
     "traceback": [
      "\u001b[0;31m---------------------------------------------------------------------------\u001b[0m\n",
      "\u001b[0;31mValueError\u001b[0m                                Traceback (most recent call last)\n",
      "Cell \u001b[0;32mIn[51], line 22\u001b[0m\n",
      "\u001b[1;32m     10\u001b[0m y \u001b[38;5;241m=\u001b[39m tf\u001b[38;5;241m.\u001b[39mconstant(Y_test[:\u001b[38;5;241m5\u001b[39m]\u001b[38;5;241m.\u001b[39mastype(np\u001b[38;5;241m.\u001b[39mint64))\n",
      "\u001b[1;32m     12\u001b[0m \u001b[38;5;66;03m# preds = tf.argmax(fmodel(x), axis=-1)\u001b[39;00m\n",
      "\u001b[1;32m     13\u001b[0m \u001b[38;5;66;03m# mask = preds != y\u001b[39;00m\n",
      "\u001b[1;32m     14\u001b[0m \u001b[38;5;66;03m# x_filtered = tf.boolean_mask(x, mask)\u001b[39;00m\n",
      "\u001b[0;32m   (...)\u001b[0m\n",
      "\u001b[1;32m     19\u001b[0m \u001b[38;5;66;03m# if len(x_filtered) == 0:\u001b[39;00m\n",
      "\u001b[1;32m     20\u001b[0m \u001b[38;5;66;03m#     raise RuntimeError(\"No sample correctly classified to launch the attack\")\u001b[39;00m\n",
      "\u001b[0;32m---> 22\u001b[0m advs, clipped, success \u001b[38;5;241m=\u001b[39m \u001b[43mattack\u001b[49m\u001b[43m(\u001b[49m\u001b[43mfmodel\u001b[49m\u001b[43m,\u001b[49m\u001b[43m \u001b[49m\u001b[43mx\u001b[49m\u001b[43m,\u001b[49m\u001b[43m \u001b[49m\u001b[43my\u001b[49m\u001b[43m,\u001b[49m\u001b[43m \u001b[49m\u001b[43mepsilons\u001b[49m\u001b[38;5;241;43m=\u001b[39;49m\u001b[43mepsilons\u001b[49m\u001b[43m)\u001b[49m\n",
      "\u001b[1;32m     24\u001b[0m \u001b[38;5;28;01mfor\u001b[39;00m i, eps \u001b[38;5;129;01min\u001b[39;00m \u001b[38;5;28menumerate\u001b[39m(epsilons):\n",
      "\u001b[1;32m     25\u001b[0m     \u001b[38;5;28mprint\u001b[39m(\u001b[38;5;124mf\u001b[39m\u001b[38;5;124m\"\u001b[39m\u001b[38;5;124mEpsilon \u001b[39m\u001b[38;5;132;01m{\u001b[39;00meps\u001b[38;5;132;01m:\u001b[39;00m\u001b[38;5;124m.2f\u001b[39m\u001b[38;5;132;01m}\u001b[39;00m\u001b[38;5;124m — Success rate: \u001b[39m\u001b[38;5;132;01m{\u001b[39;00mnp\u001b[38;5;241m.\u001b[39mmean(success[i])\u001b[38;5;132;01m:\u001b[39;00m\u001b[38;5;124m.2%\u001b[39m\u001b[38;5;132;01m}\u001b[39;00m\u001b[38;5;124m\"\u001b[39m)\n",
      "\n",
      "File \u001b[0;32m~/anaconda3/envs/dl-attack-env/lib/python3.9/site-packages/foolbox/attacks/base.py:416\u001b[0m, in \u001b[0;36mMinimizationAttack.__call__\u001b[0;34m(***failed resolving arguments***)\u001b[0m\n",
      "\u001b[1;32m    413\u001b[0m     early_stop \u001b[38;5;241m=\u001b[39m \u001b[38;5;28mmin\u001b[39m(epsilons)  \u001b[38;5;66;03m# type: ignore\u001b[39;00m\n",
      "\u001b[1;32m    415\u001b[0m \u001b[38;5;66;03m# run the actual attack\u001b[39;00m\n",
      "\u001b[0;32m--> 416\u001b[0m xp \u001b[38;5;241m=\u001b[39m \u001b[38;5;28;43mself\u001b[39;49m\u001b[38;5;241;43m.\u001b[39;49m\u001b[43mrun\u001b[49m\u001b[43m(\u001b[49m\u001b[43mmodel\u001b[49m\u001b[43m,\u001b[49m\u001b[43m \u001b[49m\u001b[43mx\u001b[49m\u001b[43m,\u001b[49m\u001b[43m \u001b[49m\u001b[43mcriterion\u001b[49m\u001b[43m,\u001b[49m\u001b[43m \u001b[49m\u001b[43mearly_stop\u001b[49m\u001b[38;5;241;43m=\u001b[39;49m\u001b[43mearly_stop\u001b[49m\u001b[43m,\u001b[49m\u001b[43m \u001b[49m\u001b[38;5;241;43m*\u001b[39;49m\u001b[38;5;241;43m*\u001b[39;49m\u001b[43mkwargs\u001b[49m\u001b[43m)\u001b[49m\n",
      "\u001b[1;32m    418\u001b[0m xpcs \u001b[38;5;241m=\u001b[39m []\n",
      "\u001b[1;32m    419\u001b[0m success \u001b[38;5;241m=\u001b[39m []\n",
      "\n",
      "File \u001b[0;32m~/anaconda3/envs/dl-attack-env/lib/python3.9/site-packages/foolbox/attacks/hop_skip_jump.py:130\u001b[0m, in \u001b[0;36mHopSkipJumpAttack.run\u001b[0;34m(***failed resolving arguments***)\u001b[0m\n",
      "\u001b[1;32m    128\u001b[0m failed \u001b[38;5;241m=\u001b[39m is_adv\u001b[38;5;241m.\u001b[39mlogical_not()\u001b[38;5;241m.\u001b[39mfloat32()\u001b[38;5;241m.\u001b[39msum()\n",
      "\u001b[1;32m    129\u001b[0m \u001b[38;5;28;01mif\u001b[39;00m starting_points \u001b[38;5;129;01mis\u001b[39;00m \u001b[38;5;28;01mNone\u001b[39;00m:\n",
      "\u001b[0;32m--> 130\u001b[0m     \u001b[38;5;28;01mraise\u001b[39;00m \u001b[38;5;167;01mValueError\u001b[39;00m(\n",
      "\u001b[1;32m    131\u001b[0m         \u001b[38;5;124mf\u001b[39m\u001b[38;5;124m\"\u001b[39m\u001b[38;5;124minit_attack failed for \u001b[39m\u001b[38;5;132;01m{\u001b[39;00mfailed\u001b[38;5;132;01m}\u001b[39;00m\u001b[38;5;124m of \u001b[39m\u001b[38;5;132;01m{\u001b[39;00m\u001b[38;5;28mlen\u001b[39m(is_adv)\u001b[38;5;132;01m}\u001b[39;00m\u001b[38;5;124m inputs\u001b[39m\u001b[38;5;124m\"\u001b[39m\n",
      "\u001b[1;32m    132\u001b[0m     )\n",
      "\u001b[1;32m    133\u001b[0m \u001b[38;5;28;01melse\u001b[39;00m:\n",
      "\u001b[1;32m    134\u001b[0m     \u001b[38;5;28;01mraise\u001b[39;00m \u001b[38;5;167;01mValueError\u001b[39;00m(\n",
      "\u001b[1;32m    135\u001b[0m         \u001b[38;5;124mf\u001b[39m\u001b[38;5;124m\"\u001b[39m\u001b[38;5;132;01m{\u001b[39;00mfailed\u001b[38;5;132;01m}\u001b[39;00m\u001b[38;5;124m of \u001b[39m\u001b[38;5;132;01m{\u001b[39;00m\u001b[38;5;28mlen\u001b[39m(is_adv)\u001b[38;5;132;01m}\u001b[39;00m\u001b[38;5;124m starting_points are not adversarial\u001b[39m\u001b[38;5;124m\"\u001b[39m\n",
      "\u001b[1;32m    136\u001b[0m     )\n",
      "\n",
      "\u001b[0;31mValueError\u001b[0m: init_attack failed for 2.0 of 5 inputs"
     ]
    }
   ],
   "source": [
    "fmodel = fb.TensorFlowModel(cnn_loaded, bounds=(X_test.min(), X_test.max()))\n",
    "\n",
    "# attack = fb.attacks.HopSkipJumpAttack()\n",
    "attack = fb.attacks.BoundaryAttack()\n",
    "# attack = fb.attacks.FGSM()\n",
    "\n",
    "\n",
    "epsilons = [0.01, 0.05, 0.1, 0.2, 0.3, 0.6, 0.8, 1.0]\n",
    "x = tf.constant(X_test[:5].astype(np.float32))\n",
    "y = tf.constant(Y_test[:5].astype(np.int64))\n",
    "\n",
    "# preds = tf.argmax(fmodel(x), axis=-1)\n",
    "# mask = preds != y\n",
    "# x_filtered = tf.boolean_mask(x, mask)\n",
    "# y_filtered = tf.boolean_mask(y, mask)\n",
    "\n",
    "# print(f\"{len(x_filtered)} correctly classified inputs to attack\")\n",
    "\n",
    "# if len(x_filtered) == 0:\n",
    "#     raise RuntimeError(\"No sample correctly classified to launch the attack\")\n",
    "\n",
    "advs, clipped, success = attack(fmodel, x, y, epsilons=epsilons)\n",
    "\n",
    "for i, eps in enumerate(epsilons):\n",
    "    print(f\"Epsilon {eps:.2f} — Success rate: {np.mean(success[i]):.2%}\")\n"
   ]
  }
 ],
 "metadata": {
  "kernelspec": {
   "display_name": "SDNIOT-env",
   "language": "python",
   "name": "python3"
  },
  "language_info": {
   "codemirror_mode": {
    "name": "ipython",
    "version": 3
   },
   "file_extension": ".py",
   "mimetype": "text/x-python",
   "name": "python",
   "nbconvert_exporter": "python",
   "pygments_lexer": "ipython3",
   "version": "3.10.18"
  }
 },
 "nbformat": 4,
 "nbformat_minor": 5
}
