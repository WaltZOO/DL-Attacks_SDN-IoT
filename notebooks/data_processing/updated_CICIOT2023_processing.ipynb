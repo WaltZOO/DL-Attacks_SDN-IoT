{
 "cells": [
  {
   "cell_type": "code",
   "execution_count": 19,
   "id": "79ebafb8",
   "metadata": {},
   "outputs": [],
   "source": [
    "import pandas as pd\n",
    "import numpy as np\n",
    "import tensorflow as tf\n",
    "import joblib"
   ]
  },
  {
   "cell_type": "code",
   "execution_count": null,
   "id": "9ee96edb",
   "metadata": {},
   "outputs": [
    {
     "name": "stderr",
     "output_type": "stream",
     "text": [
      "/tmp/ipykernel_36234/3510967236.py:1: DtypeWarning: Columns (0,1,2,3,4,5,6,7,8,9,10,11,12,13,14,15,16,17,18,19,20,21,22,23,24,25,26,27,28,29,30,31,32,33,34,35,36,37,38,39,40,41,42,43,44,45) have mixed types. Specify dtype option on import or set low_memory=False.\n",
      "  df = pd.read_csv('../../datasets/CICIOT2023/full_version/merged.csv')\n"
     ]
    }
   ],
   "source": [
    "df = pd.read_csv('../../datasets/CICIOT2023/full_version/lighter_CICIOT2023.csv')\n",
    "\n",
    "df = df.sample(frac=1, random_state=42).reset_index(drop=True)"
   ]
  },
  {
   "cell_type": "markdown",
   "id": "9aa1f6aa",
   "metadata": {},
   "source": [
    "### Dropping useless columns"
   ]
  },
  {
   "cell_type": "code",
   "execution_count": 21,
   "id": "2fa1113e",
   "metadata": {},
   "outputs": [
    {
     "name": "stdout",
     "output_type": "stream",
     "text": [
      "              flow_duration Header_Length Protocol Type Duration  \\\n",
      "0                       0.0          54.0           6.0     64.0   \n",
      "1                       0.0           0.0           1.0     64.0   \n",
      "2                   0.07496       31247.0          17.0     64.0   \n",
      "3                       0.0           0.0           1.0     64.0   \n",
      "4        3.5216370820999146      171704.8           8.2    117.9   \n",
      "...                     ...           ...           ...      ...   \n",
      "2103094                 0.0           0.0           1.0     64.0   \n",
      "2103095                 0.0          54.0           6.0     64.0   \n",
      "2103096            0.242968      34894.19         16.61    66.74   \n",
      "2103097            0.185182         65.52          6.11    64.64   \n",
      "2103098                 0.0          54.0           6.0     64.0   \n",
      "\n",
      "                      Rate              Srate Drate fin_flag_number  \\\n",
      "0                2097152.0          2097152.0   0.0             0.0   \n",
      "1               172.310827         172.310827   0.0             0.0   \n",
      "2              8342.163468        8342.163468   0.0             0.0   \n",
      "3                 2.219812           2.219812   0.0             0.0   \n",
      "4        42.05994345226502  42.05994345226502   0.0             0.0   \n",
      "...                    ...                ...   ...             ...   \n",
      "2103094          46.964708          46.964708   0.0             0.0   \n",
      "2103095           3.709061           3.709061   0.0             0.0   \n",
      "2103096       11091.072018       11091.072018   0.0             0.0   \n",
      "2103097           0.948819           0.948819   0.0             0.0   \n",
      "2103098          10.274478          10.274478   0.0             1.0   \n",
      "\n",
      "        syn_flag_number rst_flag_number  ...                Std Tot size  \\\n",
      "0                   0.0             0.0  ...                0.0     54.0   \n",
      "1                   0.0             0.0  ...                0.0     42.0   \n",
      "2                   0.0             0.0  ...                0.0     50.0   \n",
      "3                   0.0             0.0  ...                0.0     42.0   \n",
      "4                   0.0             0.0  ...  456.3473463808324    550.8   \n",
      "...                 ...             ...  ...                ...      ...   \n",
      "2103094             0.0             0.0  ...                0.0     42.0   \n",
      "2103095             1.0             0.0  ...                0.0     54.0   \n",
      "2103096             0.0             0.0  ...           5.538499    51.09   \n",
      "2103097             1.0             0.0  ...          17.579889    57.06   \n",
      "2103098             0.0             1.0  ...                0.0     54.0   \n",
      "\n",
      "                       IAT Number           Magnitue             Radius  \\\n",
      "0          83034149.981301    9.5          10.392305                0.0   \n",
      "1          83483201.381503    9.5           9.165151                0.0   \n",
      "2            83102399.4107    9.5               10.0                0.0   \n",
      "3          83127977.355534    9.5           9.165151                0.0   \n",
      "4        0.023356008529663    5.5  43.69248885922575  645.3726064047457   \n",
      "...                    ...    ...                ...                ...   \n",
      "2103094    83124155.984523    9.5           9.165151                0.0   \n",
      "2103095    83094353.599041    9.5          10.392305                0.0   \n",
      "2103096    83012229.989152    9.5          10.257035           7.839666   \n",
      "2103097    83094035.001684    9.5          10.996702          24.884398   \n",
      "2103098    83349378.421645    9.5          10.392305                0.0   \n",
      "\n",
      "                 Covariance Variance  Weight             label  \n",
      "0                       0.0      0.0  141.55    DDoS-TCP_Flood  \n",
      "1                       0.0      0.0  141.55   DDoS-ICMP_Flood  \n",
      "2                       0.0      0.0  141.55    DDoS-UDP_Flood  \n",
      "3                       0.0      0.0  141.55   DDoS-ICMP_Flood  \n",
      "4        292075.32965022675      0.8    38.5     BenignTraffic  \n",
      "...                     ...      ...     ...               ...  \n",
      "2103094                 0.0      0.0  141.55   DDoS-ICMP_Flood  \n",
      "2103095                 0.0      0.0  141.55    DDoS-SYN_Flood  \n",
      "2103096          171.537691     0.19  141.55     DoS-UDP_Flood  \n",
      "2103097         1732.214526     0.24  141.55    DDoS-SYN_Flood  \n",
      "2103098                 0.0      0.0  141.55  DDoS-RSTFINFlood  \n",
      "\n",
      "[2103099 rows x 47 columns]\n"
     ]
    }
   ],
   "source": [
    "print(df)"
   ]
  },
  {
   "cell_type": "code",
   "execution_count": 22,
   "id": "d74002ea",
   "metadata": {},
   "outputs": [
    {
     "name": "stdout",
     "output_type": "stream",
     "text": [
      "Useless columns : []\n"
     ]
    }
   ],
   "source": [
    "from sklearn.model_selection import train_test_split\n",
    "from sklearn.preprocessing import StandardScaler\n",
    "\n",
    "#Drop useless columns\n",
    "\n",
    "useless_column = []\n",
    "# columns where we have always the same value\n",
    "for col in df.columns:\n",
    "    if df[col].nunique() == 1:\n",
    "        useless_column.append(col)\n",
    "\n",
    "print(f\"Useless columns : {useless_column}\")\n",
    "\n",
    "cols_to_drop = [\n",
    "    \"Protocol Type\",\n",
    "    \"Magnitue\", \"Radius\", \"Covariance\", \"Variance\", \"Weight\",\n",
    "]\n",
    "df.drop(columns=cols_to_drop)\n",
    "df.drop(columns=useless_column, inplace=True)"
   ]
  },
  {
   "cell_type": "markdown",
   "id": "1e04c303",
   "metadata": {},
   "source": [
    "### Separing datas and labels"
   ]
  },
  {
   "cell_type": "code",
   "execution_count": 23,
   "id": "73f441d0",
   "metadata": {},
   "outputs": [
    {
     "name": "stdout",
     "output_type": "stream",
     "text": [
      "label\n",
      "1    1989497\n",
      "0     113602\n",
      "Name: count, dtype: int64\n"
     ]
    }
   ],
   "source": [
    "df.columns = df.columns.str.strip() # to clean spaces on the columns names\n",
    "X = df.drop(columns=['label']) # without labels\n",
    "Y = df['label'] # just labels\n",
    "\n",
    "Y = Y.apply(lambda x: 0 if x == 'BenignTraffic' else 1)\n",
    "print(Y.value_counts())"
   ]
  },
  {
   "cell_type": "markdown",
   "id": "2a15e75b",
   "metadata": {},
   "source": [
    "### Encoding categorical data\n",
    "Difference between Label and OneHot : \\\n",
    "                                      - Label gives a number in int for each line (simple but the model could misunderstand the difference between numbers (priorities issues))\\\n",
    "                                      - OneHot encodes in binary columns (no hierarchy between column but a lot of columns if they are a lot of categories to label)"
   ]
  },
  {
   "cell_type": "code",
   "execution_count": 24,
   "id": "e4757c72",
   "metadata": {},
   "outputs": [],
   "source": [
    "from sklearn.compose import ColumnTransformer\n",
    "from sklearn.preprocessing import LabelEncoder, OneHotEncoder\n",
    "\n",
    "# no need of OneHotEncoder because all columns are numerical columns"
   ]
  },
  {
   "cell_type": "markdown",
   "id": "695ef427",
   "metadata": {},
   "source": [
    "### Splitting into training set and test set\n",
    "Split dataset into training and testing sets (70/30)\n"
   ]
  },
  {
   "cell_type": "code",
   "execution_count": 30,
   "id": "e3c36621",
   "metadata": {},
   "outputs": [
    {
     "name": "stdout",
     "output_type": "stream",
     "text": [
      "              flow_duration Header_Length Protocol Type Duration  \\\n",
      "1343662                 0.0          54.0           6.0     64.0   \n",
      "1437992            0.050684       45272.5         16.84    65.91   \n",
      "654961             0.005736       39867.4           6.0     56.0   \n",
      "203682   0.0527489209175109       35275.0          17.0     64.0   \n",
      "1794846                 0.0          54.0           6.0     64.0   \n",
      "...                     ...           ...           ...      ...   \n",
      "672688                  0.0          54.0           6.0     64.0   \n",
      "516857   0.0556870889663696         61.56          5.94    63.36   \n",
      "1455834            4.560022        106.92          5.95     64.0   \n",
      "1569223                 0.0           0.0           1.0     64.0   \n",
      "93751     2.275368204116821     621914.86         16.68     64.0   \n",
      "\n",
      "                       Rate               Srate Drate fin_flag_number  \\\n",
      "1343662             6.62172             6.62172   0.0             0.0   \n",
      "1437992        17883.265083        17883.265083   0.0             0.0   \n",
      "654961          5834.284711         5834.284711   0.0             0.0   \n",
      "203682   13377.041941304858  13377.041941304858   0.0             0.0   \n",
      "1794846          251.607918          251.607918   0.0             0.0   \n",
      "...                     ...                 ...   ...             ...   \n",
      "672688            61.408409           61.408409   0.0             0.0   \n",
      "516857    5.415133095083883   5.415133095083883   0.0             0.0   \n",
      "1455834            0.434349            0.434349   0.0             0.0   \n",
      "1569223            0.481441            0.481441   0.0             0.0   \n",
      "93751     493.5715548228639   493.5715548228639   0.0             0.0   \n",
      "\n",
      "        syn_flag_number rst_flag_number  ...                 AVG  \\\n",
      "1343662             1.0             0.0  ...                54.0   \n",
      "1437992             0.0             0.0  ...           50.069235   \n",
      "654961              0.0             0.0  ...          1845.68715   \n",
      "203682              0.0             0.0  ...                50.0   \n",
      "1794846             0.0             0.0  ...                54.0   \n",
      "...                 ...             ...  ...                 ...   \n",
      "672688              0.0             0.0  ...                54.0   \n",
      "516857              1.0             0.0  ...  54.009491228070175   \n",
      "1455834             1.0             0.0  ...           54.095485   \n",
      "1569223             0.0             0.0  ...                42.0   \n",
      "93751               0.0             0.0  ...   554.0427368421052   \n",
      "\n",
      "                        Std Tot size                IAT Number  \\\n",
      "1343662                 0.0     54.0    83093389.593641    9.5   \n",
      "1437992            0.279421     50.2    83011551.037928    9.5   \n",
      "654961           613.646678   1654.4   166612168.250033   13.5   \n",
      "203682                  0.0     50.0  83033261.69069599    9.5   \n",
      "1794846                 0.0     54.0    83331155.047132    9.5   \n",
      "...                     ...      ...                ...    ...   \n",
      "672688                  0.0     54.0    83331119.849855    9.5   \n",
      "516857   0.0402181949455137    54.06  83365395.55576327    9.5   \n",
      "1455834            0.398463    54.44    82985561.041138    9.5   \n",
      "1569223                 0.0     42.0    83128567.084036    9.5   \n",
      "93751    0.1465231259154421   554.56  83767455.89183761    9.5   \n",
      "\n",
      "                   Magnitue              Radius          Covariance Variance  \\\n",
      "1343662           10.392305                 0.0                 0.0      0.0   \n",
      "1437992           10.006936            0.396674            1.313486     0.06   \n",
      "654961             60.77934          869.415373       378322.108697      1.0   \n",
      "203682                 10.0                 0.0                 0.0      0.0   \n",
      "1794846           10.392305                 0.0                 0.0      0.0   \n",
      "...                     ...                 ...                 ...      ...   \n",
      "672688            10.392305                 0.0                 0.0      0.0   \n",
      "516857    10.39323195330928  0.0573312431582562  0.0547891658971991     0.03   \n",
      "1455834           10.401502            0.566842            4.018273     0.04   \n",
      "1569223            9.165151                 0.0                 0.0      0.0   \n",
      "93751    33.287518817152474  0.1768421052631578  0.7818282548476454     0.02   \n",
      "\n",
      "         Weight  \n",
      "1343662  141.55  \n",
      "1437992  141.55  \n",
      "654961    244.6  \n",
      "203682   141.55  \n",
      "1794846  141.55  \n",
      "...         ...  \n",
      "672688   141.55  \n",
      "516857   141.55  \n",
      "1455834  141.55  \n",
      "1569223  141.55  \n",
      "93751    141.55  \n",
      "\n",
      "[630930 rows x 46 columns]\n"
     ]
    }
   ],
   "source": [
    "X_train, X_test, Y_train, Y_test = train_test_split(X, Y, test_size=0.3, random_state=0, stratify=Y)\n",
    "print(X_test)"
   ]
  },
  {
   "cell_type": "markdown",
   "id": "7c17c74c",
   "metadata": {},
   "source": [
    "### Missing datas\n",
    "useless here because no missing datas"
   ]
  },
  {
   "cell_type": "code",
   "execution_count": null,
   "id": "f69a7cf1",
   "metadata": {},
   "outputs": [
    {
     "name": "stdout",
     "output_type": "stream",
     "text": [
      "Colonnes numériques détectées : ['flow_duration', 'Header_Length', 'Protocol Type', 'Duration', 'Rate', 'Srate', 'Drate', 'fin_flag_number', 'syn_flag_number', 'rst_flag_number', 'psh_flag_number', 'ack_flag_number', 'ece_flag_number', 'cwr_flag_number', 'ack_count', 'syn_count', 'fin_count', 'urg_count', 'rst_count', 'HTTP', 'HTTPS', 'DNS', 'Telnet', 'SMTP', 'SSH', 'IRC', 'TCP', 'UDP', 'DHCP', 'ARP', 'ICMP', 'IPv', 'LLC', 'Tot sum', 'Min', 'Max', 'AVG', 'Std', 'Tot size', 'IAT', 'Number', 'Magnitue', 'Radius', 'Covariance', 'Variance', 'Weight']\n",
      "X_train shape : (1472169, 46)\n",
      "X_train[numeric_cols] shape : (1472169, 46)\n"
     ]
    }
   ],
   "source": [
    "from sklearn.impute import SimpleImputer # to handle missing data\n",
    "\n",
    "#here there is no missing data so we don't have to manage this\n",
    "\n",
    "X_train = X_train.apply(pd.to_numeric, errors='coerce')\n",
    "X_test = X_test.apply(pd.to_numeric, errors='coerce')\n",
    "#because numeric values are not really numeric in the csv, so we convert them\n",
    "\n",
    "\n",
    "X_train.replace([np.inf, -np.inf], np.nan, inplace=True)\n",
    "X_test.replace([np.inf, -np.inf], np.nan, inplace=True)\n",
    "numeric_cols = X_train.select_dtypes(include=[np.number]).columns\n",
    "\n",
    "\n",
    "imputer = SimpleImputer(strategy='mean')\n",
    "X_train[numeric_cols] = imputer.fit_transform(X_train[numeric_cols])\n",
    "X_test[numeric_cols] = imputer.transform(X_test[numeric_cols])"
   ]
  },
  {
   "cell_type": "markdown",
   "id": "4d4bf9a8",
   "metadata": {},
   "source": [
    "### Feature Scaling\n",
    "To have the same scale between each columns (for instance, `Flow Duration` is way bigger than `Tot Fwd Pkts` and the model could misinterpret it and gives more importance to the Income column)"
   ]
  },
  {
   "cell_type": "code",
   "execution_count": 32,
   "id": "e13473f9",
   "metadata": {},
   "outputs": [],
   "source": [
    "scaler = StandardScaler()\n",
    "\n",
    "\n",
    "numeric_cols = X_train.select_dtypes(include=['int64', 'float64']).columns\n",
    "\n",
    "X_train[numeric_cols] = scaler.fit_transform(X_train[numeric_cols])\n",
    "X_test[numeric_cols] = scaler.transform(X_test[numeric_cols])"
   ]
  },
  {
   "cell_type": "markdown",
   "id": "d1e724bc",
   "metadata": {},
   "source": [
    "### Prepare data for Deep Learning (convert datas into float32)"
   ]
  },
  {
   "cell_type": "code",
   "execution_count": 33,
   "id": "b7a186c9",
   "metadata": {},
   "outputs": [
    {
     "data": {
      "text/plain": [
       "['../../preprocessed_data/CICIOT_update/Y_test.joblib']"
      ]
     },
     "execution_count": 33,
     "metadata": {},
     "output_type": "execute_result"
    }
   ],
   "source": [
    "X_train = X_train.astype('float32')\n",
    "X_test = X_test.astype('float32')\n",
    "\n",
    "\n",
    "Y_train = np.array(Y_train).astype('float32')\n",
    "Y_test = np.array(Y_test).astype('float32')\n",
    "\n",
    "X_train = np.expand_dims(X_train, axis=2)\n",
    "X_test = np.expand_dims(X_test, axis=2)\n",
    "\n",
    "joblib.dump(X_train, '../../preprocessed_data/CICIOT_update/X_train.joblib')\n",
    "joblib.dump(X_test, '../../preprocessed_data/CICIOT_update/X_test.joblib')\n",
    "joblib.dump(Y_train, '../../preprocessed_data/CICIOT_update/Y_train.joblib')\n",
    "joblib.dump(Y_test, '../../preprocessed_data/CICIOT_update/Y_test.joblib')\n"
   ]
  }
 ],
 "metadata": {
  "kernelspec": {
   "display_name": "SDNIOT-env",
   "language": "python",
   "name": "python3"
  },
  "language_info": {
   "codemirror_mode": {
    "name": "ipython",
    "version": 3
   },
   "file_extension": ".py",
   "mimetype": "text/x-python",
   "name": "python",
   "nbconvert_exporter": "python",
   "pygments_lexer": "ipython3",
   "version": "3.10.18"
  }
 },
 "nbformat": 4,
 "nbformat_minor": 5
}
