{
 "cells": [
  {
   "cell_type": "code",
   "execution_count": 1,
   "id": "c35bdc95",
   "metadata": {},
   "outputs": [],
   "source": [
    "import pandas as pd\n",
    "import numpy as np\n",
    "import joblib"
   ]
  },
  {
   "cell_type": "code",
   "execution_count": 2,
   "id": "163d0199",
   "metadata": {},
   "outputs": [],
   "source": [
    "ddos = pd.read_csv('../../datasets/CICIDS2017/Friday-WorkingHours-Afternoon-DDos.pcap_ISCX.csv')\n",
    "portscan = pd.read_csv('../../datasets/CICIDS2017/Friday-WorkingHours-Afternoon-PortScan.pcap_ISCX.csv')\n",
    "friday = pd.read_csv('../../datasets/CICIDS2017/Friday-WorkingHours-Morning.pcap_ISCX.csv')\n",
    "monday = pd.read_csv('../../datasets/CICIDS2017/Monday-WorkingHours.pcap_ISCX.csv')\n",
    "infiltration = pd.read_csv('../../datasets/CICIDS2017/Thursday-WorkingHours-Afternoon-Infilteration.pcap_ISCX.csv')\n",
    "webattacks = pd.read_csv('../../datasets/CICIDS2017/Thursday-WorkingHours-Morning-WebAttacks.pcap_ISCX.csv')\n",
    "tuesday = pd.read_csv('../../datasets/CICIDS2017/Tuesday-WorkingHours.pcap_ISCX.csv')\n",
    "wednesday = pd.read_csv('../../datasets/CICIDS2017/Wednesday-workingHours.pcap_ISCX.csv')\n",
    "\n",
    "df = pd.concat([ddos, portscan, friday, monday, infiltration, webattacks, tuesday, wednesday], ignore_index=True)\n",
    "\n",
    "df = df.sample(frac=1, random_state=42).reset_index(drop=True)"
   ]
  },
  {
   "cell_type": "markdown",
   "id": "44e3fad6",
   "metadata": {},
   "source": [
    "### Dropping Useless columns"
   ]
  },
  {
   "cell_type": "code",
   "execution_count": 3,
   "id": "dfbc131d",
   "metadata": {},
   "outputs": [
    {
     "name": "stdout",
     "output_type": "stream",
     "text": [
      "Useless columns : [' Bwd PSH Flags', ' Bwd URG Flags', 'Fwd Avg Bytes/Bulk', ' Fwd Avg Packets/Bulk', ' Fwd Avg Bulk Rate', ' Bwd Avg Bytes/Bulk', ' Bwd Avg Packets/Bulk', 'Bwd Avg Bulk Rate']\n"
     ]
    }
   ],
   "source": [
    "from sklearn.model_selection import train_test_split\n",
    "from sklearn.preprocessing import StandardScaler\n",
    "#Drop useless columns\n",
    "\n",
    "useless_column = []\n",
    "# columns where we have always the same value\n",
    "for col in df.columns:\n",
    "    if df[col].nunique() == 1:\n",
    "        useless_column.append(col)\n",
    "\n",
    "print(f\"Useless columns : {useless_column}\")\n",
    "\n",
    "df.drop(columns=useless_column, inplace=True)\n",
    "\n",
    "df = df.drop(columns=[' Destination Port']) # useless for detecting attacks"
   ]
  },
  {
   "cell_type": "markdown",
   "id": "89d288d5",
   "metadata": {},
   "source": [
    "### Separing datas and labels"
   ]
  },
  {
   "cell_type": "code",
   "execution_count": 4,
   "id": "033e8b2a",
   "metadata": {},
   "outputs": [],
   "source": [
    "df.columns = df.columns.str.strip() # to clean spaces on the columns names\n",
    "X = df.drop(columns=['Label']) # without labels\n",
    "Y = df['Label'] # just labels"
   ]
  },
  {
   "cell_type": "markdown",
   "id": "a7c16dad",
   "metadata": {},
   "source": [
    "### Encoding categorical data\n",
    "Difference between Label and OneHot : \\\n",
    "                                      - Label gives a number in int for each line (simple but the model could misunderstand the difference between numbers (priorities issues))\\\n",
    "                                      - OneHot encodes in binary columns (no hierarchy between column but a lot of columns if they are a lot of categories to label)"
   ]
  },
  {
   "cell_type": "code",
   "execution_count": 5,
   "id": "6bcf7106",
   "metadata": {},
   "outputs": [],
   "source": [
    "from sklearn.compose import ColumnTransformer\n",
    "from sklearn.preprocessing import LabelEncoder, OneHotEncoder\n",
    "\n",
    "# no need of OneHotEncoder because all columns except Label are numerical columns\n",
    "\n",
    "Y = Y.apply(lambda x: 0 if x == 'BENIGN' else 1) # because we have several types of attacks and we wants bianaries Y"
   ]
  },
  {
   "cell_type": "markdown",
   "id": "9e61d4d7",
   "metadata": {},
   "source": [
    "### Splitting into training set and test set\n",
    "Split dataset into training and testing sets (70/30)"
   ]
  },
  {
   "cell_type": "code",
   "execution_count": 6,
   "id": "83c5939c",
   "metadata": {},
   "outputs": [],
   "source": [
    "X_train, X_test, Y_train, Y_test = train_test_split(X, Y, test_size=0.3, random_state=0, stratify=Y)"
   ]
  },
  {
   "cell_type": "markdown",
   "id": "952598f5",
   "metadata": {},
   "source": [
    "### Missing datas\n",
    "useless here because no missing datas"
   ]
  },
  {
   "cell_type": "code",
   "execution_count": 7,
   "id": "4a437cdc",
   "metadata": {},
   "outputs": [],
   "source": [
    "from sklearn.impute import SimpleImputer # to handle missing data\n",
    "\n",
    "#here there is no missing data so we don't have to manage this\n",
    "\n",
    "X_train.replace([np.inf, -np.inf], np.nan, inplace=True)\n",
    "X_test.replace([np.inf, -np.inf], np.nan, inplace=True)\n",
    "numeric_cols = X_train.select_dtypes(include=['int64', 'float64']).columns\n",
    "\n",
    "\n",
    "imputer = SimpleImputer(strategy='mean')\n",
    "X_train[numeric_cols] = imputer.fit_transform(X_train[numeric_cols])\n",
    "X_test[numeric_cols] = imputer.transform(X_test[numeric_cols])"
   ]
  },
  {
   "cell_type": "markdown",
   "id": "6cf32f78",
   "metadata": {},
   "source": [
    "### Feature Scaling\n",
    "To have the same scale between each columns (for instance, `Flow Duration` is way bigger than `Tot Fwd Pkts` and the model could misinterpret it and gives more importance to the Income column)"
   ]
  },
  {
   "cell_type": "code",
   "execution_count": 8,
   "id": "8892f8a1",
   "metadata": {},
   "outputs": [],
   "source": [
    "scaler = StandardScaler()\n",
    "\n",
    "\n",
    "numeric_cols = X_train.select_dtypes(include=['int64', 'float64']).columns\n",
    "\n",
    "X_train[numeric_cols] = scaler.fit_transform(X_train[numeric_cols])\n",
    "X_test[numeric_cols] = scaler.transform(X_test[numeric_cols])"
   ]
  },
  {
   "cell_type": "markdown",
   "id": "0ea7d9ce",
   "metadata": {},
   "source": [
    "### Prepare data for Deep Learning (convert datas into float32)"
   ]
  },
  {
   "cell_type": "code",
   "execution_count": 9,
   "id": "1834b0c6",
   "metadata": {},
   "outputs": [
    {
     "name": "stderr",
     "output_type": "stream",
     "text": [
      "2025-06-17 16:55:24.562151: I tensorflow/core/platform/cpu_feature_guard.cc:182] This TensorFlow binary is optimized to use available CPU instructions in performance-critical operations.\n",
      "To enable the following instructions: SSE4.1 SSE4.2 AVX AVX2 FMA, in other operations, rebuild TensorFlow with the appropriate compiler flags.\n"
     ]
    },
    {
     "data": {
      "text/plain": [
       "['../../preprocessed_data/CICIDS/Y_test.joblib']"
      ]
     },
     "execution_count": 9,
     "metadata": {},
     "output_type": "execute_result"
    }
   ],
   "source": [
    "import tensorflow as tf\n",
    "\n",
    "X_train = X_train.astype('float32')\n",
    "X_test = X_test.astype('float32')\n",
    "\n",
    "\n",
    "Y_train = np.array(Y_train).astype('float32')\n",
    "Y_test = np.array(Y_test).astype('float32')\n",
    "\n",
    "X_train = np.expand_dims(X_train, axis=2)\n",
    "X_test = np.expand_dims(X_test, axis=2)\n",
    "\n",
    "joblib.dump(X_train, '../../preprocessed_data/CICIDS/X_train.joblib')\n",
    "joblib.dump(X_test, '../../preprocessed_data/CICIDS/X_test.joblib')\n",
    "joblib.dump(Y_train, '../../preprocessed_data/CICIDS/Y_train.joblib')\n",
    "joblib.dump(Y_test, '../../preprocessed_data/CICIDS/Y_test.joblib')"
   ]
  }
 ],
 "metadata": {
  "kernelspec": {
   "display_name": "SDNIOT-env",
   "language": "python",
   "name": "python3"
  },
  "language_info": {
   "codemirror_mode": {
    "name": "ipython",
    "version": 3
   },
   "file_extension": ".py",
   "mimetype": "text/x-python",
   "name": "python",
   "nbconvert_exporter": "python",
   "pygments_lexer": "ipython3",
   "version": "3.10.18"
  }
 },
 "nbformat": 4,
 "nbformat_minor": 5
}
