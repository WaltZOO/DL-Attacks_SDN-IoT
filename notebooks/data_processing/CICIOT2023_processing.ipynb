{
 "cells": [
  {
   "cell_type": "code",
   "execution_count": 66,
   "id": "d020b2ef",
   "metadata": {},
   "outputs": [],
   "source": [
    "import pandas as pd\n",
    "import numpy as np\n",
    "import tensorflow as tf\n",
    "import joblib"
   ]
  },
  {
   "cell_type": "code",
   "execution_count": 67,
   "id": "19f869e2",
   "metadata": {},
   "outputs": [
    {
     "name": "stdout",
     "output_type": "stream",
     "text": [
      "         Header_Length  LLC  TCP  UDP  DHCP  ARP  ICMP  IGMP  IPv  Tot sum  \\\n",
      "0                 20.0  1.0  1.0  0.0   0.0  0.0   0.0   0.0  1.0     6000   \n",
      "1                 25.6  0.8  0.8  0.0   0.0  0.2   0.0   0.0  0.8      648   \n",
      "2                 32.0  1.0  1.0  0.0   0.0  0.0   0.0   0.0  1.0      671   \n",
      "3                 32.0  1.0  1.0  0.0   0.0  0.0   0.0   0.0  1.0      660   \n",
      "4                 20.0  1.0  1.0  0.0   0.0  0.0   0.0   0.0  1.0     6000   \n",
      "...                ...  ...  ...  ...   ...  ...   ...   ...  ...      ...   \n",
      "1054080           20.0  1.0  1.0  0.0   0.0  0.0   0.0   0.0  1.0     6000   \n",
      "1054081           20.0  1.0  1.0  0.0   0.0  0.0   0.0   0.0  1.0     6000   \n",
      "1054082           20.0  1.0  1.0  0.0   0.0  0.0   0.0   0.0  1.0     6000   \n",
      "1054083           30.8  1.0  1.0  0.0   0.0  0.0   0.0   0.0  1.0     7945   \n",
      "1054084           20.0  1.0  1.0  0.0   0.0  0.0   0.0   0.0  1.0     6000   \n",
      "\n",
      "         ...  fin_flag_number  syn_flag_number  rst_flag_number  \\\n",
      "0        ...              0.0              1.0              0.0   \n",
      "1        ...              0.0              0.0              0.0   \n",
      "2        ...              0.0              0.0              0.0   \n",
      "3        ...              0.0              0.0              0.0   \n",
      "4        ...              0.0              1.0              0.0   \n",
      "...      ...              ...              ...              ...   \n",
      "1054080  ...              0.0              1.0              0.0   \n",
      "1054081  ...              0.0              1.0              0.0   \n",
      "1054082  ...              0.0              1.0              0.0   \n",
      "1054083  ...              0.0              0.0              0.0   \n",
      "1054084  ...              0.0              1.0              0.0   \n",
      "\n",
      "         psh_flag_number  ack_flag_number  cwr_flag_number  Label  cluster  \\\n",
      "0                    0.0              0.0              0.0      1        0   \n",
      "1                    0.0              0.8              0.0      0        5   \n",
      "2                    0.1              1.0              0.0      0        5   \n",
      "3                    0.0              1.0              0.0      0        5   \n",
      "4                    0.0              0.0              0.0      1        0   \n",
      "...                  ...              ...              ...    ...      ...   \n",
      "1054080              0.0              0.0              0.0      1        0   \n",
      "1054081              0.0              0.0              0.0      1        0   \n",
      "1054082              0.0              0.0              0.0      1        0   \n",
      "1054083              0.2              1.0              0.0      0        3   \n",
      "1054084              0.0              0.0              0.0      1        0   \n",
      "\n",
      "             pca1      pca2  \n",
      "0       -0.451490 -0.280051  \n",
      "1       -0.079778 -0.304254  \n",
      "2       -0.368817 -0.399797  \n",
      "3       -0.378920 -0.481922  \n",
      "4       -0.451489 -0.280051  \n",
      "...           ...       ...  \n",
      "1054080 -0.451491 -0.280051  \n",
      "1054081 -0.451490 -0.280051  \n",
      "1054082 -0.451490 -0.280051  \n",
      "1054083 -0.330568  0.009848  \n",
      "1054084 -0.451490 -0.280051  \n",
      "\n",
      "[1054085 rows x 34 columns]\n"
     ]
    }
   ],
   "source": [
    "attacks = pd.read_csv('../../datasets/CICIOT2023/tharindu_cleaned_version/nattack.csv')\n",
    "benign = pd.read_csv('../../datasets/CICIOT2023/tharindu_cleaned_version/nbengin.csv')\n",
    "\n",
    "df = pd.concat([attacks, benign], ignore_index=True)\n",
    "\n",
    "df = df.sample(frac=1, random_state=42).reset_index(drop=True)\n",
    "\n",
    "print(df)"
   ]
  },
  {
   "cell_type": "markdown",
   "id": "6e8ea641",
   "metadata": {},
   "source": [
    "### Dropping useless columns"
   ]
  },
  {
   "cell_type": "code",
   "execution_count": 68,
   "id": "d5013dad",
   "metadata": {},
   "outputs": [
    {
     "name": "stdout",
     "output_type": "stream",
     "text": [
      "['Protocol Type']\n"
     ]
    }
   ],
   "source": [
    "from sklearn.model_selection import train_test_split\n",
    "from sklearn.preprocessing import StandardScaler\n",
    "\n",
    "#Drop useless columns\n",
    "\n",
    "useless_column = []\n",
    "# columns where we have always the same value\n",
    "for col in df.columns:\n",
    "    if df[col].nunique() == 1:\n",
    "        useless_column.append(col)\n",
    "\n",
    "print(useless_column)\n",
    "\n",
    "df.drop(columns=useless_column, inplace=True)"
   ]
  },
  {
   "cell_type": "markdown",
   "id": "64e540f4",
   "metadata": {},
   "source": [
    "### Separing datas and labels"
   ]
  },
  {
   "cell_type": "code",
   "execution_count": 69,
   "id": "f94c24a2",
   "metadata": {},
   "outputs": [
    {
     "name": "stdout",
     "output_type": "stream",
     "text": [
      "         Header_Length  LLC  TCP  UDP  DHCP  ARP  ICMP  IGMP  IPv  Tot sum  \\\n",
      "0                 20.0  1.0  1.0  0.0   0.0  0.0   0.0   0.0  1.0     6000   \n",
      "1                 25.6  0.8  0.8  0.0   0.0  0.2   0.0   0.0  0.8      648   \n",
      "2                 32.0  1.0  1.0  0.0   0.0  0.0   0.0   0.0  1.0      671   \n",
      "3                 32.0  1.0  1.0  0.0   0.0  0.0   0.0   0.0  1.0      660   \n",
      "4                 20.0  1.0  1.0  0.0   0.0  0.0   0.0   0.0  1.0     6000   \n",
      "...                ...  ...  ...  ...   ...  ...   ...   ...  ...      ...   \n",
      "1054080           20.0  1.0  1.0  0.0   0.0  0.0   0.0   0.0  1.0     6000   \n",
      "1054081           20.0  1.0  1.0  0.0   0.0  0.0   0.0   0.0  1.0     6000   \n",
      "1054082           20.0  1.0  1.0  0.0   0.0  0.0   0.0   0.0  1.0     6000   \n",
      "1054083           30.8  1.0  1.0  0.0   0.0  0.0   0.0   0.0  1.0     7945   \n",
      "1054084           20.0  1.0  1.0  0.0   0.0  0.0   0.0   0.0  1.0     6000   \n",
      "\n",
      "         ...          Rate  fin_flag_number  syn_flag_number  rst_flag_number  \\\n",
      "0        ...  26007.961803              0.0              1.0              0.0   \n",
      "1        ...     59.680079              0.0              0.0              0.0   \n",
      "2        ...    668.542829              0.0              0.0              0.0   \n",
      "3        ...   2224.740890              0.0              0.0              0.0   \n",
      "4        ...  48077.762494              0.0              1.0              0.0   \n",
      "...      ...           ...              ...              ...              ...   \n",
      "1054080  ...  14492.602191              0.0              1.0              0.0   \n",
      "1054081  ...  23680.578139              0.0              1.0              0.0   \n",
      "1054082  ...  37650.843806              0.0              1.0              0.0   \n",
      "1054083  ...    476.988616              0.0              0.0              0.0   \n",
      "1054084  ...  28059.298903              0.0              1.0              0.0   \n",
      "\n",
      "         psh_flag_number  ack_flag_number  cwr_flag_number  cluster      pca1  \\\n",
      "0                    0.0              0.0              0.0        0 -0.451490   \n",
      "1                    0.0              0.8              0.0        5 -0.079778   \n",
      "2                    0.1              1.0              0.0        5 -0.368817   \n",
      "3                    0.0              1.0              0.0        5 -0.378920   \n",
      "4                    0.0              0.0              0.0        0 -0.451489   \n",
      "...                  ...              ...              ...      ...       ...   \n",
      "1054080              0.0              0.0              0.0        0 -0.451491   \n",
      "1054081              0.0              0.0              0.0        0 -0.451490   \n",
      "1054082              0.0              0.0              0.0        0 -0.451490   \n",
      "1054083              0.2              1.0              0.0        3 -0.330568   \n",
      "1054084              0.0              0.0              0.0        0 -0.451490   \n",
      "\n",
      "             pca2  \n",
      "0       -0.280051  \n",
      "1       -0.304254  \n",
      "2       -0.399797  \n",
      "3       -0.481922  \n",
      "4       -0.280051  \n",
      "...           ...  \n",
      "1054080 -0.280051  \n",
      "1054081 -0.280051  \n",
      "1054082 -0.280051  \n",
      "1054083  0.009848  \n",
      "1054084 -0.280051  \n",
      "\n",
      "[1054085 rows x 32 columns]\n"
     ]
    }
   ],
   "source": [
    "df.columns = df.columns.str.strip() # to clean spaces on the columns names\n",
    "X = df.drop(columns=['Label']) # without labels\n",
    "Y = df['Label'] # just labels\n",
    "print(X)"
   ]
  },
  {
   "cell_type": "markdown",
   "id": "ed71b3ca",
   "metadata": {},
   "source": [
    "### Encoding categorical data\n",
    "Difference between Label and OneHot : \\\n",
    "                                      - Label gives a number in int for each line (simple but the model could misunderstand the difference between numbers (priorities issues))\\\n",
    "                                      - OneHot encodes in binary columns (no hierarchy between column but a lot of columns if they are a lot of categories to label)"
   ]
  },
  {
   "cell_type": "code",
   "execution_count": 70,
   "id": "bfffe7e3",
   "metadata": {},
   "outputs": [
    {
     "name": "stdout",
     "output_type": "stream",
     "text": [
      "0          1\n",
      "1          0\n",
      "2          0\n",
      "3          0\n",
      "4          1\n",
      "          ..\n",
      "1054080    1\n",
      "1054081    1\n",
      "1054082    1\n",
      "1054083    0\n",
      "1054084    1\n",
      "Name: Label, Length: 1054085, dtype: int64\n"
     ]
    }
   ],
   "source": [
    "from sklearn.compose import ColumnTransformer\n",
    "from sklearn.preprocessing import LabelEncoder, OneHotEncoder\n",
    "\n",
    "# no need of OneHotEncoder because all columns are numerical columns\n",
    "\n",
    "print(Y)"
   ]
  },
  {
   "cell_type": "markdown",
   "id": "261170ac",
   "metadata": {},
   "source": [
    "### Splitting into training set and test set\n",
    "Split dataset into training and testing sets (70/30)\n"
   ]
  },
  {
   "cell_type": "code",
   "execution_count": 71,
   "id": "38fa7e45",
   "metadata": {},
   "outputs": [
    {
     "name": "stdout",
     "output_type": "stream",
     "text": [
      "        Header_Length  LLC  TCP  UDP  DHCP  ARP  ICMP  IGMP  IPv  Tot sum  \\\n",
      "660550          20.52  1.0  1.0  0.0   0.0  0.0   0.0   0.0  1.0     6034   \n",
      "550709          20.00  1.0  1.0  0.0   0.0  0.0   0.0   0.0  1.0     6000   \n",
      "174594          20.00  1.0  1.0  0.0   0.0  0.0   0.0   0.0  1.0     6000   \n",
      "770231          20.00  1.0  1.0  0.0   0.0  0.0   0.0   0.0  1.0     6000   \n",
      "32921           20.00  1.0  1.0  0.0   0.0  0.0   0.0   0.0  1.0     6000   \n",
      "...               ...  ...  ...  ...   ...  ...   ...   ...  ...      ...   \n",
      "191480          20.00  1.0  1.0  0.0   0.0  0.0   0.0   0.0  1.0     6000   \n",
      "719617          32.00  1.0  1.0  0.0   0.0  0.0   0.0   0.0  1.0     7900   \n",
      "807111          20.00  1.0  1.0  0.0   0.0  0.0   0.0   0.0  1.0     6000   \n",
      "915925          28.00  1.0  0.8  0.2   0.1  0.0   0.0   0.0  1.0     1909   \n",
      "377054          32.00  1.0  1.0  0.0   0.0  0.0   0.0   0.0  1.0    13692   \n",
      "\n",
      "        ...          Rate  fin_flag_number  syn_flag_number  rst_flag_number  \\\n",
      "660550  ...   5595.090977              0.0             0.99              0.0   \n",
      "550709  ...  43951.629467              0.0             1.00              0.0   \n",
      "174594  ...  46167.352779              0.0             1.00              0.0   \n",
      "770231  ...  31595.510358              0.0             1.00              0.0   \n",
      "32921   ...  13363.614350              0.0             0.99              0.0   \n",
      "...     ...           ...              ...              ...              ...   \n",
      "191480  ...  37878.659803              0.0             1.00              0.0   \n",
      "719617  ...    877.432743              0.0             0.00              0.0   \n",
      "807111  ...  44187.779182              0.0             1.00              0.0   \n",
      "915925  ...    191.670391              0.0             0.10              0.0   \n",
      "377054  ...   1693.505067              0.0             0.00              0.0   \n",
      "\n",
      "        psh_flag_number  ack_flag_number  cwr_flag_number  cluster      pca1  \\\n",
      "660550              0.0             0.02              0.0        0 -0.453957   \n",
      "550709              0.0             0.00              0.0        0 -0.451489   \n",
      "174594              0.0             0.00              0.0        0 -0.451489   \n",
      "770231              0.0             0.00              0.0        0 -0.451490   \n",
      "32921               0.0             0.01              0.0        0 -0.450359   \n",
      "...                 ...              ...              ...      ...       ...   \n",
      "191480              0.0             0.00              0.0        0 -0.451490   \n",
      "719617              0.0             1.00              0.0        3 -0.341847   \n",
      "807111              0.0             0.00              0.0        0 -0.451489   \n",
      "915925              0.2             0.70              0.0        0  0.052568   \n",
      "377054              0.0             1.00              0.0        3 -0.337560   \n",
      "\n",
      "            pca2  \n",
      "660550 -0.265330  \n",
      "550709 -0.280051  \n",
      "174594 -0.280051  \n",
      "770231 -0.280051  \n",
      "32921  -0.271391  \n",
      "...          ...  \n",
      "191480 -0.280051  \n",
      "719617 -0.067502  \n",
      "807111 -0.280051  \n",
      "915925 -0.113725  \n",
      "377054  0.089560  \n",
      "\n",
      "[737859 rows x 32 columns]\n"
     ]
    }
   ],
   "source": [
    "X_train, X_test, Y_train, Y_test = train_test_split(X, Y, test_size=0.3, random_state=0, stratify=Y)\n",
    "\n",
    "print(X_train)"
   ]
  },
  {
   "cell_type": "markdown",
   "id": "fb3ca549",
   "metadata": {},
   "source": [
    "### Missing datas\n",
    "useless here because no missing datas"
   ]
  },
  {
   "cell_type": "code",
   "execution_count": 72,
   "id": "96b4985d",
   "metadata": {},
   "outputs": [
    {
     "name": "stdout",
     "output_type": "stream",
     "text": [
      "Missing datas by columns :\n",
      " Header_Length      0\n",
      "LLC                0\n",
      "TCP                0\n",
      "UDP                0\n",
      "DHCP               0\n",
      "ARP                0\n",
      "ICMP               0\n",
      "IGMP               0\n",
      "IPv                0\n",
      "Tot sum            0\n",
      "SSH                0\n",
      "Min                0\n",
      "Max                0\n",
      "AVG                0\n",
      "Std                0\n",
      "Tot size           0\n",
      "IAT                0\n",
      "Number             0\n",
      "IRC                0\n",
      "SMTP               0\n",
      "ece_flag_number    0\n",
      "Time_To_Live       0\n",
      "Rate               0\n",
      "fin_flag_number    0\n",
      "syn_flag_number    0\n",
      "rst_flag_number    0\n",
      "psh_flag_number    0\n",
      "ack_flag_number    0\n",
      "cwr_flag_number    0\n",
      "Label              0\n",
      "cluster            0\n",
      "pca1               0\n",
      "pca2               0\n",
      "dtype: int64\n"
     ]
    }
   ],
   "source": [
    "from sklearn.impute import SimpleImputer # to handle missing data\n",
    "\n",
    "print(\"Missing datas by columns :\\n\", df.isnull().sum())\n",
    "\n",
    "#here there is no missing data so we don't have to manage this\n",
    "\n",
    "X_train.replace([np.inf, -np.inf], np.nan, inplace=True)\n",
    "X_test.replace([np.inf, -np.inf], np.nan, inplace=True)\n",
    "numeric_cols = X_train.select_dtypes(include=['int64', 'float64']).columns\n",
    "\n",
    "\n",
    "imputer = SimpleImputer(strategy='mean')\n",
    "X_train[numeric_cols] = imputer.fit_transform(X_train[numeric_cols])\n",
    "X_test[numeric_cols] = imputer.transform(X_test[numeric_cols])"
   ]
  },
  {
   "cell_type": "markdown",
   "id": "9272377e",
   "metadata": {},
   "source": [
    "### Feature Scaling\n",
    "To have the same scale between each columns (for instance, `Flow Duration` is way bigger than `Tot Fwd Pkts` and the model could misinterpret it and gives more importance to the Income column)"
   ]
  },
  {
   "cell_type": "code",
   "execution_count": 73,
   "id": "a56dc730",
   "metadata": {},
   "outputs": [
    {
     "name": "stdout",
     "output_type": "stream",
     "text": [
      "660550    1\n",
      "550709    1\n",
      "174594    1\n",
      "770231    1\n",
      "32921     1\n",
      "         ..\n",
      "191480    1\n",
      "719617    0\n",
      "807111    1\n",
      "915925    0\n",
      "377054    0\n",
      "Name: Label, Length: 737859, dtype: int64\n"
     ]
    }
   ],
   "source": [
    "scaler = StandardScaler()\n",
    "\n",
    "\n",
    "numeric_cols = X_train.select_dtypes(include=['int64', 'float64']).columns\n",
    "\n",
    "X_train[numeric_cols] = scaler.fit_transform(X_train[numeric_cols])\n",
    "X_test[numeric_cols] = scaler.transform(X_test[numeric_cols])\n",
    "\n",
    "print(Y_train)"
   ]
  },
  {
   "cell_type": "markdown",
   "id": "df7db1ee",
   "metadata": {},
   "source": [
    "### Prepare data for Deep Learning (convert datas into float32)"
   ]
  },
  {
   "cell_type": "code",
   "execution_count": 74,
   "id": "d8a51dc6",
   "metadata": {},
   "outputs": [
    {
     "data": {
      "text/plain": [
       "['../../preprocessed_data/CICIOT/Y_test.joblib']"
      ]
     },
     "execution_count": 74,
     "metadata": {},
     "output_type": "execute_result"
    }
   ],
   "source": [
    "X_train = X_train.astype('float32')\n",
    "X_test = X_test.astype('float32')\n",
    "\n",
    "\n",
    "Y_train = np.array(Y_train).astype('float32')\n",
    "Y_test = np.array(Y_test).astype('float32')\n",
    "\n",
    "X_train = np.expand_dims(X_train, axis=2)\n",
    "X_test = np.expand_dims(X_test, axis=2)\n",
    "\n",
    "joblib.dump(X_train, '../../preprocessed_data/CICIOT/X_train.joblib')\n",
    "joblib.dump(X_test, '../../preprocessed_data/CICIOT/X_test.joblib')\n",
    "joblib.dump(Y_train, '../../preprocessed_data/CICIOT/Y_train.joblib')\n",
    "joblib.dump(Y_test, '../../preprocessed_data/CICIOT/Y_test.joblib')\n"
   ]
  }
 ],
 "metadata": {
  "kernelspec": {
   "display_name": "SDNIOT-env",
   "language": "python",
   "name": "python3"
  },
  "language_info": {
   "codemirror_mode": {
    "name": "ipython",
    "version": 3
   },
   "file_extension": ".py",
   "mimetype": "text/x-python",
   "name": "python",
   "nbconvert_exporter": "python",
   "pygments_lexer": "ipython3",
   "version": "3.10.18"
  }
 },
 "nbformat": 4,
 "nbformat_minor": 5
}
